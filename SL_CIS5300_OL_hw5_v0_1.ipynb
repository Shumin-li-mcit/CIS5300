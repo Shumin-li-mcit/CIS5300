{
  "nbformat": 4,
  "nbformat_minor": 0,
  "metadata": {
    "colab": {
      "provenance": [],
      "include_colab_link": true
    },
    "kernelspec": {
      "name": "python3",
      "display_name": "Python 3"
    },
    "language_info": {
      "name": "python"
    }
  },
  "cells": [
    {
      "cell_type": "markdown",
      "metadata": {
        "id": "view-in-github",
        "colab_type": "text"
      },
      "source": [
        "<a href=\"https://colab.research.google.com/github/Shumin-li-mcit/CIS5300/blob/main/SL_CIS5300_OL_hw5_v0_1.ipynb\" target=\"_parent\"><img src=\"https://colab.research.google.com/assets/colab-badge.svg\" alt=\"Open In Colab\"/></a>"
      ]
    },
    {
      "cell_type": "markdown",
      "source": [
        "# Homework 5: Advanced Vector Space Models\n",
        "\n",
        "## Due Date: (TBD)\n",
        "## Total Points: 100 points\n",
        "- **Overview**: In this assignment, we will examine some advanced uses of vector representations of words. We are going to look at three different problems:\n",
        "\n",
        "  - Solving word relation problems like analogies using word embeddings.\n",
        "  - Comparing correlation for human judgments of similarity to the vector similarities\n",
        "  - Discovering the different senses of a ‘polysemous’ word by clustering together its paraphrases.\n",
        "\n",
        "- **Delieverables:** This assignment has several deliverables:\n",
        "  - Code (this notebook) *(Automatic Graded)*\n",
        "    - Part 1: answers to questions\n",
        "    - Part 3: 4 different clustering functions\n",
        "  - Write Up (Report.pdf) *(Manually Graded)*\n",
        "    - Part 2: answers to questions\n",
        "    - Part 3: F-scores for clustering algorithms & discussions about your models\n",
        "  - Leaderboard Without K *(Automatic Graded on GradeScope)*\n",
        "    - `test_nok_output_leaderboard.txt` = Task 3.4 output file\n",
        "  - Leaderboard With K *(Automatic Graded on GradeScope)*\n",
        "    - `test_output_leaderboard.txt` = Task 3.2 or 3.3 output file\n",
        "\n",
        "- **Grading**: We will use the auto-grading system called `PennGrader`. To complete the homework assignment, you should implement anything marked with `#TODO` and run the cell with `#PennGrader` note.\n",
        "\n",
        "\n",
        "## Recommended Readings\n",
        "- [Vector Semantics](https://web.stanford.edu/~jurafsky/slp3/6.pdf). Dan Jurafsky and James H. Martin. Speech and Language Processing (3rd edition draft).\n",
        "- [Efficient Estimation of Word Representations in Vector Space](https://arxiv.org/pdf/1301.3781.pdf?). Tomas Mikolov, Kai Chen, Greg Corrado, Jeffrey Dean. ArXiV 2013.\n",
        "- [Linguistic Regularities in Continuous Space Word Representations](https://www.aclweb.org/anthology/N13-1090). Tomas Mikolov, Wen-tau Yih, Geoffrey Zweig. NAACL 2013.\n",
        "- [Discovering Word Senses from Text](https://cs.uwaterloo.ca/~cdimarco/pdf/cs886/Pantel+Lin02.pdf). Patrick Pangel and Dekang Ling. KDD 2002.\n",
        "- [Linguistic Regularities in Sparse and Explicit Word Representations](https://aclanthology.org/W14-1618.pdf). Patrick Pangel and Dekang Ling. CoNLL 2014.\n",
        "- [Clustering Paraphrases by Word Sense](https://www.cis.upenn.edu/~ccb/publications/clustering-paraphrases-by-word-sense.pdf). Anne Cocos and Chris Callison-Burch. NAACL 2016.\n",
        "\n",
        "## To get started, **make a copy** of this colab notebook into your google drive!"
      ],
      "metadata": {
        "id": "mb4Yr8KhRhbe"
      }
    },
    {
      "cell_type": "code",
      "source": [],
      "metadata": {
        "id": "0AzJV18bkvcU"
      },
      "execution_count": null,
      "outputs": []
    },
    {
      "cell_type": "markdown",
      "metadata": {
        "id": "IDv9qN5c9357"
      },
      "source": [
        "## Setup 1: PennGrader Setup"
      ]
    },
    {
      "cell_type": "code",
      "source": [
        "## DO NOT CHANGE ANYTHING, JUST RUN\n",
        "%%capture\n",
        "!pip install penngrader-client"
      ],
      "metadata": {
        "id": "jpSjR2N19kk4"
      },
      "execution_count": null,
      "outputs": []
    },
    {
      "cell_type": "code",
      "source": [
        "%%writefile notebook-config.yaml\n",
        "\n",
        "grader_api_url: 'https://23whrwph9h.execute-api.us-east-1.amazonaws.com/default/Grader23'\n",
        "grader_api_key: 'flfkE736fA6Z8GxMDJe2q8Kfk8UDqjsG3GVqOFOa'"
      ],
      "metadata": {
        "id": "FvPA8Z2D9ki_",
        "colab": {
          "base_uri": "https://localhost:8080/"
        },
        "outputId": "d0fd3850-dc4c-4d2a-ba7b-335798eaac65"
      },
      "execution_count": null,
      "outputs": [
        {
          "output_type": "stream",
          "name": "stdout",
          "text": [
            "Writing notebook-config.yaml\n"
          ]
        }
      ]
    },
    {
      "cell_type": "code",
      "source": [
        "!cat notebook-config.yaml"
      ],
      "metadata": {
        "id": "xbeXT4Oj9kg_",
        "colab": {
          "base_uri": "https://localhost:8080/"
        },
        "outputId": "ec725e57-ee7d-408f-92e5-bda7f84a5506"
      },
      "execution_count": null,
      "outputs": [
        {
          "output_type": "stream",
          "name": "stdout",
          "text": [
            "\n",
            "grader_api_url: 'https://23whrwph9h.execute-api.us-east-1.amazonaws.com/default/Grader23'\n",
            "grader_api_key: 'flfkE736fA6Z8GxMDJe2q8Kfk8UDqjsG3GVqOFOa'\n"
          ]
        }
      ]
    },
    {
      "cell_type": "code",
      "source": [
        "from penngrader.grader import *\n",
        "\n",
        "## TODO - Start\n",
        "STUDENT_ID = 65847590 # YOUR PENN-ID GOES HERE AS AN INTEGER#\n",
        "## TODO - End\n",
        "\n",
        "SECRET = STUDENT_ID\n",
        "grader = PennGrader('notebook-config.yaml', 'CIS5300_OL_23Su_HW5', STUDENT_ID, SECRET)"
      ],
      "metadata": {
        "id": "OceP0Hr-9kfC",
        "colab": {
          "base_uri": "https://localhost:8080/"
        },
        "outputId": "d857c6fb-285c-4edb-8d6e-f4b53dfd5ce7"
      },
      "execution_count": null,
      "outputs": [
        {
          "output_type": "stream",
          "name": "stdout",
          "text": [
            "PennGrader initialized with Student ID: 65847590\n",
            "\n",
            "Make sure this correct or we will not be able to store your grade\n"
          ]
        }
      ]
    },
    {
      "cell_type": "code",
      "source": [
        "# check if the PennGrader is set up correctly\n",
        "# do not chance this cell, see if you get 4/4!\n",
        "name_str = 'Shumin Li'\n",
        "grader.grade(test_case_id = 'name_test', answer = name_str)"
      ],
      "metadata": {
        "id": "k5lAgKaYa-uN",
        "colab": {
          "base_uri": "https://localhost:8080/"
        },
        "outputId": "2bda9cc8-4b8d-4ae4-90fe-a51d83e6b1cd"
      },
      "execution_count": null,
      "outputs": [
        {
          "output_type": "stream",
          "name": "stdout",
          "text": [
            "Correct! You earned 4/4 points. You are a star!\n",
            "\n",
            "Your submission has been successfully recorded in the gradebook.\n"
          ]
        }
      ]
    },
    {
      "cell_type": "markdown",
      "source": [
        "## Setup 2: Dataset / Packages\n",
        "- **Run the following cells without changing anything!**"
      ],
      "metadata": {
        "id": "CHrdyiQdBt2K"
      }
    },
    {
      "cell_type": "code",
      "source": [
        "### This cell might take 3 min to run ###\n",
        "! echo \"Installing Magnitude.... (please wait, can take a while)\"\n",
        "! (curl https://raw.githubusercontent.com/plasticityai/magnitude/master/install-colab.sh | /bin/bash 1>/dev/null 2>/dev/null)\n",
        "! echo \"Done installing Magnitude.\""
      ],
      "metadata": {
        "id": "lNBeJLVcSusU",
        "colab": {
          "base_uri": "https://localhost:8080/"
        },
        "outputId": "958600eb-3825-41ae-cf51-1bd7302565b4"
      },
      "execution_count": null,
      "outputs": [
        {
          "output_type": "stream",
          "name": "stdout",
          "text": [
            "Installing Magnitude.... (please wait, can take a while)\n",
            "  % Total    % Received % Xferd  Average Speed   Time    Time     Time  Current\n",
            "                                 Dload  Upload   Total   Spent    Left  Speed\n",
            "100   137  100   137    0     0    895      0 --:--:-- --:--:-- --:--:--   889\n",
            "Done installing Magnitude.\n"
          ]
        }
      ]
    },
    {
      "cell_type": "code",
      "source": [
        "!pip install spacy\n",
        "!python -m spacy download en_core_web_sm\n",
        "!python -m spacy download en"
      ],
      "metadata": {
        "id": "nMLKUtdbw-qI",
        "colab": {
          "base_uri": "https://localhost:8080/"
        },
        "outputId": "cdf7ddee-24da-429b-9844-fa7697dde4ae"
      },
      "execution_count": null,
      "outputs": [
        {
          "output_type": "stream",
          "name": "stdout",
          "text": [
            "Looking in indexes: https://pypi.org/simple, https://us-python.pkg.dev/colab-wheels/public/simple/\n",
            "Requirement already satisfied: spacy in /usr/local/lib/python3.10/dist-packages (3.5.2)\n",
            "Requirement already satisfied: spacy-legacy<3.1.0,>=3.0.11 in /usr/local/lib/python3.10/dist-packages (from spacy) (3.0.12)\n",
            "Requirement already satisfied: spacy-loggers<2.0.0,>=1.0.0 in /usr/local/lib/python3.10/dist-packages (from spacy) (1.0.4)\n",
            "Requirement already satisfied: murmurhash<1.1.0,>=0.28.0 in /usr/local/lib/python3.10/dist-packages (from spacy) (1.0.9)\n",
            "Requirement already satisfied: cymem<2.1.0,>=2.0.2 in /usr/local/lib/python3.10/dist-packages (from spacy) (2.0.7)\n",
            "Requirement already satisfied: preshed<3.1.0,>=3.0.2 in /usr/local/lib/python3.10/dist-packages (from spacy) (3.0.8)\n",
            "Requirement already satisfied: thinc<8.2.0,>=8.1.8 in /usr/local/lib/python3.10/dist-packages (from spacy) (8.1.9)\n",
            "Requirement already satisfied: wasabi<1.2.0,>=0.9.1 in /usr/local/lib/python3.10/dist-packages (from spacy) (1.1.1)\n",
            "Requirement already satisfied: srsly<3.0.0,>=2.4.3 in /usr/local/lib/python3.10/dist-packages (from spacy) (2.4.6)\n",
            "Requirement already satisfied: catalogue<2.1.0,>=2.0.6 in /usr/local/lib/python3.10/dist-packages (from spacy) (2.0.8)\n",
            "Requirement already satisfied: typer<0.8.0,>=0.3.0 in /usr/local/lib/python3.10/dist-packages (from spacy) (0.7.0)\n",
            "Requirement already satisfied: pathy>=0.10.0 in /usr/local/lib/python3.10/dist-packages (from spacy) (0.10.1)\n",
            "Requirement already satisfied: smart-open<7.0.0,>=5.2.1 in /usr/local/lib/python3.10/dist-packages (from spacy) (6.3.0)\n",
            "Requirement already satisfied: tqdm<5.0.0,>=4.38.0 in /usr/local/lib/python3.10/dist-packages (from spacy) (4.65.0)\n",
            "Requirement already satisfied: numpy>=1.15.0 in /usr/local/lib/python3.10/dist-packages (from spacy) (1.22.4)\n",
            "Requirement already satisfied: requests<3.0.0,>=2.13.0 in /usr/local/lib/python3.10/dist-packages (from spacy) (2.27.1)\n",
            "Requirement already satisfied: pydantic!=1.8,!=1.8.1,<1.11.0,>=1.7.4 in /usr/local/lib/python3.10/dist-packages (from spacy) (1.10.7)\n",
            "Requirement already satisfied: jinja2 in /usr/local/lib/python3.10/dist-packages (from spacy) (3.1.2)\n",
            "Requirement already satisfied: setuptools in /usr/local/lib/python3.10/dist-packages (from spacy) (67.7.2)\n",
            "Requirement already satisfied: packaging>=20.0 in /usr/local/lib/python3.10/dist-packages (from spacy) (23.1)\n",
            "Requirement already satisfied: langcodes<4.0.0,>=3.2.0 in /usr/local/lib/python3.10/dist-packages (from spacy) (3.3.0)\n",
            "Requirement already satisfied: typing-extensions>=4.2.0 in /usr/local/lib/python3.10/dist-packages (from pydantic!=1.8,!=1.8.1,<1.11.0,>=1.7.4->spacy) (4.5.0)\n",
            "Requirement already satisfied: urllib3<1.27,>=1.21.1 in /usr/local/lib/python3.10/dist-packages (from requests<3.0.0,>=2.13.0->spacy) (1.26.15)\n",
            "Requirement already satisfied: certifi>=2017.4.17 in /usr/local/lib/python3.10/dist-packages (from requests<3.0.0,>=2.13.0->spacy) (2022.12.7)\n",
            "Requirement already satisfied: charset-normalizer~=2.0.0 in /usr/local/lib/python3.10/dist-packages (from requests<3.0.0,>=2.13.0->spacy) (2.0.12)\n",
            "Requirement already satisfied: idna<4,>=2.5 in /usr/local/lib/python3.10/dist-packages (from requests<3.0.0,>=2.13.0->spacy) (3.4)\n",
            "Requirement already satisfied: blis<0.8.0,>=0.7.8 in /usr/local/lib/python3.10/dist-packages (from thinc<8.2.0,>=8.1.8->spacy) (0.7.9)\n",
            "Requirement already satisfied: confection<1.0.0,>=0.0.1 in /usr/local/lib/python3.10/dist-packages (from thinc<8.2.0,>=8.1.8->spacy) (0.0.4)\n",
            "Requirement already satisfied: click<9.0.0,>=7.1.1 in /usr/local/lib/python3.10/dist-packages (from typer<0.8.0,>=0.3.0->spacy) (8.1.3)\n",
            "Requirement already satisfied: MarkupSafe>=2.0 in /usr/local/lib/python3.10/dist-packages (from jinja2->spacy) (2.1.2)\n",
            "2023-06-13 08:42:54.320563: I tensorflow/core/platform/cpu_feature_guard.cc:182] This TensorFlow binary is optimized to use available CPU instructions in performance-critical operations.\n",
            "To enable the following instructions: AVX2 FMA, in other operations, rebuild TensorFlow with the appropriate compiler flags.\n",
            "2023-06-13 08:42:56.571614: W tensorflow/compiler/tf2tensorrt/utils/py_utils.cc:38] TF-TRT Warning: Could not find TensorRT\n",
            "Looking in indexes: https://pypi.org/simple, https://us-python.pkg.dev/colab-wheels/public/simple/\n",
            "Collecting en-core-web-sm==3.5.0\n",
            "  Downloading https://github.com/explosion/spacy-models/releases/download/en_core_web_sm-3.5.0/en_core_web_sm-3.5.0-py3-none-any.whl (12.8 MB)\n",
            "\u001b[2K     \u001b[90m━━━━━━━━━━━━━━━━━━━━━━━━━━━━━━━━━━━━━━━━\u001b[0m \u001b[32m12.8/12.8 MB\u001b[0m \u001b[31m59.6 MB/s\u001b[0m eta \u001b[36m0:00:00\u001b[0m\n",
            "\u001b[?25hRequirement already satisfied: spacy<3.6.0,>=3.5.0 in /usr/local/lib/python3.10/dist-packages (from en-core-web-sm==3.5.0) (3.5.2)\n",
            "Requirement already satisfied: spacy-legacy<3.1.0,>=3.0.11 in /usr/local/lib/python3.10/dist-packages (from spacy<3.6.0,>=3.5.0->en-core-web-sm==3.5.0) (3.0.12)\n",
            "Requirement already satisfied: spacy-loggers<2.0.0,>=1.0.0 in /usr/local/lib/python3.10/dist-packages (from spacy<3.6.0,>=3.5.0->en-core-web-sm==3.5.0) (1.0.4)\n",
            "Requirement already satisfied: murmurhash<1.1.0,>=0.28.0 in /usr/local/lib/python3.10/dist-packages (from spacy<3.6.0,>=3.5.0->en-core-web-sm==3.5.0) (1.0.9)\n",
            "Requirement already satisfied: cymem<2.1.0,>=2.0.2 in /usr/local/lib/python3.10/dist-packages (from spacy<3.6.0,>=3.5.0->en-core-web-sm==3.5.0) (2.0.7)\n",
            "Requirement already satisfied: preshed<3.1.0,>=3.0.2 in /usr/local/lib/python3.10/dist-packages (from spacy<3.6.0,>=3.5.0->en-core-web-sm==3.5.0) (3.0.8)\n",
            "Requirement already satisfied: thinc<8.2.0,>=8.1.8 in /usr/local/lib/python3.10/dist-packages (from spacy<3.6.0,>=3.5.0->en-core-web-sm==3.5.0) (8.1.9)\n",
            "Requirement already satisfied: wasabi<1.2.0,>=0.9.1 in /usr/local/lib/python3.10/dist-packages (from spacy<3.6.0,>=3.5.0->en-core-web-sm==3.5.0) (1.1.1)\n",
            "Requirement already satisfied: srsly<3.0.0,>=2.4.3 in /usr/local/lib/python3.10/dist-packages (from spacy<3.6.0,>=3.5.0->en-core-web-sm==3.5.0) (2.4.6)\n",
            "Requirement already satisfied: catalogue<2.1.0,>=2.0.6 in /usr/local/lib/python3.10/dist-packages (from spacy<3.6.0,>=3.5.0->en-core-web-sm==3.5.0) (2.0.8)\n",
            "Requirement already satisfied: typer<0.8.0,>=0.3.0 in /usr/local/lib/python3.10/dist-packages (from spacy<3.6.0,>=3.5.0->en-core-web-sm==3.5.0) (0.7.0)\n",
            "Requirement already satisfied: pathy>=0.10.0 in /usr/local/lib/python3.10/dist-packages (from spacy<3.6.0,>=3.5.0->en-core-web-sm==3.5.0) (0.10.1)\n",
            "Requirement already satisfied: smart-open<7.0.0,>=5.2.1 in /usr/local/lib/python3.10/dist-packages (from spacy<3.6.0,>=3.5.0->en-core-web-sm==3.5.0) (6.3.0)\n",
            "Requirement already satisfied: tqdm<5.0.0,>=4.38.0 in /usr/local/lib/python3.10/dist-packages (from spacy<3.6.0,>=3.5.0->en-core-web-sm==3.5.0) (4.65.0)\n",
            "Requirement already satisfied: numpy>=1.15.0 in /usr/local/lib/python3.10/dist-packages (from spacy<3.6.0,>=3.5.0->en-core-web-sm==3.5.0) (1.22.4)\n",
            "Requirement already satisfied: requests<3.0.0,>=2.13.0 in /usr/local/lib/python3.10/dist-packages (from spacy<3.6.0,>=3.5.0->en-core-web-sm==3.5.0) (2.27.1)\n",
            "Requirement already satisfied: pydantic!=1.8,!=1.8.1,<1.11.0,>=1.7.4 in /usr/local/lib/python3.10/dist-packages (from spacy<3.6.0,>=3.5.0->en-core-web-sm==3.5.0) (1.10.7)\n",
            "Requirement already satisfied: jinja2 in /usr/local/lib/python3.10/dist-packages (from spacy<3.6.0,>=3.5.0->en-core-web-sm==3.5.0) (3.1.2)\n",
            "Requirement already satisfied: setuptools in /usr/local/lib/python3.10/dist-packages (from spacy<3.6.0,>=3.5.0->en-core-web-sm==3.5.0) (67.7.2)\n",
            "Requirement already satisfied: packaging>=20.0 in /usr/local/lib/python3.10/dist-packages (from spacy<3.6.0,>=3.5.0->en-core-web-sm==3.5.0) (23.1)\n",
            "Requirement already satisfied: langcodes<4.0.0,>=3.2.0 in /usr/local/lib/python3.10/dist-packages (from spacy<3.6.0,>=3.5.0->en-core-web-sm==3.5.0) (3.3.0)\n",
            "Requirement already satisfied: typing-extensions>=4.2.0 in /usr/local/lib/python3.10/dist-packages (from pydantic!=1.8,!=1.8.1,<1.11.0,>=1.7.4->spacy<3.6.0,>=3.5.0->en-core-web-sm==3.5.0) (4.5.0)\n",
            "Requirement already satisfied: urllib3<1.27,>=1.21.1 in /usr/local/lib/python3.10/dist-packages (from requests<3.0.0,>=2.13.0->spacy<3.6.0,>=3.5.0->en-core-web-sm==3.5.0) (1.26.15)\n",
            "Requirement already satisfied: certifi>=2017.4.17 in /usr/local/lib/python3.10/dist-packages (from requests<3.0.0,>=2.13.0->spacy<3.6.0,>=3.5.0->en-core-web-sm==3.5.0) (2022.12.7)\n",
            "Requirement already satisfied: charset-normalizer~=2.0.0 in /usr/local/lib/python3.10/dist-packages (from requests<3.0.0,>=2.13.0->spacy<3.6.0,>=3.5.0->en-core-web-sm==3.5.0) (2.0.12)\n",
            "Requirement already satisfied: idna<4,>=2.5 in /usr/local/lib/python3.10/dist-packages (from requests<3.0.0,>=2.13.0->spacy<3.6.0,>=3.5.0->en-core-web-sm==3.5.0) (3.4)\n",
            "Requirement already satisfied: blis<0.8.0,>=0.7.8 in /usr/local/lib/python3.10/dist-packages (from thinc<8.2.0,>=8.1.8->spacy<3.6.0,>=3.5.0->en-core-web-sm==3.5.0) (0.7.9)\n",
            "Requirement already satisfied: confection<1.0.0,>=0.0.1 in /usr/local/lib/python3.10/dist-packages (from thinc<8.2.0,>=8.1.8->spacy<3.6.0,>=3.5.0->en-core-web-sm==3.5.0) (0.0.4)\n",
            "Requirement already satisfied: click<9.0.0,>=7.1.1 in /usr/local/lib/python3.10/dist-packages (from typer<0.8.0,>=0.3.0->spacy<3.6.0,>=3.5.0->en-core-web-sm==3.5.0) (8.1.3)\n",
            "Requirement already satisfied: MarkupSafe>=2.0 in /usr/local/lib/python3.10/dist-packages (from jinja2->spacy<3.6.0,>=3.5.0->en-core-web-sm==3.5.0) (2.1.2)\n",
            "\u001b[38;5;2m✔ Download and installation successful\u001b[0m\n",
            "You can now load the package via spacy.load('en_core_web_sm')\n",
            "2023-06-13 08:43:13.720919: I tensorflow/core/platform/cpu_feature_guard.cc:182] This TensorFlow binary is optimized to use available CPU instructions in performance-critical operations.\n",
            "To enable the following instructions: AVX2 FMA, in other operations, rebuild TensorFlow with the appropriate compiler flags.\n",
            "2023-06-13 08:43:14.878277: W tensorflow/compiler/tf2tensorrt/utils/py_utils.cc:38] TF-TRT Warning: Could not find TensorRT\n",
            "\u001b[38;5;3m⚠ As of spaCy v3.0, shortcuts like 'en' are deprecated. Please use the\n",
            "full pipeline package name 'en_core_web_sm' instead.\u001b[0m\n",
            "Looking in indexes: https://pypi.org/simple, https://us-python.pkg.dev/colab-wheels/public/simple/\n",
            "Collecting en-core-web-sm==3.5.0\n",
            "  Downloading https://github.com/explosion/spacy-models/releases/download/en_core_web_sm-3.5.0/en_core_web_sm-3.5.0-py3-none-any.whl (12.8 MB)\n",
            "\u001b[2K     \u001b[90m━━━━━━━━━━━━━━━━━━━━━━━━━━━━━━━━━━━━━━━━\u001b[0m \u001b[32m12.8/12.8 MB\u001b[0m \u001b[31m59.4 MB/s\u001b[0m eta \u001b[36m0:00:00\u001b[0m\n",
            "\u001b[?25hRequirement already satisfied: spacy<3.6.0,>=3.5.0 in /usr/local/lib/python3.10/dist-packages (from en-core-web-sm==3.5.0) (3.5.2)\n",
            "Requirement already satisfied: spacy-legacy<3.1.0,>=3.0.11 in /usr/local/lib/python3.10/dist-packages (from spacy<3.6.0,>=3.5.0->en-core-web-sm==3.5.0) (3.0.12)\n",
            "Requirement already satisfied: spacy-loggers<2.0.0,>=1.0.0 in /usr/local/lib/python3.10/dist-packages (from spacy<3.6.0,>=3.5.0->en-core-web-sm==3.5.0) (1.0.4)\n",
            "Requirement already satisfied: murmurhash<1.1.0,>=0.28.0 in /usr/local/lib/python3.10/dist-packages (from spacy<3.6.0,>=3.5.0->en-core-web-sm==3.5.0) (1.0.9)\n",
            "Requirement already satisfied: cymem<2.1.0,>=2.0.2 in /usr/local/lib/python3.10/dist-packages (from spacy<3.6.0,>=3.5.0->en-core-web-sm==3.5.0) (2.0.7)\n",
            "Requirement already satisfied: preshed<3.1.0,>=3.0.2 in /usr/local/lib/python3.10/dist-packages (from spacy<3.6.0,>=3.5.0->en-core-web-sm==3.5.0) (3.0.8)\n",
            "Requirement already satisfied: thinc<8.2.0,>=8.1.8 in /usr/local/lib/python3.10/dist-packages (from spacy<3.6.0,>=3.5.0->en-core-web-sm==3.5.0) (8.1.9)\n",
            "Requirement already satisfied: wasabi<1.2.0,>=0.9.1 in /usr/local/lib/python3.10/dist-packages (from spacy<3.6.0,>=3.5.0->en-core-web-sm==3.5.0) (1.1.1)\n",
            "Requirement already satisfied: srsly<3.0.0,>=2.4.3 in /usr/local/lib/python3.10/dist-packages (from spacy<3.6.0,>=3.5.0->en-core-web-sm==3.5.0) (2.4.6)\n",
            "Requirement already satisfied: catalogue<2.1.0,>=2.0.6 in /usr/local/lib/python3.10/dist-packages (from spacy<3.6.0,>=3.5.0->en-core-web-sm==3.5.0) (2.0.8)\n",
            "Requirement already satisfied: typer<0.8.0,>=0.3.0 in /usr/local/lib/python3.10/dist-packages (from spacy<3.6.0,>=3.5.0->en-core-web-sm==3.5.0) (0.7.0)\n",
            "Requirement already satisfied: pathy>=0.10.0 in /usr/local/lib/python3.10/dist-packages (from spacy<3.6.0,>=3.5.0->en-core-web-sm==3.5.0) (0.10.1)\n",
            "Requirement already satisfied: smart-open<7.0.0,>=5.2.1 in /usr/local/lib/python3.10/dist-packages (from spacy<3.6.0,>=3.5.0->en-core-web-sm==3.5.0) (6.3.0)\n",
            "Requirement already satisfied: tqdm<5.0.0,>=4.38.0 in /usr/local/lib/python3.10/dist-packages (from spacy<3.6.0,>=3.5.0->en-core-web-sm==3.5.0) (4.65.0)\n",
            "Requirement already satisfied: numpy>=1.15.0 in /usr/local/lib/python3.10/dist-packages (from spacy<3.6.0,>=3.5.0->en-core-web-sm==3.5.0) (1.22.4)\n",
            "Requirement already satisfied: requests<3.0.0,>=2.13.0 in /usr/local/lib/python3.10/dist-packages (from spacy<3.6.0,>=3.5.0->en-core-web-sm==3.5.0) (2.27.1)\n",
            "Requirement already satisfied: pydantic!=1.8,!=1.8.1,<1.11.0,>=1.7.4 in /usr/local/lib/python3.10/dist-packages (from spacy<3.6.0,>=3.5.0->en-core-web-sm==3.5.0) (1.10.7)\n",
            "Requirement already satisfied: jinja2 in /usr/local/lib/python3.10/dist-packages (from spacy<3.6.0,>=3.5.0->en-core-web-sm==3.5.0) (3.1.2)\n",
            "Requirement already satisfied: setuptools in /usr/local/lib/python3.10/dist-packages (from spacy<3.6.0,>=3.5.0->en-core-web-sm==3.5.0) (67.7.2)\n",
            "Requirement already satisfied: packaging>=20.0 in /usr/local/lib/python3.10/dist-packages (from spacy<3.6.0,>=3.5.0->en-core-web-sm==3.5.0) (23.1)\n",
            "Requirement already satisfied: langcodes<4.0.0,>=3.2.0 in /usr/local/lib/python3.10/dist-packages (from spacy<3.6.0,>=3.5.0->en-core-web-sm==3.5.0) (3.3.0)\n",
            "Requirement already satisfied: typing-extensions>=4.2.0 in /usr/local/lib/python3.10/dist-packages (from pydantic!=1.8,!=1.8.1,<1.11.0,>=1.7.4->spacy<3.6.0,>=3.5.0->en-core-web-sm==3.5.0) (4.5.0)\n",
            "Requirement already satisfied: urllib3<1.27,>=1.21.1 in /usr/local/lib/python3.10/dist-packages (from requests<3.0.0,>=2.13.0->spacy<3.6.0,>=3.5.0->en-core-web-sm==3.5.0) (1.26.15)\n",
            "Requirement already satisfied: certifi>=2017.4.17 in /usr/local/lib/python3.10/dist-packages (from requests<3.0.0,>=2.13.0->spacy<3.6.0,>=3.5.0->en-core-web-sm==3.5.0) (2022.12.7)\n",
            "Requirement already satisfied: charset-normalizer~=2.0.0 in /usr/local/lib/python3.10/dist-packages (from requests<3.0.0,>=2.13.0->spacy<3.6.0,>=3.5.0->en-core-web-sm==3.5.0) (2.0.12)\n",
            "Requirement already satisfied: idna<4,>=2.5 in /usr/local/lib/python3.10/dist-packages (from requests<3.0.0,>=2.13.0->spacy<3.6.0,>=3.5.0->en-core-web-sm==3.5.0) (3.4)\n",
            "Requirement already satisfied: blis<0.8.0,>=0.7.8 in /usr/local/lib/python3.10/dist-packages (from thinc<8.2.0,>=8.1.8->spacy<3.6.0,>=3.5.0->en-core-web-sm==3.5.0) (0.7.9)\n",
            "Requirement already satisfied: confection<1.0.0,>=0.0.1 in /usr/local/lib/python3.10/dist-packages (from thinc<8.2.0,>=8.1.8->spacy<3.6.0,>=3.5.0->en-core-web-sm==3.5.0) (0.0.4)\n",
            "Requirement already satisfied: click<9.0.0,>=7.1.1 in /usr/local/lib/python3.10/dist-packages (from typer<0.8.0,>=0.3.0->spacy<3.6.0,>=3.5.0->en-core-web-sm==3.5.0) (8.1.3)\n",
            "Requirement already satisfied: MarkupSafe>=2.0 in /usr/local/lib/python3.10/dist-packages (from jinja2->spacy<3.6.0,>=3.5.0->en-core-web-sm==3.5.0) (2.1.2)\n",
            "\u001b[38;5;2m✔ Download and installation successful\u001b[0m\n",
            "You can now load the package via spacy.load('en_core_web_sm')\n"
          ]
        }
      ]
    },
    {
      "cell_type": "code",
      "source": [
        "!pip uninstall -y annoy\n",
        "!pip install annoy"
      ],
      "metadata": {
        "id": "LNP6g5CqwGBJ",
        "colab": {
          "base_uri": "https://localhost:8080/"
        },
        "outputId": "2646cf8a-5c39-4dea-8d55-0396e7578e18"
      },
      "execution_count": null,
      "outputs": [
        {
          "output_type": "stream",
          "name": "stdout",
          "text": [
            "Found existing installation: annoy 1.17.2\n",
            "Uninstalling annoy-1.17.2:\n",
            "  Successfully uninstalled annoy-1.17.2\n",
            "Looking in indexes: https://pypi.org/simple, https://us-python.pkg.dev/colab-wheels/public/simple/\n",
            "Collecting annoy\n",
            "  Downloading annoy-1.17.2.tar.gz (647 kB)\n",
            "\u001b[2K     \u001b[90m━━━━━━━━━━━━━━━━━━━━━━━━━━━━━━━━━━━━━━━\u001b[0m \u001b[32m647.4/647.4 kB\u001b[0m \u001b[31m7.2 MB/s\u001b[0m eta \u001b[36m0:00:00\u001b[0m\n",
            "\u001b[?25h  Preparing metadata (setup.py) ... \u001b[?25l\u001b[?25hdone\n",
            "Building wheels for collected packages: annoy\n",
            "  Building wheel for annoy (setup.py) ... \u001b[?25l\u001b[?25hdone\n",
            "  Created wheel for annoy: filename=annoy-1.17.2-cp310-cp310-linux_x86_64.whl size=582717 sha256=ea67e01249fa47e231df877b0b807fd7159bc7b491f38f15b230071328a1cf88\n",
            "  Stored in directory: /root/.cache/pip/wheels/7a/d9/59/473fa56df8e39430eeda369500b4e7127f5b243ba24c3c4297\n",
            "Successfully built annoy\n",
            "Installing collected packages: annoy\n",
            "Successfully installed annoy-1.17.2\n"
          ]
        }
      ]
    },
    {
      "cell_type": "code",
      "source": [
        "!pip install -U lz4==1.0.0\n",
        "!pip install -U xxhash==1.0.1\n",
        "!pip install -U fasteners==0.14.1"
      ],
      "metadata": {
        "id": "_E3grhSU2tNc",
        "colab": {
          "base_uri": "https://localhost:8080/"
        },
        "outputId": "a98f4a31-4e8a-46ab-bb61-d97e11d4f6b1"
      },
      "execution_count": null,
      "outputs": [
        {
          "output_type": "stream",
          "name": "stdout",
          "text": [
            "Looking in indexes: https://pypi.org/simple, https://us-python.pkg.dev/colab-wheels/public/simple/\n",
            "Collecting lz4==1.0.0\n",
            "  Downloading lz4-1.0.0.tar.gz (114 kB)\n",
            "\u001b[2K     \u001b[90m━━━━━━━━━━━━━━━━━━━━━━━━━━━━━━━━━━━━━━━\u001b[0m \u001b[32m114.7/114.7 kB\u001b[0m \u001b[31m3.9 MB/s\u001b[0m eta \u001b[36m0:00:00\u001b[0m\n",
            "\u001b[?25h  Preparing metadata (setup.py) ... \u001b[?25l\u001b[?25hdone\n",
            "Collecting deprecation (from lz4==1.0.0)\n",
            "  Downloading deprecation-2.1.0-py2.py3-none-any.whl (11 kB)\n",
            "Requirement already satisfied: packaging in /usr/local/lib/python3.10/dist-packages (from deprecation->lz4==1.0.0) (23.1)\n",
            "Building wheels for collected packages: lz4\n",
            "  Building wheel for lz4 (setup.py) ... \u001b[?25l\u001b[?25hdone\n",
            "  Created wheel for lz4: filename=lz4-1.0.0-cp310-cp310-linux_x86_64.whl size=913247 sha256=a0b18849e49998302c1c52cabbadafbb64892540d53efa725b4366dc9968e7a7\n",
            "  Stored in directory: /root/.cache/pip/wheels/40/dd/7b/fbef788e5fa2c03b81b0a8e443c5f62d4449e75d7838009c0f\n",
            "Successfully built lz4\n",
            "Installing collected packages: deprecation, lz4\n",
            "  Attempting uninstall: lz4\n",
            "    Found existing installation: lz4 4.3.2\n",
            "    Uninstalling lz4-4.3.2:\n",
            "      Successfully uninstalled lz4-4.3.2\n",
            "Successfully installed deprecation-2.1.0 lz4-1.0.0\n",
            "Looking in indexes: https://pypi.org/simple, https://us-python.pkg.dev/colab-wheels/public/simple/\n",
            "Collecting xxhash==1.0.1\n",
            "  Downloading xxhash-1.0.1.zip (28 kB)\n",
            "  Preparing metadata (setup.py) ... \u001b[?25l\u001b[?25hdone\n",
            "Building wheels for collected packages: xxhash\n",
            "  Building wheel for xxhash (setup.py) ... \u001b[?25l\u001b[?25hdone\n",
            "  Created wheel for xxhash: filename=xxhash-1.0.1-cp310-cp310-linux_x86_64.whl size=44612 sha256=f4fada00edc5891b419b320b37675eb3b330ae7b53b68e81dfbaa7ec65cbd8e1\n",
            "  Stored in directory: /root/.cache/pip/wheels/e3/ce/e2/ae19f1770d4777faec0d1eaf790a05c6f5e2a305eee8f5a22c\n",
            "Successfully built xxhash\n",
            "Installing collected packages: xxhash\n",
            "  Attempting uninstall: xxhash\n",
            "    Found existing installation: xxhash 3.2.0\n",
            "    Uninstalling xxhash-3.2.0:\n",
            "      Successfully uninstalled xxhash-3.2.0\n",
            "Successfully installed xxhash-1.0.1\n",
            "Looking in indexes: https://pypi.org/simple, https://us-python.pkg.dev/colab-wheels/public/simple/\n",
            "Collecting fasteners==0.14.1\n",
            "  Downloading fasteners-0.14.1-py2.py3-none-any.whl (20 kB)\n",
            "Requirement already satisfied: six in /usr/local/lib/python3.10/dist-packages (from fasteners==0.14.1) (1.16.0)\n",
            "Collecting monotonic>=0.1 (from fasteners==0.14.1)\n",
            "  Downloading monotonic-1.6-py2.py3-none-any.whl (8.2 kB)\n",
            "Installing collected packages: monotonic, fasteners\n",
            "  Attempting uninstall: fasteners\n",
            "    Found existing installation: fasteners 0.18\n",
            "    Uninstalling fasteners-0.18:\n",
            "      Successfully uninstalled fasteners-0.18\n",
            "Successfully installed fasteners-0.14.1 monotonic-1.6\n"
          ]
        }
      ]
    },
    {
      "cell_type": "code",
      "source": [
        "import collections\n",
        "import spacy\n",
        "spacy.load('en_core_web_sm')\n",
        "collections.Sequence = collections.abc.Sequence\n",
        "collections.Mapping = collections.abc.Mapping\n",
        "collections.MutableMapping = collections.abc.MutableMapping\n",
        "collections.Iterable = collections.abc.Iterable\n",
        "collections.MutableSet = collections.abc.MutableSet\n",
        "collections.Callable = collections.abc.Callable"
      ],
      "metadata": {
        "id": "IikFEENU0gIE"
      },
      "execution_count": null,
      "outputs": []
    },
    {
      "cell_type": "code",
      "source": [
        "from pymagnitude import * # if you encounter an error for this line, try re-running it - I know it's silly but it might work"
      ],
      "metadata": {
        "id": "AVMUXMsTVt4l"
      },
      "execution_count": null,
      "outputs": []
    },
    {
      "cell_type": "code",
      "source": [
        "# this might take ~2min to run\n",
        "!wget http://magnitude.plasticity.ai/word2vec/light/GoogleNews-vectors-negative300.magnitude"
      ],
      "metadata": {
        "id": "7BtMn0op0ehZ",
        "colab": {
          "base_uri": "https://localhost:8080/"
        },
        "outputId": "23bf1973-af40-4b8b-f908-6093804d9d54"
      },
      "execution_count": null,
      "outputs": [
        {
          "output_type": "stream",
          "name": "stdout",
          "text": [
            "--2023-06-13 08:47:30--  http://magnitude.plasticity.ai/word2vec/light/GoogleNews-vectors-negative300.magnitude\n",
            "Resolving magnitude.plasticity.ai (magnitude.plasticity.ai)... 54.231.49.153, 52.216.76.67, 52.216.128.122, ...\n",
            "Connecting to magnitude.plasticity.ai (magnitude.plasticity.ai)|54.231.49.153|:80... connected.\n",
            "HTTP request sent, awaiting response... 200 OK\n",
            "Length: 4211335168 (3.9G) [binary/octet-stream]\n",
            "Saving to: ‘GoogleNews-vectors-negative300.magnitude’\n",
            "\n",
            "GoogleNews-vectors- 100%[===================>]   3.92G  46.3MB/s    in 78s     \n",
            "\n",
            "2023-06-13 08:48:48 (51.5 MB/s) - ‘GoogleNews-vectors-negative300.magnitude’ saved [4211335168/4211335168]\n",
            "\n"
          ]
        }
      ]
    },
    {
      "cell_type": "code",
      "source": [
        "from itertools import combinations\n",
        "from prettytable import PrettyTable\n",
        "from sklearn.cluster import KMeans\n",
        "import random\n",
        "import pandas as pd\n",
        "import numpy as np\n",
        "import scipy.stats as stats"
      ],
      "metadata": {
        "id": "aiDQlu759Zee"
      },
      "execution_count": null,
      "outputs": []
    },
    {
      "cell_type": "code",
      "source": [
        "!gdown 1luyNlDu0GdH_B3D6rjYLKIGGfz_S3yU5 # GoogleNews-vectors-negative300.filter.magnitude\n",
        "!gdown 17a4uC7eNrYdtVlW60wshjyDLcFxTtq0y # SimLex-999.txt\n",
        "!gdown 1h2DHMuubO7OEVxmGQGbvb2Ovj_A6hakC # dev_input.txt\n",
        "!gdown 1I83_VA_i_UB-9cf9GcEe5oGPoc8-ZmLh # dev_output.txt\n",
        "!gdown 1CjK3eYkacyxo3gdLbf9IGdk1DFEfAYvM # test_input.txt\n",
        "!gdown 1sZuq8a2zHJfe6bLjrK3wD2jrZWkQ0-6S # test_nok_input.txt\n",
        "!gdown 1gK13ZVDMA5XYi8sZY8G1gOIZMdxGTuay # coocvec-500mostfreq-window-3.vec.filter.magnitude\n",
        "!gdown 1UTgs2Vyu8CKLgQW84v-t-AcJC6Rlpv_l # makecooccurrences.py\n",
        "# !gdown 1eKtg5vbzA1iXZuS2FGxQB8Bm1tpzru9K # part2.py"
      ],
      "metadata": {
        "id": "GapecdgJoQhO",
        "colab": {
          "base_uri": "https://localhost:8080/"
        },
        "outputId": "3c44eb7c-8f44-4347-d4bc-0dd32ebc5f10"
      },
      "execution_count": null,
      "outputs": [
        {
          "output_type": "stream",
          "name": "stdout",
          "text": [
            "Downloading...\n",
            "From: https://drive.google.com/uc?id=1luyNlDu0GdH_B3D6rjYLKIGGfz_S3yU5\n",
            "To: /content/GoogleNews-vectors-negative300.filter.magnitude\n",
            "100% 3.99M/3.99M [00:00<00:00, 78.7MB/s]\n",
            "Downloading...\n",
            "From: https://drive.google.com/uc?id=17a4uC7eNrYdtVlW60wshjyDLcFxTtq0y\n",
            "To: /content/SimLex-999.txt\n",
            "100% 43.0k/43.0k [00:00<00:00, 15.7MB/s]\n",
            "Downloading...\n",
            "From: https://drive.google.com/uc?id=1h2DHMuubO7OEVxmGQGbvb2Ovj_A6hakC\n",
            "To: /content/dev_input.txt\n",
            "100% 17.4k/17.4k [00:00<00:00, 31.7MB/s]\n",
            "Downloading...\n",
            "From: https://drive.google.com/uc?id=1I83_VA_i_UB-9cf9GcEe5oGPoc8-ZmLh\n",
            "To: /content/dev_output.txt\n",
            "100% 23.1k/23.1k [00:00<00:00, 49.3MB/s]\n",
            "Downloading...\n",
            "From: https://drive.google.com/uc?id=1CjK3eYkacyxo3gdLbf9IGdk1DFEfAYvM\n",
            "To: /content/test_input.txt\n",
            "100% 3.81k/3.81k [00:00<00:00, 11.8MB/s]\n",
            "Downloading...\n",
            "From: https://drive.google.com/uc?id=1sZuq8a2zHJfe6bLjrK3wD2jrZWkQ0-6S\n",
            "To: /content/test_nok_input.txt\n",
            "100% 4.55k/4.55k [00:00<00:00, 12.0MB/s]\n",
            "Downloading...\n",
            "From: https://drive.google.com/uc?id=1gK13ZVDMA5XYi8sZY8G1gOIZMdxGTuay\n",
            "To: /content/coocvec-500mostfreq-window-3.filter.magnitude\n",
            "100% 3.50M/3.50M [00:00<00:00, 141MB/s]\n",
            "Downloading...\n",
            "From: https://drive.google.com/uc?id=1UTgs2Vyu8CKLgQW84v-t-AcJC6Rlpv_l\n",
            "To: /content/makecooccurrences.py\n",
            "100% 2.31k/2.31k [00:00<00:00, 9.12MB/s]\n"
          ]
        }
      ]
    },
    {
      "cell_type": "markdown",
      "source": [
        "# Section 1: Exploring Analogies and Other Word Pair Relationships (10 points)\n",
        "**Background:** Word2vec is a very cool word embedding method that was developed by [Thomas Mikolov et al](https://aclanthology.org/N13-1090/). One of the noteworthy things about the method is that it can be used to solve word analogy problems like:\n",
        "\n",
        "***man is to king as woman is to [blank]***\n",
        "\n",
        "The way that it they take the vectors representing king, man and woman and perform some vector arithmetic to produce a vector that is close to the expected answer:\n",
        "\n",
        "***king − man + woman ≈ queen***\n",
        "\n",
        "We can find the nearest vector in the vocabulary by looking for argmax *cos(x, king − man + woman)*. Omar Levy has an explanation of the method in this [Quora post](https://www.quora.com/unanswered/How-does-Mikolovs-word-analogy-for-word-embedding-work-How-can-I-code-such-a-function) and in the [paper](https://aclanthology.org/W14-1618/).\n",
        "\n",
        "In addition to solving this sort of analogy problem, the same sort of vector arithmetic was used with word2vec embeddings to find relationships between pairs of words like the following:\n",
        "\n",
        "<img src='https://drive.google.com/uc?id=1_ewkcJ6EQMuIK0SrgBulzK7LFi8kD9nD'>\n",
        "\n",
        "In the first part of the assigment, you will play around with the [Magnitude](https://github.com/plasticityai/magnitude) library. You will use Magnitude to load a vector model trained using word2vec, and use it to manipulate and analyze the vectors. In order to proceed further, you need to use the Medium Google-word2vec embedding model trained on Google News by using file `GoogleNews-vectors-negative300.magnitude`. Once the file is downloaded use the following Python commands:"
      ],
      "metadata": {
        "id": "PGlvLsC9B-gI"
      }
    },
    {
      "cell_type": "code",
      "source": [
        "# file_path = \"/content/GoogleNews-vectors-negative300.filter.magnitude\"\n",
        "file_path = \"/content/GoogleNews-vectors-negative300.magnitude\"\n",
        "vectors = Magnitude(file_path)"
      ],
      "metadata": {
        "id": "YcILHclcou0L"
      },
      "execution_count": null,
      "outputs": []
    },
    {
      "cell_type": "code",
      "source": [
        "l = ['cat', 'dog', 'gdhsjkfhd', 'book']\n",
        "matrix = vectors.query('cat')[:200]\n",
        "print(matrix.shape)\n",
        "for i in l[1:]:\n",
        "  if i in vectors:\n",
        "    matrix = np.vstack([matrix, vectors.query(i)[:200]])\n",
        "    print(matrix.shape)\n",
        "  else:\n",
        "    ran_idx = random.choice(range(len(vectors)))\n",
        "    matrix = np.vstack([matrix, vectors.query(vectors[ran_idx][0])[:200]])\n",
        "    print(matrix.shape)\n",
        "matrix.shape"
      ],
      "metadata": {
        "colab": {
          "base_uri": "https://localhost:8080/"
        },
        "id": "eh6rMz1wIxTf",
        "outputId": "76e7be74-7a92-4dae-d761-b0d0c9c82939"
      },
      "execution_count": null,
      "outputs": [
        {
          "output_type": "stream",
          "name": "stdout",
          "text": [
            "(200,)\n",
            "(2, 200)\n",
            "(3, 200)\n",
            "(4, 200)\n"
          ]
        },
        {
          "output_type": "execute_result",
          "data": {
            "text/plain": [
              "(4, 200)"
            ]
          },
          "metadata": {},
          "execution_count": 310
        }
      ]
    },
    {
      "cell_type": "code",
      "source": [
        "vectors.query(vectors[1][0])[:200].shape"
      ],
      "metadata": {
        "colab": {
          "base_uri": "https://localhost:8080/"
        },
        "id": "hQvXtR-vNsTB",
        "outputId": "75c08252-2c06-409a-add7-82324f446b67"
      },
      "execution_count": null,
      "outputs": [
        {
          "output_type": "execute_result",
          "data": {
            "text/plain": [
              "(200,)"
            ]
          },
          "metadata": {},
          "execution_count": 306
        }
      ]
    },
    {
      "cell_type": "markdown",
      "source": [
        "Now you can use vectors to perform queries. For instance, you can query the distance of cat and dog in the following way:"
      ],
      "metadata": {
        "id": "RJKLr2kjatM3"
      }
    },
    {
      "cell_type": "code",
      "source": [
        "print(vectors.distance(\"cat\", \"dog\")) # should be ~0.69"
      ],
      "metadata": {
        "id": "L-XKt2tpZzi7",
        "colab": {
          "base_uri": "https://localhost:8080/"
        },
        "outputId": "7f39eb95-64b5-48d2-bf3e-c2bb00e6da1a"
      },
      "execution_count": null,
      "outputs": [
        {
          "output_type": "stream",
          "name": "stdout",
          "text": [
            "0.69145405\n"
          ]
        }
      ]
    },
    {
      "cell_type": "markdown",
      "source": [
        "The questions below are designed to familiarize you with the Magnitude word2vec package and get you thinking about what type of semantic information word embeddings can encode. We recommend reading using the [library section](https://github.com/plasticityai/magnitude#using-the-library) to reply to the following set of questions:"
      ],
      "metadata": {
        "id": "Q41x7bVXbLY-"
      }
    },
    {
      "cell_type": "markdown",
      "source": [
        "- **Problem 1.1:** What is the dimensionality of these word embeddings? Provide an integer answer."
      ],
      "metadata": {
        "id": "TUnnuRJfbXf5"
      }
    },
    {
      "cell_type": "code",
      "source": [
        "# TODO\n",
        "dimensionality = vectors.dim\n",
        "\n",
        "# PennGrader - DO NOT CHANGE\n",
        "grader.grade(test_case_id = 'test_q11_dim', answer = dimensionality) # we only check partial data"
      ],
      "metadata": {
        "id": "hVUR92UPbSkn",
        "colab": {
          "base_uri": "https://localhost:8080/"
        },
        "outputId": "6ba1f34e-33dd-473b-9c3f-fa2d705432d6"
      },
      "execution_count": null,
      "outputs": [
        {
          "output_type": "stream",
          "name": "stdout",
          "text": [
            "Correct! You earned 1/1 points. You are a star!\n",
            "\n",
            "Your submission has been successfully recorded in the gradebook.\n"
          ]
        }
      ]
    },
    {
      "cell_type": "markdown",
      "source": [
        " - **Problem 1.2:** What are the top-3 most similar words to `picnic` (not including `picnic` itself)? (Hint: try using `vectors.most_similar`)"
      ],
      "metadata": {
        "id": "U-GAJhyvbido"
      }
    },
    {
      "cell_type": "code",
      "source": [
        "# TODO\n",
        "mostsim = ['picnics', 'picnic_lunch', 'Picnic','potluck_picnic','picnic_supper']\n",
        "\n",
        "# PennGrader - DO NOT CHANGE\n",
        "# reload_grader()\n",
        "grader.grade(test_case_id = 'test_q12_picnic', answer = mostsim) # we only check partial data"
      ],
      "metadata": {
        "id": "pTANEQk9bpa_",
        "colab": {
          "base_uri": "https://localhost:8080/"
        },
        "outputId": "7e52915a-a0ef-41e3-c40f-59efc66884b4"
      },
      "execution_count": null,
      "outputs": [
        {
          "output_type": "stream",
          "name": "stdout",
          "text": [
            "Correct! You earned 1/1 points. You are a star!\n",
            "\n",
            "Your submission has been successfully recorded in the gradebook.\n"
          ]
        }
      ]
    },
    {
      "cell_type": "code",
      "source": [
        "vectors.most_similar('picnic', topn = 5)"
      ],
      "metadata": {
        "colab": {
          "base_uri": "https://localhost:8080/"
        },
        "id": "SHgDUmJs2Rml",
        "outputId": "5ebcd0cd-bf9f-490a-e4aa-2794a78c8741"
      },
      "execution_count": null,
      "outputs": [
        {
          "output_type": "execute_result",
          "data": {
            "text/plain": [
              "[('picnics', 0.7400875),\n",
              " ('picnic_lunch', 0.7213739),\n",
              " ('Picnic', 0.700534),\n",
              " ('potluck_picnic', 0.6683274),\n",
              " ('picnic_supper', 0.65189123)]"
            ]
          },
          "metadata": {},
          "execution_count": 26
        }
      ]
    },
    {
      "cell_type": "markdown",
      "source": [
        " - **Problem 1.3:** According to the word embeddings, which of these words is not like the others? `['tissue', 'papyrus', 'manila', 'newsprint', 'parchment', 'gazette']`"
      ],
      "metadata": {
        "id": "2cuv5HzCbpzW"
      }
    },
    {
      "cell_type": "code",
      "source": [
        "# TODO\n",
        "doesnt_match = \"tissue\"\n",
        "\n",
        "# PennGrader - DO NOT CHANGE\n",
        "# reload_grader()\n",
        "grader.grade(test_case_id = 'test_q13_does_not_match', answer = doesnt_match) # we only check partial data"
      ],
      "metadata": {
        "id": "eB3WOnVKbv_R",
        "colab": {
          "base_uri": "https://localhost:8080/"
        },
        "outputId": "02042e45-6b83-4fcf-d8e4-6ce16f28d989"
      },
      "execution_count": null,
      "outputs": [
        {
          "output_type": "stream",
          "name": "stdout",
          "text": [
            "Correct! You earned 1/1 points. You are a star!\n",
            "\n",
            "Your submission has been successfully recorded in the gradebook.\n"
          ]
        }
      ]
    },
    {
      "cell_type": "code",
      "source": [
        "vectors.doesnt_match(['tissue', 'papyrus', 'manila', 'newsprint', 'parchment', 'gazette'])"
      ],
      "metadata": {
        "colab": {
          "base_uri": "https://localhost:8080/",
          "height": 36
        },
        "id": "DWTRk91w4KHN",
        "outputId": "d2a11dc2-0609-4625-d24b-3485791d456c"
      },
      "execution_count": null,
      "outputs": [
        {
          "output_type": "execute_result",
          "data": {
            "text/plain": [
              "'tissue'"
            ],
            "application/vnd.google.colaboratory.intrinsic+json": {
              "type": "string"
            }
          },
          "metadata": {},
          "execution_count": 31
        }
      ]
    },
    {
      "cell_type": "markdown",
      "source": [
        " -  **Problem 1.4:** Solve the following analogy: `leg` is to `jump` as X is to `throw`"
      ],
      "metadata": {
        "id": "cjol744PbwIl"
      }
    },
    {
      "cell_type": "code",
      "source": [
        "vectors.most_similar_cosmul(positive = ['leg', 'throw'], negative = ['jump'])"
      ],
      "metadata": {
        "colab": {
          "base_uri": "https://localhost:8080/"
        },
        "id": "evSvI-CF4ayd",
        "outputId": "004c3479-d139-4346-ccf4-969c130b7a3d"
      },
      "execution_count": null,
      "outputs": [
        {
          "output_type": "execute_result",
          "data": {
            "text/plain": [
              "[('forearm', 0.876599),\n",
              " ('metacarpal_bone', 0.8747273),\n",
              " ('elbow', 0.86924946),\n",
              " ('metacarpal_bones', 0.86801016),\n",
              " ('knuckle', 0.8675384),\n",
              " ('shoulder', 0.86726993),\n",
              " ('shin', 0.8642468),\n",
              " ('nonthrowing_shoulder', 0.86377436),\n",
              " ('dislocating_finger', 0.857464),\n",
              " ('pinkie', 0.851935)]"
            ]
          },
          "metadata": {},
          "execution_count": 33
        }
      ]
    },
    {
      "cell_type": "code",
      "source": [
        "# TODO\n",
        "analogy = \"forearm\"\n",
        "\n",
        "# PennGrader - DO NOT CHANGE\n",
        "# reload_grader()\n",
        "grader.grade(test_case_id = 'test_q14_analogy', answer = analogy)"
      ],
      "metadata": {
        "id": "guWIM6eLb2jA",
        "colab": {
          "base_uri": "https://localhost:8080/"
        },
        "outputId": "b9356564-cc2c-44b9-8d43-43a376619445"
      },
      "execution_count": null,
      "outputs": [
        {
          "output_type": "stream",
          "name": "stdout",
          "text": [
            "Correct! You earned 1/1 points. You are a star!\n",
            "\n",
            "Your submission has been successfully recorded in the gradebook.\n"
          ]
        }
      ]
    },
    {
      "cell_type": "markdown",
      "source": [
        "# Section 2: SimLex-999 Dataset Revisited (10 points - `manual grading`)\n",
        "Let us revisit [SimLex-999](https://fh295.github.io/simlex.html) dataset from Extra Credit in HW4. We will use `SimLex-999.txt`.\n",
        "\n",
        "We provided you a script below that:\n",
        "\n",
        "1. Takes `word1`, `word2`, and `SimLex` columns from the `SimLex-999.txt` dataset,\n",
        "2. Computes the similarity between `word1` and `word2` using `GoogleNews-vectors-negative300.magnitude` from Part 1\n",
        "3. Displays correlation for human judgments of similarity to the vector similarities using [Kendall’s Tau](https://en.wikipedia.org/wiki/Kendall_rank_correlation_coefficient)."
      ],
      "metadata": {
        "id": "xfGRGgLCc38j"
      }
    },
    {
      "cell_type": "code",
      "source": [
        "# Reference Code - DO NOT CHANGE\n",
        "vectors = Magnitude(\"/content/GoogleNews-vectors-negative300.magnitude\")\n",
        "df = pd.read_csv('/content/SimLex-999.txt', sep='\\t')[['word1', 'word2', 'SimLex999']]\n",
        "human_scores = []\n",
        "vector_scores = []\n",
        "\n",
        "counter = 0\n",
        "for word1, word2, score in df.values.tolist():\n",
        "    human_scores.append(score)\n",
        "    similarity_score = vectors.similarity(word1, word2)\n",
        "    vector_scores.append(similarity_score)\n",
        "    if counter < 5: # only print the first five\n",
        "        print(f'{word1},{word2},{score},{similarity_score:.4f}')\n",
        "        counter += 1\n",
        "\n",
        "print()\n",
        "correlation, p_value = stats.kendalltau(human_scores, vector_scores)\n",
        "print(f'Correlation = {correlation}, P Value = {p_value}')"
      ],
      "metadata": {
        "id": "HC0Rc41Hdikw",
        "colab": {
          "base_uri": "https://localhost:8080/"
        },
        "outputId": "32fe08e4-f5a4-40a4-b237-76bccf8c2c66"
      },
      "execution_count": null,
      "outputs": [
        {
          "output_type": "stream",
          "name": "stdout",
          "text": [
            "old,new,1.58,0.2228\n",
            "smart,intelligent,9.2,0.6495\n",
            "hard,difficult,8.77,0.6026\n",
            "happy,cheerful,9.55,0.3838\n",
            "hard,easy,0.95,0.4710\n",
            "\n",
            "Correlation = 0.30913428432001067, P Value = 2.6592796177776212e-48\n"
          ]
        }
      ]
    },
    {
      "cell_type": "markdown",
      "source": [
        "In this part of the assignment we would like for you to explore how the Kendall’s Tau correlation changes based on the similarity. You may use the script we provided or create your own script.\n",
        "\n",
        "**Please respond to the following questions in your `report.pdf`**\n",
        "\n",
        "Note: Extra points will be awarded for creativity and a more thorough qualitative analysis.)"
      ],
      "metadata": {
        "id": "CJ2LrGtYc9AJ"
      }
    },
    {
      "cell_type": "markdown",
      "source": [
        " - **Problem 2.1:** What is the least similar 2 pairs of words based on human judgement scores and vector similarity? Do the pairs match?\n",
        "\n",
        "- **Answer**: `[('absence', 'presence'), ('absorb', 'learn')]` for both human judgement and vector similarity."
      ],
      "metadata": {
        "id": "fwDFA5rffQ5E"
      }
    },
    {
      "cell_type": "code",
      "source": [
        "human_scores = {}\n",
        "vector_scores = {}\n",
        "\n",
        "for word1, word2, score in df.values.tolist():\n",
        "  human_scores[(word1, word2)] = score\n",
        "  similarity_score = vectors.similarity(word1, word2)\n",
        "  vector_scores[(word1, word2)] = similarity_score"
      ],
      "metadata": {
        "id": "uTbkQ8kl6XPo"
      },
      "execution_count": null,
      "outputs": []
    },
    {
      "cell_type": "code",
      "source": [
        "srt_human_scores = sorted(human_scores)\n",
        "srt_vector_scores = sorted(vector_scores)\n",
        "\n",
        "print(f'Least similar two paris of words by human scoring: {srt_human_scores[0:2]}')\n",
        "print(f'Least similar two paris of words by vector scoring: {srt_vector_scores[0:2]}')"
      ],
      "metadata": {
        "colab": {
          "base_uri": "https://localhost:8080/"
        },
        "id": "_L85cBra64Gf",
        "outputId": "9f361550-99fe-43df-ad94-53d1a34b0982"
      },
      "execution_count": null,
      "outputs": [
        {
          "output_type": "stream",
          "name": "stdout",
          "text": [
            "Least similar two paris of words by human scoring: [('absence', 'presence'), ('absorb', 'learn')]\n",
            "Least similar two paris of words by vector scoring: [('absence', 'presence'), ('absorb', 'learn')]\n"
          ]
        }
      ]
    },
    {
      "cell_type": "markdown",
      "source": [
        " - **Probelm 2.2:** What is the most similar 2 pairs of words based on human judgement scores and vector similarity? Do the pairs match?\n",
        "\n",
        " - **Answer**:` [('world', 'globe'), ('yard', 'inch')] `for both human judgement and vector similarity."
      ],
      "metadata": {
        "id": "QlymLVazfVJH"
      }
    },
    {
      "cell_type": "code",
      "source": [
        "srt_human_scores = sorted(human_scores)\n",
        "srt_vector_scores = sorted(vector_scores)\n",
        "\n",
        "print(f'most similar two paris of words by human scoring: {srt_human_scores[-2:]}')\n",
        "print(f'most similar two paris of words by vector scoring: {srt_vector_scores[-2:]}')"
      ],
      "metadata": {
        "colab": {
          "base_uri": "https://localhost:8080/"
        },
        "id": "hB-MouM2A-he",
        "outputId": "b017ee2b-edc7-42a1-fa28-ffb19676d2b0"
      },
      "execution_count": null,
      "outputs": [
        {
          "output_type": "stream",
          "name": "stdout",
          "text": [
            "most similar two paris of words by human scoring: [('world', 'globe'), ('yard', 'inch')]\n",
            "most similar two paris of words by vector scoring: [('world', 'globe'), ('yard', 'inch')]\n"
          ]
        }
      ]
    },
    {
      "cell_type": "markdown",
      "source": [
        "- **Problem 2.3:** Provide correlation scores and p values for the following models:\n",
        "   - (Stanford - GloVe Wikipedia 2014 + Gigaword 5 6B Medium 50D) `glove.6B.50d.magnitude`\n",
        "   - (Stanford - GloVe Wikipedia 2014 + Gigaword 5 6B Medium 100D)`glove.6B.100d.magnitude`\n",
        "   - (Stanford - GloVe Wikipedia 2014 + Gigaword 5 6B Medium 200D) `glove.6B.200d.magnitude`\n",
        "   - (Stanford - GloVe Wikipedia 2014 + Gigaword 5 6B Medium 300D) `glove.6B.300d.magnitude`\n",
        "   - (Stanford - GloVe Common Crawl Medium 300D) `love.840B.300d.magnitude`\n",
        "\n",
        "  **How do those correlation value compare to each other?**\n",
        "\n",
        "**Answer:**\n",
        "\n",
        "\n",
        "- /content/glove.6B.50d.magnitude: Correlation = 0.18100126067449063, P Value = 1.2242211264976856e-17\n",
        "\n",
        "\n",
        "- /content/glove.6B.100d.magnitude: Correlation = 0.20506409092608713, P Value = 3.41228663395174e-22\n",
        "\n",
        "\n",
        "- /content/glove.6B.200d.magnitude: Correlation = 0.23670323199262908, P Value = 4.9936324557833286e-29\n",
        "\n",
        "\n",
        "- /content/glove.6B.300d.magnitude: Correlation = 0.25894302181101986, P Value = 2.080389068003349e-34\n",
        "\n",
        "\n",
        "- /content/glove.840B.300d.magnitude: Correlation = 0.2860664813618063, P Value = 1.293335613361039e-41\n",
        "\n",
        "\n",
        "The correlation between human judgement score and vector similarity socre is getting better as the vector dimension and data size increase. At the same time, the P value is getting lower, in another word, the correlation is more statistically significant.\n",
        "\n",
        "\n",
        "\n",
        "\n",
        "\n",
        "\n",
        "\n"
      ],
      "metadata": {
        "id": "3irwnpa9fcLM"
      }
    },
    {
      "cell_type": "code",
      "source": [
        "%%capture\n",
        "!wget http://magnitude.plasticity.ai/glove/medium/glove.6B.50d.magnitude\n",
        "!wget http://magnitude.plasticity.ai/glove/medium/glove.6B.100d.magnitude\n",
        "!wget http://magnitude.plasticity.ai/glove/medium/glove.6B.200d.magnitude\n",
        "!wget http://magnitude.plasticity.ai/glove/medium/glove.6B.300d.magnitude\n",
        "!wget http://magnitude.plasticity.ai/glove/medium/glove.840B.300d.magnitude"
      ],
      "metadata": {
        "id": "V0ABIVIXs09b"
      },
      "execution_count": null,
      "outputs": []
    },
    {
      "cell_type": "code",
      "source": [
        "## YOUR CODE HERE ##\n",
        "# you can re-use the code from the Reference Code"
      ],
      "metadata": {
        "id": "hVfFpp44zECt"
      },
      "execution_count": null,
      "outputs": []
    },
    {
      "cell_type": "code",
      "source": [
        "paths = [\n",
        "    '/content/glove.6B.50d.magnitude',\n",
        "    '/content/glove.6B.100d.magnitude',\n",
        "    '/content/glove.6B.200d.magnitude',\n",
        "    '/content/glove.6B.300d.magnitude',\n",
        "    '/content/glove.840B.300d.magnitude'\n",
        "]\n",
        "df = pd.read_csv('/content/SimLex-999.txt', sep='\\t')[['word1', 'word2', 'SimLex999']]\n"
      ],
      "metadata": {
        "id": "CoU6zfxps06_"
      },
      "execution_count": null,
      "outputs": []
    },
    {
      "cell_type": "code",
      "source": [
        "for path in paths:\n",
        "  vectors = Magnitude(path)\n",
        "  human_scores = []\n",
        "  vector_scores = []\n",
        "  for word1, word2, score in df.values.tolist():\n",
        "    human_scores.append(score)\n",
        "    similarity_score = vectors.similarity(word1, word2)\n",
        "    vector_scores.append(similarity_score)\n",
        "  correlation, p_value = stats.kendalltau(human_scores, vector_scores)\n",
        "  print(f'{path}: Correlation = {correlation}, P Value = {p_value}')"
      ],
      "metadata": {
        "colab": {
          "base_uri": "https://localhost:8080/"
        },
        "id": "EejkJU5LCtQo",
        "outputId": "32c16c5f-deaf-4411-d470-e4fb4dc1c03f"
      },
      "execution_count": null,
      "outputs": [
        {
          "output_type": "stream",
          "name": "stdout",
          "text": [
            "/content/glove.6B.50d.magnitude: Correlation = 0.18100126067449063, P Value = 1.2242211264976856e-17\n",
            "/content/glove.6B.100d.magnitude: Correlation = 0.20506409092608713, P Value = 3.41228663395174e-22\n",
            "/content/glove.6B.200d.magnitude: Correlation = 0.23670323199262908, P Value = 4.9936324557833286e-29\n",
            "/content/glove.6B.300d.magnitude: Correlation = 0.25894302181101986, P Value = 2.080389068003349e-34\n",
            "/content/glove.840B.300d.magnitude: Correlation = 0.2860664813618063, P Value = 1.293335613361039e-41\n"
          ]
        }
      ]
    },
    {
      "cell_type": "markdown",
      "source": [
        "# Section 3: Creating Word Sense Clusters (80 points)\n",
        "**Background:** Many Natural Language Processing (NLP) tasks require knowing the sense of polysemous words, which are words with multiple meanings. For example, the word bug can mean:\n",
        "\n",
        "1. A creepy crawly thing\n",
        "2. An error in your computer code\n",
        "3. A virus or bacteria that makes you sick\n",
        "4. A listening device planted by the FBI\n",
        "\n",
        "In past research my PhD students and I have looked into automatically deriving the different meaning of polysemous words like bug by clustering their paraphrases. We have developed a resource called [the paraphrase database (PPDB)](http://paraphrase.org/) that contains of paraphrases for tens of millions words and phrases. For the target word bug, we have an unordered list of paraphrases including: insect, glitch, beetle, error, microbe, wire, cockroach, malfunction, microphone, mosquito, virus, tracker, pest, informer, snitch, parasite, bacterium, fault, mistake, failure and many others. We used automatic clustering group those into sets like:\n",
        "\n",
        "<img src='https://drive.google.com/uc?id=1-YbbvZ0qwRKPiHZ1ZWOm62dfCkfu4tLJ'>\n",
        "\n",
        "The clusters in the image above approximate the different word senses of bug, where the 4 circles are the 4 senses of bug. The input to this problem is all the paraphrases in a single list, and the task is to separate them correctly. As humans, this is pretty intuitive, but computers are not that smart. You will explore the main idea underlying our word sense clustering method: which measure the similarity between each pair of paraphrases for a target word and then group together the paraphrases that are most similar to each other. This affinity matrix gives an example of one of the methods for measuring similarity that we tried in our [paper](https://www.cis.upenn.edu/~ccb/publications/clustering-paraphrases-by-word-sense.pdf):\n",
        "\n",
        "<img src='https://drive.google.com/uc?id=1v1dBzwoSM3S3Y1wDUwqcVBEZ7GxxKKJ4'>\n",
        "\n",
        "Here the darkness values give an indication of how similar paraphrases are to each other. For instance in this example similarity between *insect* and *pest* is greater than the similarity between insect and error. You can read more about this task in [these](https://www.cis.upenn.edu/~ccb/publications/clustering-paraphrases-by-word-sense.pdf) [papers](https://cs.uwaterloo.ca/~cdimarco/pdf/cs886/Pantel+Lin02.pdf).\n",
        "\n",
        "In this assignment, we will use vector representations in order to measure their similarities of pairs of paraphrases. You will play with different vector space representations of words to create clusters of word senses. We expect that you have read Jurafsky and Martin [Chapter 6](https://web.stanford.edu/~jurafsky/slp3/6.pdf). Word vectors, also known as word embeddings, can be thought of simply as points in some high-dimensional space. Remember in geometry class when you learned about the Euclidean plane, and 2-dimensional points in that plane? It’s not hard to understand distance between those points – you can even measure it with a ruler. Then you learned about 3-dimensional points, and how to calculate the distance between these. These 3-dimensional points can be thought of as positions in physical space.\n",
        "\n",
        "Now, do your best to stop thinking about physical space, and generalize this idea in your mind: you can calculate a distance between 2-dimensional and 3-dimensional points, now imagine a point with `N` dimensions. The dimensions don’t necessarily have meaning in the same way as the X,Y, and Z dimensions in physical space, but we can calculate distances all the same.\n",
        "\n",
        "This is how we will use word vectors in this assignment: as points in some high-dimensional space, where distances between points are meaningful. The interpretation of distance between word vectors depends entirely on how they were made, but for our purposes, we will consider distance to measure semantic similarity. Word vectors that are close together should have meanings that are similar.\n",
        "\n",
        "With this framework, we can see how to solve our paraphrase clustering problem."
      ],
      "metadata": {
        "id": "chcQNwdxfye3"
      }
    },
    {
      "cell_type": "markdown",
      "source": [
        "**The Data:**\n",
        "The input data to be used for this assignment consists of sets of paraphrases corresponding to one of polysemous target words, e.g.\n",
        "\n",
        "Target\t  | Paraphrase set\n",
        "----------|------------------\n",
        "note.v    | comment mark tell observe state notice say remark mention\n",
        "hot.a     | raging spicy blistering red-hot live\n",
        "\n",
        "(Here the `.v` following the target `note` indicates the part of speech)\n",
        "\n",
        "Your objective is to automatically cluster each paraphrase set such that each cluster contains words pertaining to a single sense, or meaning, of the target word. Note that a single word from the paraphrase set might belong to one or more clusters.\n",
        "\n",
        "**Development Data:** The development data consists of two files:\n",
        "\n",
        "1. words file (input)\n",
        "2. clusters file (output)\n",
        "\n",
        "The words file `dev_input.txt` is formatted such that each line contains one target, its paraphrase set, and the number of ground truth clusters `k`, separated by a `::` symbol. You can use `k` as input to your clustering algorithm.\n",
        "\n",
        "`target.pos :: k :: paraphrase1 paraphrase2 paraphrase3 ...`\n",
        "\n",
        "The clusters file `dev_output.txt` contains the ground truth clusters for each target word’s paraphrase set, split over k lines:\n",
        "\n",
        "```\n",
        "target.pos :: 1 :: paraphrase2 paraphrase6\n",
        "target.pos :: 2 :: paraphrase3 paraphrase4 paraphrase5\n",
        "    .\n",
        "    .\n",
        "    .\n",
        "target.pos :: k :: paraphrase1 paraphrase9\n",
        "```\n",
        "\n",
        "**Test data:** For testing Tasks 3.1 – 3.3, you will receive only words file `test_input.txt` containing the test target words, number of ground truth clusters and their paraphrase sets. For testing Task 3.4, you will receive only words file `test_nok_input.txt` containing the test target words and their paraphrases sets. Neither order of senses, nor order of words in a cluster matter.\n",
        "\n",
        "**Evaluation:** There are many possible ways to evaluate clustering solutions. For this homework we will rely on the paired F-score, which you can read more about in [this paper](https://www.cs.york.ac.uk/semeval2010_WSI/paper/semevaltask14.pdf).\n",
        "\n",
        "The general idea behind paired F-score is to treat clustering prediction like a classification problem; given a target word and its paraphrase set, we call a *positive instance* any pair of paraphrases that appear together in a ground-truth cluster. Once we predict a clustering solution for the paraphrase set, we similarly generate the set of word pairs such that both words in the pair appear in the same predicted cluster. We can then evaluate our set of predicted pairs against the ground truth pairs using precision, recall, and F-score.\n",
        "\n",
        "V-Measure is another metric that is used to evaluate clustering solutions, however we will not be using it in this Assignment."
      ],
      "metadata": {
        "id": "8Qkv_eW5luSc"
      }
    },
    {
      "cell_type": "markdown",
      "source": [
        "**Tasks:**\n",
        "Your task is to fill in 4 functions in `part2.py`: `cluster_random`, `cluster_with_sparse_representation`, `cluster_with_dense_representation`, `cluster_with_no_k`.\n",
        "\n",
        "We provided 5 utility functions for you to use:\n",
        "\n",
        "1. `load_input_file(file_path)` that converts the input data (the words file) into 2 dictionaries. The first dictionary is a mapping between a target word and a list of paraphrases. The second dictionary is a mapping between a target word and a number of clusters for a given target word.\n",
        "\n",
        "2. `load_output_file(file_path)` that converts the output data (the clusters file) into a dictionary, where a key is a target word and a value is it’s list of list of paraphrases. Each list of paraphrases is a cluster. Remember that Neither order of senses, nor order of words in a cluster matter.\n",
        "\n",
        "3. `get_paired_f_score(gold_clustering, predicted_clustering)` that calculates paired F-score given a gold and predicted clustering for a target word.\n",
        "\n",
        "4. `evaluate_clusterings(gold_clusterings, predicted_clusterings)` that calculates paired F-score for all target words present in the data and prints the final F-Score weighted by the number of senses that a target word has.\n",
        "\n",
        "5. `write_to_output_file(file_path, clusterings)` that writes the result of the clustering for each target word into the output file (clusters file)\n",
        "Full points will be awarded for each of the tasks if your implementation gets above a certain threshold on the test dataset. Please submit to autograder to see thresholds. Note that thresholds are based on the scores from the previous year and might be lowered depending on the average performance."
      ],
      "metadata": {
        "id": "Q3io9PlcoYqb"
      }
    },
    {
      "cell_type": "code",
      "source": [
        "# Helper functions, DO NOT MODIFY\n",
        "def load_input_file(file_path):\n",
        "    \"\"\"\n",
        "    Loads the input file to two dictionaries\n",
        "    :param file_path: path to an input file\n",
        "    :return: 2 dictionaries:\n",
        "    1. Dictionary, where key is a target word and value is a list of paraphrases\n",
        "    2. Dictionary, where key is a target word and value is a number of clusters\n",
        "    \"\"\"\n",
        "    word_to_paraphrases_dict = {}\n",
        "    word_to_k_dict = {}\n",
        "\n",
        "    with open(file_path, 'r') as fin:\n",
        "        for line in fin:\n",
        "            target_word, k, paraphrases = line.split(' :: ')\n",
        "            word_to_k_dict[target_word] = int(k)\n",
        "            word_to_paraphrases_dict[target_word] = paraphrases.split()\n",
        "\n",
        "    return word_to_paraphrases_dict, word_to_k_dict\n",
        "\n",
        "def load_output_file(file_path):\n",
        "    \"\"\"\n",
        "    :param file_path: path to an output file\n",
        "    :return: A dictionary, where key is a target word and value is a list of list of paraphrases\n",
        "    \"\"\"\n",
        "    clusterings = {}\n",
        "\n",
        "    with open(file_path, 'r') as fin:\n",
        "        for line in fin:\n",
        "            target_word, _, paraphrases_in_cluster = line.strip().split(' :: ')\n",
        "            paraphrases_list = paraphrases_in_cluster.strip().split()\n",
        "            if target_word not in clusterings:\n",
        "                clusterings[target_word] = []\n",
        "            clusterings[target_word].append(paraphrases_list)\n",
        "\n",
        "    return clusterings\n",
        "\n",
        "def get_paired_f_score(gold_clustering, predicted_clustering):\n",
        "    \"\"\"\n",
        "    :param gold_clustering: gold list of list of paraphrases\n",
        "    :param predicted_clustering: predicted list of list of paraphrases\n",
        "    :return: Paired F-Score\n",
        "    \"\"\"\n",
        "    gold_pairs = set()\n",
        "    for gold_cluster in gold_clustering:\n",
        "        for pair in combinations(gold_cluster, 2):\n",
        "            gold_pairs.add(tuple(sorted(pair)))\n",
        "\n",
        "    predicted_pairs = set()\n",
        "    for predicted_cluster in predicted_clustering:\n",
        "        for pair in combinations(predicted_cluster, 2):\n",
        "            predicted_pairs.add(tuple(sorted(pair)))\n",
        "\n",
        "    overlapping_pairs = gold_pairs & predicted_pairs\n",
        "\n",
        "    precision = 1. if len(predicted_pairs) == 0 else float(len(overlapping_pairs)) / len(predicted_pairs)\n",
        "    recall = 1. if len(gold_pairs) == 0 else float(len(overlapping_pairs)) / len(gold_pairs)\n",
        "    paired_f_score = 0. if precision + recall == 0 else 2 * precision * recall / (precision + recall)\n",
        "\n",
        "    return paired_f_score\n",
        "\n",
        "def evaluate_clusterings(gold_clusterings, predicted_clusterings):\n",
        "    \"\"\"\n",
        "    Displays evaluation scores between gold and predicted clusterings\n",
        "    :param gold_clusterings: dictionary where key is a target word and value is a list of list of paraphrases\n",
        "    :param predicted_clusterings: dictionary where key is a target word and value is a list of list of paraphrases\n",
        "    :return: N/A\n",
        "    \"\"\"\n",
        "    target_words = set(gold_clusterings.keys()) & set(predicted_clusterings.keys())\n",
        "\n",
        "    if len(target_words) == 0:\n",
        "        print('No overlapping target words in ground-truth and predicted files')\n",
        "        return None\n",
        "\n",
        "    paired_f_scores = np.zeros((len(target_words)))\n",
        "    ks = np.zeros((len(target_words)))\n",
        "\n",
        "    table = PrettyTable(['Target', 'k', 'Paired F-Score'])\n",
        "    for i, target_word in enumerate(target_words):\n",
        "        paired_f_score = get_paired_f_score(gold_clusterings[target_word], predicted_clusterings[target_word])\n",
        "        k = len(gold_clusterings[target_word])\n",
        "        paired_f_scores[i] = paired_f_score\n",
        "        ks[i] = k\n",
        "        table.add_row([target_word, k, f'{paired_f_score:0.4f}'])\n",
        "\n",
        "    average_f_score = np.average(paired_f_scores, weights=ks)\n",
        "    print(table)\n",
        "    print(f'=> Average Paired F-Score:  {average_f_score:.4f}')\n",
        "\n",
        "def write_to_output_file(file_path, clusterings):\n",
        "    \"\"\"\n",
        "    Writes the result of clusterings into an output file\n",
        "    :param file_path: path to an output file\n",
        "    :param clusterings:  A dictionary, where key is a target word and value is a list of list of paraphrases\n",
        "    :return: N/A\n",
        "    \"\"\"\n",
        "    with open(file_path, 'w') as fout:\n",
        "        for target_word, clustering in clusterings.items():\n",
        "            for i, cluster in enumerate(clustering):\n",
        "                fout.write(f'{target_word} :: {i + 1} :: {\" \".join(cluster)}\\n')\n",
        "        fout.close()"
      ],
      "metadata": {
        "id": "VACDGSp3VQ1f"
      },
      "execution_count": null,
      "outputs": []
    },
    {
      "cell_type": "markdown",
      "source": [
        "## 3.1. Cluster Randomly (10 points)\n",
        "Write a function `cluster_random(word_to_paraphrases_dict, word_to_k_dict)` that accepts 2 dictionaries:\n",
        "\n",
        "1. word_to_paraphrases_dict = a mapping between a target word and a list of paraphrases\n",
        "\n",
        "2. word_to_k_dict = a mapping between a target word and a number of clusters for a given target\n",
        "\n",
        "The function outputs a dictionary, where the key is a target word and a value is a list of list of paraphrases, where a list of paraphrases represents a distinct sense of a target word.\n",
        "\n",
        "For this task put paraphrases into distinct senses at random. That is, assign to pick a random word for each cluster, as opposed to picking a random cluster for each word. This will ensure that all clusters have at lease one word in them. We recommend using random packages. Please use 123 as a random seed. Your output should look similar to this on the development dataset:\n",
        "\n",
        "```\n",
        "word_to_paraphrases_dict, word_to_k_dict = load_input_file('dev_input.txt')\n",
        "gold_clusterings = load_output_file('dev_output.txt')\n",
        "predicted_clusterings = cluster_random(word_to_paraphrases_dict, word_to_k_dict)\n",
        "evaluate_clusterings(gold_clusterings, predicted_clusterings)\n",
        "```\n",
        "```\n",
        "+----------------+----+----------------+\n",
        "|     Target     | k  | Paired F-Score |\n",
        "+----------------+----+----------------+\n",
        "|    paper.n     | 7  |     0.2978     |\n",
        "|     play.v     | 34 |     0.0896     |\n",
        "|     miss.v     | 8  |     0.2376     |\n",
        "|   produce.v    | 7  |     0.2335     |\n",
        "|    party.n     | 5  |     0.2480     |\n",
        "|     note.v     | 3  |     0.6667     |\n",
        "|     bank.n     | 9  |     0.1515     |\n",
        "    .\n",
        "    .\n",
        "    .\n",
        "|     eat.v      | 6  |     0.2908     |\n",
        "|    climb.v     | 6  |     0.2427     |\n",
        "|    degree.n    | 7  |     0.2891     |\n",
        "|   interest.n   | 5  |     0.2093     |\n",
        "+----------------+----+----------------+\n",
        "=> Average Paired F-Score:  0.2318\n",
        "```"
      ],
      "metadata": {
        "id": "n4sau65Vo47N"
      }
    },
    {
      "cell_type": "markdown",
      "source": [
        "- **Problem 3.1:**\n",
        "    - 1) Implement `cluster_random` function (10 points)\n",
        "    - 2) Run clustering on `dev` and `test` data, report the `f_scores` from the `dev` data in `report.pdf`(0 points)"
      ],
      "metadata": {
        "id": "N4XX7i3VLqnO"
      }
    },
    {
      "cell_type": "code",
      "source": [
        "random.seed(123)\n",
        "\n",
        "def cluster_random(word_to_paraphrases_dict, word_to_k_dict):\n",
        "    \"\"\"\n",
        "    Clusters paraphrases randomly\n",
        "    :param word_to_paraphrases_dict: dictionary, where key is a target word and value is a list of paraphrases\n",
        "    :param word_to_k_dict: dictionary, where key is a target word and value is a number of clusters\n",
        "    :return: dictionary, where key is a target word and value is a list of list of paraphrases,\n",
        "    where each list corresponds to a cluster\n",
        "    \"\"\"\n",
        "    clusterings = {}\n",
        "\n",
        "    for target_word in word_to_paraphrases_dict.keys():\n",
        "        paraphrase_list = word_to_paraphrases_dict[target_word]\n",
        "        k = word_to_k_dict[target_word]\n",
        "        # TODO: Implement\n",
        "        random.shuffle(paraphrase_list)\n",
        "        if target_word not in clusterings:\n",
        "          clusterings[target_word] = []\n",
        "\n",
        "        # assign one word to each cluster first\n",
        "        for i in range(k):\n",
        "          clusterings[target_word].append([paraphrase_list[i]])\n",
        "\n",
        "        # keep looping through the paraphrase list until all words are assigned\n",
        "        for i in range(k, len(paraphrase_list)):\n",
        "          # pick a cluster to put the word\n",
        "          cluster_idx = random.choice(range(k))\n",
        "          clusterings[target_word][cluster_idx].append(paraphrase_list[i])\n",
        "\n",
        "        # repreat above process to enrich each cluster\n",
        "        for i in range(k, len(paraphrase_list)):\n",
        "          # pick a cluster to put the word\n",
        "          cluster_idx = random.choice(range(k))\n",
        "          clusterings[target_word][cluster_idx].append(paraphrase_list[i])\n",
        "\n",
        "    return clusterings"
      ],
      "metadata": {
        "id": "O4q_QnuaXZp-"
      },
      "execution_count": null,
      "outputs": []
    },
    {
      "cell_type": "code",
      "source": [
        "### Reference Code ###\n",
        "###### You can use the following code to test your clustering on dev data ######\n",
        "word_to_paraphrases_dict_dev, word_to_k_dict_dev = load_input_file('dev_input.txt')\n",
        "predicted_clusterings_random_dev = cluster_random(word_to_paraphrases_dict_dev, word_to_k_dict_dev)\n",
        "gold_clusterings_dev = load_output_file('dev_output.txt')\n",
        "f_score = evaluate_clusterings(gold_clusterings_dev, predicted_clusterings_random_dev)\n",
        "f_score"
      ],
      "metadata": {
        "id": "WAqsnipaCAwE"
      },
      "execution_count": null,
      "outputs": []
    },
    {
      "cell_type": "markdown",
      "source": [
        "**TODO: Report `f_score` from `dev` set in `report.pdf`**"
      ],
      "metadata": {
        "id": "vDdANhMaLuKC"
      }
    },
    {
      "cell_type": "markdown",
      "source": [
        "Run the following command to generate the output file for the predicted clusterings for the test dataset. **We will grade your implementation based on the test-set `f_score` achieved by the clustering**"
      ],
      "metadata": {
        "id": "8EVgqfVNXWIQ"
      }
    },
    {
      "cell_type": "code",
      "source": [
        "word_to_paraphrases_dict, word_to_k_dict = load_input_file('test_input.txt')\n",
        "predicted_clusterings_random = cluster_random(word_to_paraphrases_dict, word_to_k_dict)\n",
        "# write_to_output_file('test_output_random.txt', predicted_clusterings_random)"
      ],
      "metadata": {
        "id": "wvWFRKjVpjsV"
      },
      "execution_count": null,
      "outputs": []
    },
    {
      "cell_type": "code",
      "source": [
        "# PennGrader - DO NOT CHANGE\n",
        "# reload_grader()\n",
        "grader.grade(test_case_id = 'test_q3_clusters_random', answer = (predicted_clusterings_random, 'random'))"
      ],
      "metadata": {
        "id": "LdCjRoPu8VrA",
        "colab": {
          "base_uri": "https://localhost:8080/"
        },
        "outputId": "1bafa084-56c3-4d33-8404-84903e14e604"
      },
      "execution_count": null,
      "outputs": [
        {
          "output_type": "stream",
          "name": "stdout",
          "text": [
            "Correct! You earned 10/10 points. You are a star!\n",
            "\n",
            "Your submission has been successfully recorded in the gradebook.\n"
          ]
        }
      ]
    },
    {
      "cell_type": "markdown",
      "source": [
        "## 3.2 Cluster with Sparse Representations (21 points)\n",
        "\n",
        "Write a function `cluster_with_sparse_representation(word_to_paraphrases_dict, word_to_k_dict)`. The input and output remains the same as in Task 1, however the clustering of paraphrases will no longer be random and is based on sparse vector representation.\n",
        "\n",
        "We will feature-based (not dense) vector space representation. In this type of VSM, each dimension of the vector space corresponds to a specific feature, such as a context word (see, for example, the term-context matrix described in [Chapter 6.1.2 of Jurafsky & Martin](https://web.stanford.edu/~jurafsky/slp3/6.pdf)). You will calculate cooccurrence vectors on the Reuters RCV1 corpus. It can take a long time to build cooccurrence vectors, so we have pre-built set called `coocvec-500mostfreq-window-3.vec.filter.magnitude`. To save on space, these include only the words used in the given files. This representation of words uses a term-context matrix `M` of size `|V| x D`, where `|V|` is the size of the vocabulary and D=500. Each feature corresponds to one of the top 500 most-frequent words in the corpus. The value of matrix entry `M[i][j]` gives the number of times the context word represented by column `j` appeared within W=3 words to the left or right of the word represented by row `i` in the corpus.\n",
        "\n",
        "Use one of the clustering algorithms, for instance K-means clustering in `cluster_with_sparse_representation(word_to_paraphrases_dict, word_to_k_dict)`. Here is an example of the K-means clustering code:"
      ],
      "metadata": {
        "id": "eXbO7_Rapj8M"
      }
    },
    {
      "cell_type": "code",
      "source": [
        "from sklearn.cluster import KMeans\n",
        "# Your training data\n",
        "X = ...\n",
        "# Compute k-means clustering. with 2 clusters\n",
        "kmeans = KMeans(n_clusters=2, random_state=0).fit(X)\n",
        "# check labels of each data point\n",
        "kmeans.labels_\n",
        "# predict cluster index for each sample.\n",
        "kmeans.predict(x_text)"
      ],
      "metadata": {
        "id": "4BeSNUCdLU3U"
      },
      "execution_count": null,
      "outputs": []
    },
    {
      "cell_type": "markdown",
      "source": [
        "- **Problem 3.2:**\n",
        "    - 1) Implement `cluster_with_sparse_representation` function (20 points)\n",
        "    - 2) Run clustering on `dev` and `test` data, report the `f_scores` from the `dev` data in `report.pdf`(1 point)"
      ],
      "metadata": {
        "id": "d8NhxobeLVJy"
      }
    },
    {
      "cell_type": "code",
      "source": [
        "dim = 500\n",
        "def cluster_with_sparse_representation(word_to_paraphrases_dict, word_to_k_dict):\n",
        "    \"\"\"\n",
        "    Clusters paraphrases using sparse vector representation\n",
        "    :param word_to_paraphrases_dict: dictionary, where key is a target word and value is a list of paraphrases\n",
        "    :param word_to_k_dict: dictionary, where key is a target word and value is a number of clusters\n",
        "    :return: dictionary, where key is a target word and value is a list of list of paraphrases,\n",
        "    where each list corresponds to a cluster\n",
        "    \"\"\"\n",
        "    # Note: any vector representation should be in the same directory as this file\n",
        "    vectors = Magnitude(\"coocvec-500mostfreq-window-3.filter.magnitude\")\n",
        "    clusterings = {}\n",
        "\n",
        "    for target_word in word_to_paraphrases_dict.keys():\n",
        "        paraphrase_list = word_to_paraphrases_dict[target_word]\n",
        "        k = word_to_k_dict[target_word]\n",
        "        # TODO: Implement\n",
        "\n",
        "        # iterate over the paraphrase list and stack the vectors to build matrix\n",
        "        if paraphrase_list[0] in vectors:\n",
        "          matrix = vectors.query(paraphrase_list[0])[:dim]\n",
        "        else:\n",
        "          ran_idx = random.choice(range(len(vectors)))\n",
        "          matrix = vectors.query(vectors[ran_idx][0])[:dim]\n",
        "        for i in paraphrase_list[1:]:\n",
        "          if i in vectors:\n",
        "            matrix = np.vstack([matrix, vectors.query(i)[:dim]])\n",
        "          else:\n",
        "            ran_idx = random.choice(range(len(vectors)))\n",
        "            matrix = np.vstack([matrix, vectors.query(vectors[ran_idx][0])[:dim]])\n",
        "\n",
        "        # KMeans model with k clusters\n",
        "        kmeans = KMeans(n_clusters=k, random_state=0).fit(matrix)\n",
        "        ls = {}\n",
        "        for i in range(len(paraphrase_list)):\n",
        "          if kmeans.labels_[i] not in ls:\n",
        "            ls[kmeans.labels_[i]] = []\n",
        "          ls[kmeans.labels_[i]].append(paraphrase_list[i])\n",
        "\n",
        "        clusterings[target_word] = []\n",
        "        for k, v in ls.items():\n",
        "          clusterings[target_word].append(v)\n",
        "\n",
        "    return clusterings"
      ],
      "metadata": {
        "id": "32YASRIJZ4p0"
      },
      "execution_count": null,
      "outputs": []
    },
    {
      "cell_type": "markdown",
      "source": [
        "**TODO: Report `f_score` from `dev` set in `report.pdf`**"
      ],
      "metadata": {
        "id": "6q1d4gGaL3jD"
      }
    },
    {
      "cell_type": "code",
      "source": [
        "# YOUR CODE HERE (you can re-use reference code from 3.1)"
      ],
      "metadata": {
        "id": "fI6ViokIL4Pu"
      },
      "execution_count": null,
      "outputs": []
    },
    {
      "cell_type": "code",
      "source": [
        "word_to_paraphrases_dict_dev, word_to_k_dict_dev = load_input_file('dev_input.txt')\n",
        "word_to_paraphrases_dict_test, word_to_k_dict_test = load_input_file('dev_input.txt')\n",
        "\n",
        "predicted_clusterings_random_dev = cluster_with_sparse_representation(word_to_paraphrases_dict_dev, word_to_k_dict_dev)\n",
        "predicted_clusterings_random_test = cluster_with_sparse_representation(word_to_paraphrases_dict_test, word_to_k_dict_test)\n",
        "predicted_clusterings = predicted_clusterings_random_dev | predicted_clusterings_random_test\n",
        "gold_clusterings_dev = load_output_file('dev_output.txt')\n",
        "f_score = evaluate_clusterings(gold_clusterings_dev, predicted_clusterings)\n",
        "f_score"
      ],
      "metadata": {
        "id": "MAq5EiYGL4LJ"
      },
      "execution_count": null,
      "outputs": []
    },
    {
      "cell_type": "code",
      "source": [
        "word_to_paraphrases_dict, word_to_k_dict = load_input_file('test_input.txt')\n",
        "predicted_clusterings_sparse = cluster_with_sparse_representation(word_to_paraphrases_dict, word_to_k_dict)\n",
        "# write_to_output_file('test_output_sparse.txt', predicted_clusterings_sparse)"
      ],
      "metadata": {
        "id": "wUWjirVALhAp"
      },
      "execution_count": null,
      "outputs": []
    },
    {
      "cell_type": "code",
      "source": [
        "# PennGrader - DO NOT CHANGE\n",
        "# reload_grader()\n",
        "grader.grade(test_case_id = 'test_q3_clusters_sparse', answer = (predicted_clusterings_sparse, 'sparse'))"
      ],
      "metadata": {
        "id": "_J_OYL3YAfsK",
        "colab": {
          "base_uri": "https://localhost:8080/"
        },
        "outputId": "cf53d197-2e75-4c63-e700-695d36daca39"
      },
      "execution_count": null,
      "outputs": [
        {
          "output_type": "stream",
          "name": "stdout",
          "text": [
            "Correct! You earned 20/20 points. You are a star!\n",
            "\n",
            "Your submission has been successfully recorded in the gradebook.\n"
          ]
        }
      ]
    },
    {
      "cell_type": "markdown",
      "source": [
        "Suggestions to improve the performance of your model:\n",
        "\n",
        " - What if you reduce or increase `D` in the baseline implementation?\n",
        " - Does it help to change the window `W` used to extract contexts?\n",
        " - Play around with the feature weighting – instead of raw counts, would it help to use PPMI?\n",
        " - Try a different clustering algorithm that’s included with the [scikit-learn clustering package](http://scikit-learn.org/stable/modules/clustering.html), or implement your own.\n",
        " - What if you include additional types of features, like paraphrases in the [Paraphrase Database](http://www.paraphrase.org/) or the part-of-speech of context words?\n",
        "\n",
        "The only feature types that are off-limits are WordNet features.\n",
        "\n",
        "Provide a brief description of your method in the Report, making sure to describe the vector space model you chose, the clustering algorithm you used, and the results of any preliminary experiments you might have run on the dev set."
      ],
      "metadata": {
        "id": "41LGnqdmLiVM"
      }
    },
    {
      "cell_type": "markdown",
      "source": [
        "## 3.3 Cluster with Dense Representations (22 points)\n",
        "\n",
        "Write a function `cluster_with_dense_representation(word_to_paraphrases_dict, word_to_k_dict)`. The input and output remains the same as in Task 1 and 2, however the clustering of paraphrases is based on dense vector representation.\n",
        "\n",
        "We would like to see if dense word embeddings are better for clustering the words in our test set. Run the word clustering task again, but this time use a dense word representation.\n",
        "\n",
        "For this task, we have also included a file called `GoogleNews-vectors-negative300.filter.magnitude`, which is filtered to contain only the words in the dev/test splits.\n",
        "\n",
        "As before, use the provided word vectors to represent words and perform one of the clusterings. Here are some suggestions to improve the performance of your model:\n",
        "\n",
        " - Try downloading a different dense vector space model from the web, like [Paragram](http://www.cs.cmu.edu/~jwieting/) or [fastText](https://fasttext.cc/docs/en/english-vectors.html).\n",
        " - Train your own word vectors, either on the provided corpus or something you find online. You can try the skip-gram, CBOW models, or [GLOVE](https://nlp.stanford.edu/projects/glove/). Try experimenting with the dimensionality.\n",
        " - [Retrofitting](https://www.cs.cmu.edu/~hovy/papers/15HLT-retrofitting-word-vectors.pdf) is a simple way to add additional semantic knowledge to pre-trained vectors. The retrofitting code is available here. Experiment with different lexicons, or even try [counter-fitting](http://www.aclweb.org/anthology/N16-1018)."
      ],
      "metadata": {
        "id": "r1gDMVIeL7Bs"
      }
    },
    {
      "cell_type": "code",
      "source": [],
      "metadata": {
        "id": "Yh1wMFg3MD0o"
      },
      "execution_count": null,
      "outputs": []
    },
    {
      "cell_type": "markdown",
      "source": [
        "- **Problem 3.3:**\n",
        "    - 1) Implement `cluster_with_dense_representation` function (20 points)\n",
        "    - 2) Run clustering on `dev` and `test` data, report the `f_scores` from the `dev` data in `report.pdf`(2 points)"
      ],
      "metadata": {
        "id": "AFuNXJyQMD5B"
      }
    },
    {
      "cell_type": "code",
      "source": [
        "dim = 300\n",
        "\n",
        "from sklearn.cluster import KMeans\n",
        "def cluster_with_dense_representation(word_to_paraphrases_dict, word_to_k_dict):\n",
        "    \"\"\"\n",
        "    Clusters paraphrases using dense vector representation\n",
        "    :param word_to_paraphrases_dict: dictionary, where key is a target word and value is a list of paraphrases\n",
        "    :param word_to_k_dict: dictionary, where key is a target word and value is a number of clusters\n",
        "    :return: dictionary, where key is a target word and value is a list of list of paraphrases,\n",
        "    where each list corresponds to a cluster\n",
        "    \"\"\"\n",
        "    # Note: any vector representation should be in the same directory as this file\n",
        "    vectors = Magnitude(\"GoogleNews-vectors-negative300.magnitude\")\n",
        "    clusterings = {}\n",
        "\n",
        "    for target_word in word_to_paraphrases_dict.keys():\n",
        "        paraphrase_list = word_to_paraphrases_dict[target_word]\n",
        "        k = word_to_k_dict[target_word]\n",
        "        # TODO: Implement\n",
        "\n",
        "        # iterate over the paraphrase list and stack the vectors to build matrix\n",
        "        if paraphrase_list[0] in vectors:\n",
        "          matrix = vectors.query(paraphrase_list[0])[:dim]\n",
        "        else:\n",
        "          ran_idx = random.choice(range(len(vectors)))\n",
        "          matrix = vectors.query(vectors[ran_idx][0])[:dim]\n",
        "        for i in paraphrase_list[1:]:\n",
        "          if i in vectors:\n",
        "            matrix = np.vstack([matrix, vectors.query(i)[:dim]])\n",
        "          else:\n",
        "            ran_idx = random.choice(range(len(vectors)))\n",
        "            matrix = np.vstack([matrix, vectors.query(vectors[ran_idx][0])[:dim]])\n",
        "\n",
        "        # KMeans model with k clusters\n",
        "        kmeans = KMeans(n_clusters=k, random_state=0).fit(matrix)\n",
        "        ls = {}\n",
        "        for i in range(len(paraphrase_list)):\n",
        "          if kmeans.labels_[i] not in ls:\n",
        "            ls[kmeans.labels_[i]] = []\n",
        "          ls[kmeans.labels_[i]].append(paraphrase_list[i])\n",
        "\n",
        "        clusterings[target_word] = []\n",
        "        for k, v in ls.items():\n",
        "          clusterings[target_word].append(v)\n",
        "\n",
        "    return clusterings"
      ],
      "metadata": {
        "id": "gK2D-aKsaOVp"
      },
      "execution_count": 190,
      "outputs": []
    },
    {
      "cell_type": "code",
      "source": [
        "!wget --no-check-certificate \\\n",
        "  https://huggingface.co/stanfordnlp/glove/resolve/main/glove.42B.300d.zip"
      ],
      "metadata": {
        "id": "bb9NPLJUo3nO"
      },
      "execution_count": null,
      "outputs": []
    },
    {
      "cell_type": "code",
      "source": [
        "!wget --no-check-certificate https://huggingface.co/stanfordnlp/glove/resolve/main/glove.6B.zip"
      ],
      "metadata": {
        "id": "q6_hGy1ZxG8O"
      },
      "execution_count": null,
      "outputs": []
    },
    {
      "cell_type": "code",
      "source": [
        "!wget --no-check-certificate https://huggingface.co/stanfordnlp/glove/resolve/main/glove.840B.300d.zip"
      ],
      "metadata": {
        "colab": {
          "base_uri": "https://localhost:8080/"
        },
        "id": "Jlz-0zJlynp5",
        "outputId": "5f3d1d02-6198-46c6-eb0b-0107a2721053"
      },
      "execution_count": 170,
      "outputs": [
        {
          "output_type": "stream",
          "name": "stdout",
          "text": [
            "--2023-06-13 12:45:57--  https://huggingface.co/stanfordnlp/glove/resolve/main/glove.840B.300d.zip\n",
            "Resolving huggingface.co (huggingface.co)... 18.67.0.34, 18.67.0.55, 18.67.0.90, ...\n",
            "Connecting to huggingface.co (huggingface.co)|18.67.0.34|:443... connected.\n",
            "HTTP request sent, awaiting response... 302 Found\n",
            "Location: https://cdn-lfs.huggingface.co/stanfordnlp/glove/f47355dd5b267bd10f08671e513790690233c76a9ffd73aa915d78f894a8912e?response-content-disposition=attachment%3B+filename*%3DUTF-8%27%27glove.840B.300d.zip%3B+filename%3D%22glove.840B.300d.zip%22%3B&response-content-type=application%2Fzip&Expires=1686919557&Policy=eyJTdGF0ZW1lbnQiOlt7IlJlc291cmNlIjoiaHR0cHM6Ly9jZG4tbGZzLmh1Z2dpbmdmYWNlLmNvL3N0YW5mb3JkbmxwL2dsb3ZlL2Y0NzM1NWRkNWIyNjdiZDEwZjA4NjcxZTUxMzc5MDY5MDIzM2M3NmE5ZmZkNzNhYTkxNWQ3OGY4OTRhODkxMmU%7EcmVzcG9uc2UtY29udGVudC1kaXNwb3NpdGlvbj0qJnJlc3BvbnNlLWNvbnRlbnQtdHlwZT0qIiwiQ29uZGl0aW9uIjp7IkRhdGVMZXNzVGhhbiI6eyJBV1M6RXBvY2hUaW1lIjoxNjg2OTE5NTU3fX19XX0_&Signature=v7zBiXdRtfPakvtVyQElsAQnNMrR%7EZM9dI2PIcdQ7iimBPd1otq-Dj-QBQmZHlIDqWBZeg6Av68gFIdDdS1f4iLGtqc-u4zZ5wqMmTcHGPHApgrwrNzpwxx1eaK4QgyOslsrSssQQWhVZTXoqSCkncO8jK8b1z0XKMcpYmnC6PlGqn4j6sWVgbjUBObTAmru3HKbHqbxREOqYCOKU30QCQJSg87DHJaLD-PBoTrE33thfhTpiqCsGI5j0MwxtsiuBIZpUGbcRNyY8wcUpT%7EP5lTkTiqGexXvv6uv8kcjZzGrjdfUx7llBrFXZuXyieCsNSm9Go8Jy-drTd-UNNvXmQ__&Key-Pair-Id=KVTP0A1DKRTAX [following]\n",
            "--2023-06-13 12:45:57--  https://cdn-lfs.huggingface.co/stanfordnlp/glove/f47355dd5b267bd10f08671e513790690233c76a9ffd73aa915d78f894a8912e?response-content-disposition=attachment%3B+filename*%3DUTF-8%27%27glove.840B.300d.zip%3B+filename%3D%22glove.840B.300d.zip%22%3B&response-content-type=application%2Fzip&Expires=1686919557&Policy=eyJTdGF0ZW1lbnQiOlt7IlJlc291cmNlIjoiaHR0cHM6Ly9jZG4tbGZzLmh1Z2dpbmdmYWNlLmNvL3N0YW5mb3JkbmxwL2dsb3ZlL2Y0NzM1NWRkNWIyNjdiZDEwZjA4NjcxZTUxMzc5MDY5MDIzM2M3NmE5ZmZkNzNhYTkxNWQ3OGY4OTRhODkxMmU%7EcmVzcG9uc2UtY29udGVudC1kaXNwb3NpdGlvbj0qJnJlc3BvbnNlLWNvbnRlbnQtdHlwZT0qIiwiQ29uZGl0aW9uIjp7IkRhdGVMZXNzVGhhbiI6eyJBV1M6RXBvY2hUaW1lIjoxNjg2OTE5NTU3fX19XX0_&Signature=v7zBiXdRtfPakvtVyQElsAQnNMrR%7EZM9dI2PIcdQ7iimBPd1otq-Dj-QBQmZHlIDqWBZeg6Av68gFIdDdS1f4iLGtqc-u4zZ5wqMmTcHGPHApgrwrNzpwxx1eaK4QgyOslsrSssQQWhVZTXoqSCkncO8jK8b1z0XKMcpYmnC6PlGqn4j6sWVgbjUBObTAmru3HKbHqbxREOqYCOKU30QCQJSg87DHJaLD-PBoTrE33thfhTpiqCsGI5j0MwxtsiuBIZpUGbcRNyY8wcUpT%7EP5lTkTiqGexXvv6uv8kcjZzGrjdfUx7llBrFXZuXyieCsNSm9Go8Jy-drTd-UNNvXmQ__&Key-Pair-Id=KVTP0A1DKRTAX\n",
            "Resolving cdn-lfs.huggingface.co (cdn-lfs.huggingface.co)... 108.157.162.99, 108.157.162.58, 108.157.162.95, ...\n",
            "Connecting to cdn-lfs.huggingface.co (cdn-lfs.huggingface.co)|108.157.162.99|:443... connected.\n",
            "HTTP request sent, awaiting response... 200 OK\n",
            "Length: 2176768976 (2.0G) [application/zip]\n",
            "Saving to: ‘glove.840B.300d.zip’\n",
            "\n",
            "glove.840B.300d.zip 100%[===================>]   2.03G  64.5MB/s    in 48s     \n",
            "\n",
            "2023-06-13 12:46:45 (43.3 MB/s) - ‘glove.840B.300d.zip’ saved [2176768976/2176768976]\n",
            "\n"
          ]
        }
      ]
    },
    {
      "cell_type": "code",
      "source": [
        "import os\n",
        "import zipfile\n",
        "with zipfile.ZipFile('glove.840B.300d.zip', 'r') as zip_ref:\n",
        "    zip_ref.extractall('glove')"
      ],
      "metadata": {
        "id": "LLk1ZsUIp_F0"
      },
      "execution_count": 171,
      "outputs": []
    },
    {
      "cell_type": "code",
      "source": [
        "\n",
        "embeddings_index = {}\n",
        "f = open('glove/glove.42B.300d.txt')\n",
        "for line in f:\n",
        "    values = line.split()\n",
        "    word = values[0]\n",
        "    coefs = np.asarray(values[1:], dtype='float32')\n",
        "    embeddings_index[word] = coefs\n",
        "f.close()\n",
        "\n",
        "print('Found %s word vectors.' % len(embeddings_index))"
      ],
      "metadata": {
        "id": "m1-5j38dpa1_",
        "colab": {
          "base_uri": "https://localhost:8080/"
        },
        "outputId": "9ecd40df-2294-46ed-98a5-733c8aea3887"
      },
      "execution_count": 142,
      "outputs": [
        {
          "output_type": "stream",
          "name": "stdout",
          "text": [
            "Found 1917495 word vectors.\n"
          ]
        }
      ]
    },
    {
      "cell_type": "code",
      "source": [
        "embeddings_index2 = {}\n",
        "f = open('glove/glove.6B.300d.txt')\n",
        "for line in f:\n",
        "    values = line.split()\n",
        "    word = values[0]\n",
        "    coefs = np.asarray(values[1:], dtype='float32')\n",
        "    embeddings_index2[word] = coefs\n",
        "f.close()"
      ],
      "metadata": {
        "id": "knmneBgOxZph"
      },
      "execution_count": 161,
      "outputs": []
    },
    {
      "cell_type": "code",
      "source": [
        "embeddings_index3 = {}\n",
        "f = open('glove/glove.840B.300d.txt')\n",
        "for line in f:\n",
        "    values = line.split()\n",
        "    word = values[0]\n",
        "    try:\n",
        "      coefs = np.asarray(values[1:], dtype='float32')\n",
        "    except:\n",
        "      print('one can not be converted')\n",
        "      continue\n",
        "    embeddings_index3[word] = coefs\n",
        "f.close()"
      ],
      "metadata": {
        "colab": {
          "base_uri": "https://localhost:8080/"
        },
        "id": "yLZh7DF-yvuH",
        "outputId": "e3cf8fe8-b095-49b6-e187-8ee49fc63cb1"
      },
      "execution_count": 175,
      "outputs": [
        {
          "output_type": "stream",
          "name": "stdout",
          "text": [
            "one can not be converted\n",
            "one can not be converted\n",
            "one can not be converted\n",
            "one can not be converted\n",
            "one can not be converted\n",
            "one can not be converted\n",
            "one can not be converted\n",
            "one can not be converted\n",
            "one can not be converted\n",
            "one can not be converted\n",
            "one can not be converted\n",
            "one can not be converted\n",
            "one can not be converted\n",
            "one can not be converted\n",
            "one can not be converted\n",
            "one can not be converted\n",
            "one can not be converted\n",
            "one can not be converted\n",
            "one can not be converted\n",
            "one can not be converted\n"
          ]
        }
      ]
    },
    {
      "cell_type": "code",
      "source": [
        "list(embeddings_index.keys())[:10]\n",
        "embeddings_index['and'].shape\n",
        "len(embeddings_index)"
      ],
      "metadata": {
        "colab": {
          "base_uri": "https://localhost:8080/"
        },
        "id": "9MOJGY6Qtfhf",
        "outputId": "740b1352-4f76-4857-9828-eacd373d3bc3"
      },
      "execution_count": 147,
      "outputs": [
        {
          "output_type": "execute_result",
          "data": {
            "text/plain": [
              "1917495"
            ]
          },
          "metadata": {},
          "execution_count": 147
        }
      ]
    },
    {
      "cell_type": "code",
      "source": [
        "list(embeddings_index2.keys())[:10]\n",
        "len(embeddings_index2)"
      ],
      "metadata": {
        "colab": {
          "base_uri": "https://localhost:8080/"
        },
        "id": "2wbbNO5rxi6D",
        "outputId": "47608a11-9311-4a42-bcf9-08e4f3581433"
      },
      "execution_count": 163,
      "outputs": [
        {
          "output_type": "execute_result",
          "data": {
            "text/plain": [
              "400001"
            ]
          },
          "metadata": {},
          "execution_count": 163
        }
      ]
    },
    {
      "cell_type": "code",
      "source": [
        "list(embeddings_index3.keys())[:10]\n",
        "len(embeddings_index3)"
      ],
      "metadata": {
        "colab": {
          "base_uri": "https://localhost:8080/"
        },
        "id": "XUgR25c-y4cu",
        "outputId": "66bfebbd-6a3b-415c-c522-914b1d2c4c87"
      },
      "execution_count": 178,
      "outputs": [
        {
          "output_type": "execute_result",
          "data": {
            "text/plain": [
              "2195885"
            ]
          },
          "metadata": {},
          "execution_count": 178
        }
      ]
    },
    {
      "cell_type": "code",
      "source": [
        "embeddings = embeddings_index | embeddings_index2 | embeddings_index3\n",
        "len(embeddings)"
      ],
      "metadata": {
        "colab": {
          "base_uri": "https://localhost:8080/"
        },
        "id": "5muxYvbxyA40",
        "outputId": "eb426efb-5c0b-4c8d-d0b3-b71c3d427e42"
      },
      "execution_count": 179,
      "outputs": [
        {
          "output_type": "execute_result",
          "data": {
            "text/plain": [
              "3187514"
            ]
          },
          "metadata": {},
          "execution_count": 179
        }
      ]
    },
    {
      "cell_type": "code",
      "source": [
        "dim = 300\n",
        "\n",
        "from sklearn.cluster import KMeans\n",
        "def cluster_with_dense_representation_(word_to_paraphrases_dict, word_to_k_dict):\n",
        "    \"\"\"\n",
        "    Clusters paraphrases using dense vector representation\n",
        "    :param word_to_paraphrases_dict: dictionary, where key is a target word and value is a list of paraphrases\n",
        "    :param word_to_k_dict: dictionary, where key is a target word and value is a number of clusters\n",
        "    :return: dictionary, where key is a target word and value is a list of list of paraphrases,\n",
        "    where each list corresponds to a cluster\n",
        "    \"\"\"\n",
        "    # Note: any vector representation should be in the same directory as this file\n",
        "    vectors = embeddings\n",
        "    clusterings = {}\n",
        "\n",
        "    for target_word in word_to_paraphrases_dict.keys():\n",
        "        paraphrase_list = word_to_paraphrases_dict[target_word]\n",
        "        k = word_to_k_dict[target_word]\n",
        "        # TODO: Implement\n",
        "\n",
        "        # iterate over the paraphrase list and stack the vectors to build matrix\n",
        "        if paraphrase_list[0] in vectors:\n",
        "          matrix = vectors.get(paraphrase_list[0])[:dim]\n",
        "        else:\n",
        "          ran_idx = random.choice(range(len(vectors)))\n",
        "          matrix = list(vectors.values())[ran_idx][:dim]\n",
        "        for i in paraphrase_list[1:]:\n",
        "          if i in vectors:\n",
        "            matrix = np.vstack([matrix, vectors.get(i)[:dim]])\n",
        "          else:\n",
        "            ran_idx = random.choice(range(len(vectors)))\n",
        "            matrix = np.vstack([matrix, list(vectors.values())[ran_idx][:dim]])\n",
        "\n",
        "        # KMeans model with k clusters\n",
        "        kmeans = KMeans(n_clusters=k, random_state=0).fit(matrix)\n",
        "        ls = {}\n",
        "        for i in range(len(paraphrase_list)):\n",
        "          if kmeans.labels_[i] not in ls:\n",
        "            ls[kmeans.labels_[i]] = []\n",
        "          ls[kmeans.labels_[i]].append(paraphrase_list[i])\n",
        "\n",
        "        clusterings[target_word] = []\n",
        "        for k, v in ls.items():\n",
        "          clusterings[target_word].append(v)\n",
        "\n",
        "    return clusterings"
      ],
      "metadata": {
        "id": "9-UGgpYFuYdv"
      },
      "execution_count": 191,
      "outputs": []
    },
    {
      "cell_type": "markdown",
      "source": [
        "**TODO: Report `f_score` from `dev` set in `report.pdf`**"
      ],
      "metadata": {
        "id": "I7HJWGCLMAC9"
      }
    },
    {
      "cell_type": "code",
      "source": [
        "# YOUR CODE HERE (you can re-use reference code from 3.1)"
      ],
      "metadata": {
        "id": "-JBHo0u5MAC9"
      },
      "execution_count": 168,
      "outputs": []
    },
    {
      "cell_type": "code",
      "source": [
        "word_to_paraphrases_dict_dev, word_to_k_dict_dev = load_input_file('dev_input.txt')\n",
        "word_to_paraphrases_dict_test, word_to_k_dict_test = load_input_file('dev_input.txt')\n",
        "\n",
        "predicted_clusterings_random_dev = cluster_with_dense_representation_(word_to_paraphrases_dict_dev, word_to_k_dict_dev)\n",
        "predicted_clusterings_random_test = cluster_with_dense_representation_(word_to_paraphrases_dict_test, word_to_k_dict_test)\n",
        "predicted_clusterings = predicted_clusterings_random_dev | predicted_clusterings_random_test\n",
        "gold_clusterings_dev = load_output_file('dev_output.txt')\n",
        "f_score = evaluate_clusterings(gold_clusterings_dev, predicted_clusterings)\n",
        "f_score"
      ],
      "metadata": {
        "id": "NxwzOZhgj0Pm"
      },
      "execution_count": null,
      "outputs": []
    },
    {
      "cell_type": "code",
      "source": [
        "word_to_paraphrases_dict_dev, word_to_k_dict_dev = load_input_file('dev_input.txt')\n",
        "predicted_clusterings_random_dev = cluster_with_dense_representation(word_to_paraphrases_dict_dev, word_to_k_dict_dev)\n",
        "gold_clusterings_dev = load_output_file('dev_output.txt')\n",
        "f_score = evaluate_clusterings(gold_clusterings_dev, predicted_clusterings_random_dev )\n",
        "f_score"
      ],
      "metadata": {
        "id": "bD-amBKwL_4g"
      },
      "execution_count": null,
      "outputs": []
    },
    {
      "cell_type": "code",
      "source": [
        "word_to_paraphrases_dict_dev, word_to_k_dict_dev = load_input_file('dev_input.txt')\n",
        "predicted_clusterings_random_dev = cluster_with_dense_representation_(word_to_paraphrases_dict_dev, word_to_k_dict_dev)\n",
        "gold_clusterings_dev = load_output_file('dev_output.txt')\n",
        "f_score = evaluate_clusterings(gold_clusterings_dev, predicted_clusterings_random_dev )\n",
        "f_score"
      ],
      "metadata": {
        "id": "WZe4urJe3t1t"
      },
      "execution_count": null,
      "outputs": []
    },
    {
      "cell_type": "markdown",
      "source": [
        "As before, run the following command to generate the output file for the predicted clusterings for the test dataset. Please name your file `test_output_dense.txt`:"
      ],
      "metadata": {
        "id": "-q_THdDDaOep"
      }
    },
    {
      "cell_type": "code",
      "source": [
        "word_to_paraphrases_dict, word_to_k_dict = load_input_file('test_input.txt')\n",
        "predicted_clusterings_dense = cluster_with_dense_representation_(word_to_paraphrases_dict, word_to_k_dict)\n",
        "write_to_output_file('test_output_dense.txt', predicted_clusterings_dense)"
      ],
      "metadata": {
        "id": "DOErpQxTMiiJ",
        "colab": {
          "base_uri": "https://localhost:8080/"
        },
        "outputId": "954c6917-0256-4882-dd29-9a2c70b37592"
      },
      "execution_count": 195,
      "outputs": [
        {
          "output_type": "stream",
          "name": "stderr",
          "text": [
            "/usr/local/lib/python3.10/dist-packages/sklearn/cluster/_kmeans.py:870: FutureWarning: The default value of `n_init` will change from 10 to 'auto' in 1.4. Set the value of `n_init` explicitly to suppress the warning\n",
            "  warnings.warn(\n",
            "/usr/local/lib/python3.10/dist-packages/sklearn/cluster/_kmeans.py:870: FutureWarning: The default value of `n_init` will change from 10 to 'auto' in 1.4. Set the value of `n_init` explicitly to suppress the warning\n",
            "  warnings.warn(\n",
            "/usr/local/lib/python3.10/dist-packages/sklearn/cluster/_kmeans.py:870: FutureWarning: The default value of `n_init` will change from 10 to 'auto' in 1.4. Set the value of `n_init` explicitly to suppress the warning\n",
            "  warnings.warn(\n",
            "/usr/local/lib/python3.10/dist-packages/sklearn/cluster/_kmeans.py:870: FutureWarning: The default value of `n_init` will change from 10 to 'auto' in 1.4. Set the value of `n_init` explicitly to suppress the warning\n",
            "  warnings.warn(\n",
            "/usr/local/lib/python3.10/dist-packages/sklearn/cluster/_kmeans.py:870: FutureWarning: The default value of `n_init` will change from 10 to 'auto' in 1.4. Set the value of `n_init` explicitly to suppress the warning\n",
            "  warnings.warn(\n",
            "/usr/local/lib/python3.10/dist-packages/sklearn/cluster/_kmeans.py:870: FutureWarning: The default value of `n_init` will change from 10 to 'auto' in 1.4. Set the value of `n_init` explicitly to suppress the warning\n",
            "  warnings.warn(\n",
            "/usr/local/lib/python3.10/dist-packages/sklearn/cluster/_kmeans.py:870: FutureWarning: The default value of `n_init` will change from 10 to 'auto' in 1.4. Set the value of `n_init` explicitly to suppress the warning\n",
            "  warnings.warn(\n",
            "/usr/local/lib/python3.10/dist-packages/sklearn/cluster/_kmeans.py:870: FutureWarning: The default value of `n_init` will change from 10 to 'auto' in 1.4. Set the value of `n_init` explicitly to suppress the warning\n",
            "  warnings.warn(\n",
            "/usr/local/lib/python3.10/dist-packages/sklearn/cluster/_kmeans.py:870: FutureWarning: The default value of `n_init` will change from 10 to 'auto' in 1.4. Set the value of `n_init` explicitly to suppress the warning\n",
            "  warnings.warn(\n",
            "/usr/local/lib/python3.10/dist-packages/sklearn/cluster/_kmeans.py:870: FutureWarning: The default value of `n_init` will change from 10 to 'auto' in 1.4. Set the value of `n_init` explicitly to suppress the warning\n",
            "  warnings.warn(\n",
            "/usr/local/lib/python3.10/dist-packages/sklearn/cluster/_kmeans.py:870: FutureWarning: The default value of `n_init` will change from 10 to 'auto' in 1.4. Set the value of `n_init` explicitly to suppress the warning\n",
            "  warnings.warn(\n",
            "/usr/local/lib/python3.10/dist-packages/sklearn/cluster/_kmeans.py:870: FutureWarning: The default value of `n_init` will change from 10 to 'auto' in 1.4. Set the value of `n_init` explicitly to suppress the warning\n",
            "  warnings.warn(\n",
            "/usr/local/lib/python3.10/dist-packages/sklearn/cluster/_kmeans.py:870: FutureWarning: The default value of `n_init` will change from 10 to 'auto' in 1.4. Set the value of `n_init` explicitly to suppress the warning\n",
            "  warnings.warn(\n",
            "/usr/local/lib/python3.10/dist-packages/sklearn/cluster/_kmeans.py:870: FutureWarning: The default value of `n_init` will change from 10 to 'auto' in 1.4. Set the value of `n_init` explicitly to suppress the warning\n",
            "  warnings.warn(\n",
            "/usr/local/lib/python3.10/dist-packages/sklearn/cluster/_kmeans.py:870: FutureWarning: The default value of `n_init` will change from 10 to 'auto' in 1.4. Set the value of `n_init` explicitly to suppress the warning\n",
            "  warnings.warn(\n",
            "/usr/local/lib/python3.10/dist-packages/sklearn/cluster/_kmeans.py:870: FutureWarning: The default value of `n_init` will change from 10 to 'auto' in 1.4. Set the value of `n_init` explicitly to suppress the warning\n",
            "  warnings.warn(\n",
            "/usr/local/lib/python3.10/dist-packages/sklearn/cluster/_kmeans.py:870: FutureWarning: The default value of `n_init` will change from 10 to 'auto' in 1.4. Set the value of `n_init` explicitly to suppress the warning\n",
            "  warnings.warn(\n"
          ]
        }
      ]
    },
    {
      "cell_type": "code",
      "source": [
        "# PennGrader - DO NOT CHANGE\n",
        "# reload_grader()\n",
        "grader.grade(test_case_id = 'test_q3_clusters_dense', answer = (predicted_clusterings_dense, 'dense'))"
      ],
      "metadata": {
        "id": "hMigGstY8npi",
        "colab": {
          "base_uri": "https://localhost:8080/"
        },
        "outputId": "b21f9791-7f6c-4cfa-a7ef-ed0e95ad5e42"
      },
      "execution_count": null,
      "outputs": [
        {
          "output_type": "stream",
          "name": "stdout",
          "text": [
            "Correct! You earned 20/20 points. You are a star!\n",
            "\n",
            "Your submission has been successfully recorded in the gradebook.\n"
          ]
        }
      ]
    },
    {
      "cell_type": "markdown",
      "source": [
        "Provide a brief description of your method in the Report that includes the vectors you used, and any experimental results you have from running your model on the dev set.\n",
        "\n",
        "In addition, for Task 3.2 and 3.3, do an analysis of different errors made by each system – i.e. look at instances that the word-context matrix representation gets wrong and dense gets right, and vice versa, and see if there are any interesting patterns. There is no right answer for this."
      ],
      "metadata": {
        "id": "7vHlYWaxMkUC"
      }
    },
    {
      "cell_type": "markdown",
      "source": [
        "## 3.4 Cluster without K (27 points)\n",
        "\n",
        "So far we made the clustering problem deliberately easier by providing you with `k`, the number of clusters, as an input. But in most clustering situations the best `k` is not given. To take this assignment one step further, see if you can come up with a way to automatically choose `k`.\n",
        "\n",
        "Write a function `cluster_with_no_k(word_to_paraphrases_dict)` that accepts only the first dictionary as an input and produces clusterings for given target words.\n",
        "\n",
        "We have provided an additional test set `test_nok_input.txt`, where the `k` field has been zeroed out. See if you can come up with a method that clusters words by sense, and chooses the best `k` on its own. You can start by assigning `k=5` for all target words as a baseline model.\n",
        "\n",
        "You might want to try and use the development data to analyze how got is your model in determining `k`.\n",
        "\n",
        "One of the ways to approach this challenge is to try and select best `k` for a target word and a list of paraphrases is to use try out a range of `k`'s and judge the performance of the clusterings based on some metric, for instance a [silhouette score](https://scikit-learn.org/stable/modules/generated/sklearn.metrics.silhouette_score.html).\n",
        "\n",
        "Be sure to describe your method in the Report."
      ],
      "metadata": {
        "id": "T6ELKOARMnBH"
      }
    },
    {
      "cell_type": "markdown",
      "source": [
        "- **Problem 3.4:**\n",
        "    - 1) Implement `cluster_with_no_k` function (25 points)\n",
        "    - 2) Run clustering on `dev` and `test` data, report the `f_scores` from the `dev` data in `report.pdf`(2 points)\n"
      ],
      "metadata": {
        "id": "qHwYHJlPMQJb"
      }
    },
    {
      "cell_type": "code",
      "source": [
        "from sklearn.metrics import silhouette_score # Hint: this could be useful if you want to use silhouette_score as distance metric"
      ],
      "metadata": {
        "id": "naUpFNx49AN8"
      },
      "execution_count": null,
      "outputs": []
    },
    {
      "cell_type": "code",
      "source": [
        "dim = 100\n",
        "def cluster_with_no_k(word_to_paraphrases_dict):\n",
        "    \"\"\"\n",
        "    Clusters paraphrases using any vector representation\n",
        "    :param word_to_paraphrases_dict: dictionary, where key is a target word and value is a list of paraphrases\n",
        "    :return: dictionary, where key is a target word and value is a list of list of paraphrases,\n",
        "    where each list corresponds to a cluster\n",
        "    \"\"\"\n",
        "    # Note: any vector representation should be in the same directory as this file\n",
        "    vectors = Magnitude(\"GoogleNews-vectors-negative300.magnitude\")\n",
        "    clusterings = {}\n",
        "    best_k = find_best_k(word_to_paraphrases_dict)\n",
        "\n",
        "    for target_word in word_to_paraphrases_dict.keys():\n",
        "        paraphrase_list = word_to_paraphrases_dict[target_word]\n",
        "        # TODO: Implement\n",
        "        # hint: first find the best k value, you can define a seperate function, if needed.\n",
        "        # hint: then fit a KMeans model on the data with k clusters\n",
        "\n",
        "\n",
        "        # iterate over the paraphrase list and stack the vectors to build matrix\n",
        "        if paraphrase_list[0] in vectors:\n",
        "          matrix = vectors.query(paraphrase_list[0])[:dim]\n",
        "        else:\n",
        "          ran_idx = random.choice(range(len(vectors)))\n",
        "          matrix = vectors.query(vectors[ran_idx][0])[:dim]\n",
        "        for i in paraphrase_list[1:]:\n",
        "          if i in vectors:\n",
        "            matrix = np.vstack([matrix, vectors.query(i)[:dim]])\n",
        "          else:\n",
        "            ran_idx = random.choice(range(len(vectors)))\n",
        "            matrix = np.vstack([matrix, vectors.query(vectors[ran_idx][0])[:dim]])\n",
        "\n",
        "        # KMeans model with k clusters\n",
        "        kmeans = KMeans(n_clusters= best_k[target_word], random_state=0).fit(matrix)\n",
        "        ls = {}\n",
        "        for i in range(len(paraphrase_list)):\n",
        "          if kmeans.labels_[i] not in ls:\n",
        "            ls[kmeans.labels_[i]] = []\n",
        "          ls[kmeans.labels_[i]].append(paraphrase_list[i])\n",
        "\n",
        "        clusterings[target_word] = []\n",
        "        for k, v in ls.items():\n",
        "          clusterings[target_word].append(v)\n",
        "\n",
        "    return clusterings"
      ],
      "metadata": {
        "id": "BWeQwrJmakL2"
      },
      "execution_count": null,
      "outputs": []
    },
    {
      "cell_type": "code",
      "source": [
        "def find_best_k(word_to_paraphrases_dict):\n",
        "    \"\"\"\n",
        "    Find best k for clustering.\n",
        "    :param word_to_paraphrases_dict: dictionary, where key is a target word and value is a list of paraphrases\n",
        "    :return: a dictionary using target word as key, the best clustering number k as value\n",
        "    \"\"\"\n",
        "    # Note: any vector representation should be in the same directory as this file\n",
        "    vectors = Magnitude(\"GoogleNews-vectors-negative300.magnitude\")\n",
        "    clusterings = {}\n",
        "    best_k = {}\n",
        "\n",
        "    for target_word in word_to_paraphrases_dict.keys():\n",
        "        paraphrase_list = word_to_paraphrases_dict[target_word]\n",
        "        # TODO: Implement\n",
        "\n",
        "        # iterate over the paraphrase list and stack the vectors to build matrix\n",
        "        if paraphrase_list[0] in vectors:\n",
        "          matrix = vectors.query(paraphrase_list[0])[:dim]\n",
        "        else:\n",
        "          ran_idx = random.choice(range(len(vectors)))\n",
        "          matrix = vectors.query(vectors[ran_idx][0])[:dim]\n",
        "        for i in paraphrase_list[1:]:\n",
        "          if i in vectors:\n",
        "            matrix = np.vstack([matrix, vectors.query(i)[:dim]])\n",
        "          else:\n",
        "            ran_idx = random.choice(range(len(vectors)))\n",
        "            matrix = np.vstack([matrix, vectors.query(vectors[ran_idx][0])[:dim]])\n",
        "\n",
        "        # KMeans model with different k clusters\n",
        "        range_k = [2, 3, 4, 5, 6, 7, 8, 9, 10]\n",
        "        silhouette_scores = []\n",
        "        for k in range_k:\n",
        "          # Valid k values are 2 to n_samples - 1 (inclusive)\n",
        "          sample_size = matrix.shape[0]\n",
        "          if k >= sample_size:\n",
        "\n",
        "            break\n",
        "          kmeans = KMeans(n_clusters=k, random_state=0).fit(matrix)\n",
        "          silhouette_scores.append(silhouette_score(matrix, kmeans.labels_))\n",
        "\n",
        "        # if target word only has two words in paraphrase list, set k = 1\n",
        "        if len(silhouette_scores) == 0:\n",
        "          best_k[target_word] = 1\n",
        "        else:\n",
        "          idx = silhouette_scores.index(max(silhouette_scores))\n",
        "          best_k[target_word] = range_k[idx]\n",
        "    return best_k"
      ],
      "metadata": {
        "id": "xXtRP3QuNAF8"
      },
      "execution_count": null,
      "outputs": []
    },
    {
      "cell_type": "markdown",
      "source": [
        "As before, run the following command to generate the output file for the predicted clusterings for the test dataset. Please name your file `test_output_nok.txt`:"
      ],
      "metadata": {
        "id": "bJq0-6pnakUR"
      }
    },
    {
      "cell_type": "code",
      "source": [
        "word_to_paraphrases_dict_dev, word_to_k_dict_dev = load_input_file('dev_input.txt')\n",
        "predicted_clusterings_random_dev = cluster_with_no_k(word_to_paraphrases_dict_dev)\n",
        "gold_clusterings_dev = load_output_file('dev_output.txt')\n",
        "f_score = evaluate_clusterings(gold_clusterings_dev, predicted_clusterings_random_dev)\n",
        "f_score"
      ],
      "metadata": {
        "id": "F34wVBTQeOhP"
      },
      "execution_count": null,
      "outputs": []
    },
    {
      "cell_type": "code",
      "source": [
        "word_to_paraphrases_dict_dev, word_to_k_dict_dev = load_input_file('dev_input.txt')\n",
        "word_to_paraphrases_dict_test, word_to_k_dict_test = load_input_file('dev_input.txt')\n",
        "\n",
        "predicted_clusterings_random_dev = cluster_with_no_k(word_to_paraphrases_dict_dev)\n",
        "predicted_clusterings_random_test = cluster_with_no_k(word_to_paraphrases_dict_test)\n",
        "predicted_clusterings = predicted_clusterings_random_dev | predicted_clusterings_random_test\n",
        "gold_clusterings_dev = load_output_file('dev_output.txt')\n",
        "f_score = evaluate_clusterings(gold_clusterings_dev, predicted_clusterings)\n",
        "f_score"
      ],
      "metadata": {
        "id": "DG-7F-bahO5f"
      },
      "execution_count": null,
      "outputs": []
    },
    {
      "cell_type": "code",
      "source": [
        "word_to_paraphrases_dict, _ = load_input_file('/content/test_nok_input.txt')\n",
        "predicted_clusterings_nok = cluster_with_no_k(word_to_paraphrases_dict)\n",
        "write_to_output_file('test_output_nok.txt', predicted_clusterings_nok)"
      ],
      "metadata": {
        "id": "riIjx9FaNEwy"
      },
      "execution_count": null,
      "outputs": []
    },
    {
      "cell_type": "code",
      "source": [
        "# PennGrader - DO NOT CHANGE\n",
        "# reload_grader()\n",
        "grader.grade(test_case_id = 'test_q3_clusters_no_k', answer = (predicted_clusterings_nok, 'no k'))"
      ],
      "metadata": {
        "id": "7eugg3gH842c",
        "colab": {
          "base_uri": "https://localhost:8080/"
        },
        "outputId": "dffc17f0-c95d-4471-a194-f7ef3d7a1e50"
      },
      "execution_count": null,
      "outputs": [
        {
          "output_type": "stream",
          "name": "stdout",
          "text": [
            "Correct! You earned 25/25 points. You are a star!\n",
            "\n",
            "Your submission has been successfully recorded in the gradebook.\n"
          ]
        }
      ]
    },
    {
      "cell_type": "markdown",
      "source": [
        "# Submissions"
      ],
      "metadata": {
        "id": "2hoP1RcwMqNF"
      }
    },
    {
      "cell_type": "markdown",
      "source": [
        "\n",
        "## Leaderboards\n",
        "In order to stir up some friendly competition, we would also like you to submit the clustering from your best model to a leaderboard. There will be 2 leaderboards to submit to:\n",
        "- **Clusters with no K**: Copy the output file from your best model **(has to come from `3.4`)** to a file called `test_nok_output_leaderboard.txt` and include it with your submission in `HW5: Leaderboard Without K` following the format of the clusters file.\n",
        "\n",
        "- **Clusters with K**: Copy the output file from your best model **(has to come from `3.2 or 3.3`)** to a file called `test_output_leaderboard.txt` and include it with your submission in `HW5: Leaderboard With K` following the format of the clusters file.\n",
        "\n",
        "The first 10 places in either of the two leaderboards get extra points (The exact number of points will be determined)."
      ],
      "metadata": {
        "id": "fu2saUjcHWPZ"
      }
    },
    {
      "cell_type": "markdown",
      "source": [
        "## Free-response Checklist (check if you missed anything!)\n",
        "We will look for the following free-responses in this notebook:\n",
        "- Section 2: Question responses and analysis of correlations\n",
        "- Section 3: For each clustering algorithm, you would need to report the `f_score` from the `dev` set."
      ],
      "metadata": {
        "id": "-DfjnoJXNfCZ"
      }
    },
    {
      "cell_type": "markdown",
      "source": [
        "## GradeScope File Submission\n",
        "Here are the deliverables you need to submit to GradeScope:\n",
        "- Write-up (`report.pdf`):\n",
        "    - Part 2: answers to questions\n",
        "    - Part 3: F-scores for clustering algorithms & discussions about your models\n",
        "- Code:\n",
        "    - This notebook and py file: rename to `homework5.ipynb` and `homework5.py`. You can download the notebook and py file by going to the top-left corner of this webpage, `File -> Download -> Download .ipynb/.py`\n",
        "- Leaderboard Results:\n",
        "  - Leaderboard Without K: `test_nok_output_leaderboard.txt` (Task 3.4 output file)\n",
        "  - Leaderboard With K: `test_output_leaderboard.txt` (Task 3.2 or 3.3 output file)"
      ],
      "metadata": {
        "id": "qx1oLs9-OFjE"
      }
    }
  ]
}