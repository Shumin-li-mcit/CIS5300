{
  "cells": [
    {
      "cell_type": "markdown",
      "metadata": {
        "id": "view-in-github",
        "colab_type": "text"
      },
      "source": [
        "<a href=\"https://colab.research.google.com/github/Shumin-li-mcit/CIS5300/blob/main/SL_CIS5300_OL_hw6_v0_1.ipynb\" target=\"_parent\"><img src=\"https://colab.research.google.com/assets/colab-badge.svg\" alt=\"Open In Colab\"/></a>"
      ]
    },
    {
      "cell_type": "markdown",
      "metadata": {
        "id": "1Uk9e20eYBts"
      },
      "source": [
        "# Homework 6: Neural Language Models\n",
        "\n",
        "## Due Date: (TBD)\n",
        "## Total Points: (TBD)\n",
        "- **Overview**: In this assginment, we’ll be moving on from traditional n-gram based language models to more advanced forms of language modeling using *neural networks*. Specifically, we’ll be setting up a character-level recurrent neural network, known as a char-rnn for short.\n",
        "\n",
        "  Andrej Karpathy, previously a researcher at OpenAI, has written an excellent blog post about using RNNs for language models, which you should read before beginning this assignment. The title of his blog post is [The Unreasonable Effectiveness of Recurrent Neural Networks](http://karpathy.github.io/2015/05/21/rnn-effectiveness/).\n",
        "\n",
        "  Karpathy shows how char-rnns can be used to generate texts for several fun domains:\n",
        "\n",
        "   - Shakespeare plays\n",
        "   - Essays about economics\n",
        "   - LaTeX documents\n",
        "   - Linux source code\n",
        "   - Baby names\n",
        "\n",
        "  In this assignment you will follow a PyTorch tutorial to implement your own char-rnn, and then test it on a dataset of your choice. You will also train on our provided training set, and submit to the leaderboard.\n",
        "\n",
        "- **FAQs:** Please look at the FAQ section before you start working:\n",
        "  - **How do I save a PyTorch model?**\n",
        "\n",
        "    Use the command below. Please ensure that your model can be used for inference.\n",
        "```\n",
        "torch.save(model.state_dict(), PATH)\n",
        "```\n",
        "\n",
        "  - **How do I load a PyTorch model?**\n",
        "\n",
        "    Use the command below.\n",
        "```\n",
        "model = CharRNNClassify()\n",
        "model.load_state_dict(torch.load(PATH))\n",
        "model.eval() #To predict\n",
        "```\n",
        "\n",
        "  - **I’m unfamiliar with PyTorch. How do I get started?**\n",
        "\n",
        "    If you are new to the paradigm of computational graphs and functional programming, please have a look at [this tutorial](https://hackernoon.com/linear-regression-in-x-minutes-using-pytorch-8eec49f6a0e2) before getting started.\n",
        "\n",
        "  - **How do I convert a Jupyter notebook to a python script?**\n",
        "\n",
        "    Use the command below.\n",
        "```\n",
        "jupyter nbconvert --to script notebook.ipynb\n",
        "```\n",
        "\n",
        "  - **How do I beat the threshold for the test cases?**\n",
        "\n",
        "    The TA’s model, which passed all the testcases, had the following configuration:\n",
        "\n",
        "     - Optimizer: `torch.optim.SGD(model.parameters(), lr=0.005)`\n",
        "     - Criterion: `nn.NLLLoss()`\n",
        "     - Iterations: 175k\n",
        "     - RNN layers: 1 LSTM cell followed by softmax\n",
        "\n",
        "  - **How do I speed up training?**\n",
        "\n",
        "    Send the model and the input, output tensors to the GPU using `.to(device)`. Refer [the PyTorch docs](https://pytorch.org/docs/stable/notes/cuda.html) for further information.\n",
        "\n",
        "  - **Why are some of the cities mislabeled in the training and development datasets?**\n",
        "\n",
        "    Noisy data is common when data is harvested automatically like [the cities dataset](https://www.maxmind.com/en/geoip-demo). The onus is on the data scientist to ensure that their data is clean. However, for this assignment, you are not required to clean the dataset.\n",
        "\n",
        "- **Please include the following in your report**:\n",
        "\n",
        "  For Section 1:\n",
        "  - A description of what you tried, and the final model you settled on\n",
        "  - A table with validation results for the models you tried\n",
        "  - A plot of validation accuracy as your best model is training\n",
        "  - An error analysis, including a confusion matrix and a dicussion of what is happening.\n",
        "\n",
        "  For Section 2:\n",
        "  - A description of the text you are training on\n",
        "  - A description of the model you are running\n",
        "  - A table of example generations\n",
        "  - Perplexity results on two types of held out data: (a) similar to what you trained on and (b) dissimilar to what you trained on\n",
        "  - A comparison of your model’s behavior to an n-gram language model.\n",
        "\n",
        "- **Grading**: We will use the auto-grading system called `PennGrader`. To complete the homework assignment, you should implement anything marked with `#TODO` and run the cell with `#PennGrader` note. **There will be no hidden tests in this assignment.** In other words, you will know your score once you finish all the `#TODO` and run all the `#PennGrader` tests!\n",
        "\n",
        "\n",
        "## Recommended Readings\n",
        "- [Neural Nets and Neural Language Models](https://web.stanford.edu/~jurafsky/slp3/8.pdf). Dan Jurafsky and James H. Martin. Speech and Language Processing (3rd edition draft) .\n",
        "- [The Unreasonable Effectiveness of Recurrent Neural Networks](http://karpathy.github.io/2015/05/21/rnn-effectiveness/). Andrej Karpathy. Blog post. 2015.\n",
        "- [A Neural Probabilistic Language Model (longer JMLR version)](http://www.jmlr.org/papers/volume3/bengio03a/bengio03a.pdf). Yoshua Bengio, Réjean Ducharme, Pascal Vincent and Christian Jauvin. Journal of Machine Learning Research 2003.\n",
        "\n",
        "## To get started, **make a copy** of this colab notebook into your google drive!"
      ]
    },
    {
      "cell_type": "markdown",
      "metadata": {
        "id": "IDv9qN5c9357"
      },
      "source": [
        "## Setup 1: PennGrader Setup"
      ]
    },
    {
      "cell_type": "code",
      "source": [
        "## DO NOT CHANGE ANYTHING, JUST RUN\n",
        "%%capture\n",
        "!pip install penngrader-client"
      ],
      "metadata": {
        "id": "jpSjR2N19kk4"
      },
      "execution_count": 1,
      "outputs": []
    },
    {
      "cell_type": "code",
      "source": [
        "%%writefile notebook-config.yaml\n",
        "\n",
        "grader_api_url: 'https://23whrwph9h.execute-api.us-east-1.amazonaws.com/default/Grader23'\n",
        "grader_api_key: 'flfkE736fA6Z8GxMDJe2q8Kfk8UDqjsG3GVqOFOa'"
      ],
      "metadata": {
        "id": "FvPA8Z2D9ki_",
        "colab": {
          "base_uri": "https://localhost:8080/"
        },
        "outputId": "913c00fc-e94b-40dd-d962-096700cf610f"
      },
      "execution_count": 2,
      "outputs": [
        {
          "output_type": "stream",
          "name": "stdout",
          "text": [
            "Writing notebook-config.yaml\n"
          ]
        }
      ]
    },
    {
      "cell_type": "code",
      "source": [
        "!cat notebook-config.yaml"
      ],
      "metadata": {
        "id": "xbeXT4Oj9kg_",
        "colab": {
          "base_uri": "https://localhost:8080/"
        },
        "outputId": "38479e26-3e65-437c-d70e-1c329cbce9d6"
      },
      "execution_count": 3,
      "outputs": [
        {
          "output_type": "stream",
          "name": "stdout",
          "text": [
            "\n",
            "grader_api_url: 'https://23whrwph9h.execute-api.us-east-1.amazonaws.com/default/Grader23'\n",
            "grader_api_key: 'flfkE736fA6Z8GxMDJe2q8Kfk8UDqjsG3GVqOFOa'\n"
          ]
        }
      ]
    },
    {
      "cell_type": "code",
      "source": [
        "from penngrader.grader import *\n",
        "\n",
        "## TODO - Start\n",
        "STUDENT_ID = 65847590 # YOUR PENN-ID GOES HERE AS AN INTEGER#\n",
        "## TODO - End\n",
        "\n",
        "SECRET = STUDENT_ID\n",
        "grader = PennGrader('notebook-config.yaml', 'CIS5300_OL_23Su_HW6', STUDENT_ID, SECRET)"
      ],
      "metadata": {
        "id": "OceP0Hr-9kfC",
        "colab": {
          "base_uri": "https://localhost:8080/"
        },
        "outputId": "3b31c07c-b640-4f63-9853-c3ddbc92bd0e"
      },
      "execution_count": 4,
      "outputs": [
        {
          "output_type": "stream",
          "name": "stdout",
          "text": [
            "PennGrader initialized with Student ID: 65847590\n",
            "\n",
            "Make sure this correct or we will not be able to store your grade\n"
          ]
        }
      ]
    },
    {
      "cell_type": "code",
      "source": [
        "# check if the PennGrader is set up correctly\n",
        "# do not chance this cell, see if you get 4/4!\n",
        "name_str = 'Shumin Li'\n",
        "grader.grade(test_case_id = 'name_test', answer = name_str)"
      ],
      "metadata": {
        "id": "k5lAgKaYa-uN",
        "colab": {
          "base_uri": "https://localhost:8080/"
        },
        "outputId": "ec230901-ad8e-4b72-bb33-19d418f18fb1"
      },
      "execution_count": 5,
      "outputs": [
        {
          "output_type": "stream",
          "name": "stdout",
          "text": [
            "Correct! You earned 4/4 points. You are a star!\n",
            "\n",
            "Your submission has been successfully recorded in the gradebook.\n"
          ]
        }
      ]
    },
    {
      "cell_type": "markdown",
      "metadata": {
        "id": "mOSjvZ8CcEtj"
      },
      "source": [
        "## Setup 2: Dataset / Packages\n",
        "- **Run the following cells without changing anything!**"
      ]
    },
    {
      "cell_type": "code",
      "execution_count": 6,
      "metadata": {
        "id": "2XZ7ps9kfZxI"
      },
      "outputs": [],
      "source": [
        "#Import Packages\n",
        "from os.path import exists\n",
        "from sklearn.metrics import accuracy_score\n",
        "import codecs\n",
        "import math\n",
        "import random\n",
        "import string\n",
        "import time\n",
        "import numpy as np\n",
        "import torch.nn as nn\n",
        "from torch.autograd import Variable\n",
        "import torch\n",
        "import torch.nn.functional as F\n",
        "\n",
        "from io import open\n",
        "import glob\n",
        "import os\n",
        "import unicodedata"
      ]
    },
    {
      "cell_type": "code",
      "execution_count": 7,
      "metadata": {
        "id": "4S-GJitVcGpP",
        "colab": {
          "base_uri": "https://localhost:8080/"
        },
        "outputId": "8c0832d2-d471-44ca-a000-b3b256e6e090"
      },
      "outputs": [
        {
          "output_type": "stream",
          "name": "stdout",
          "text": [
            "--2023-06-28 20:11:27--  http://computational-linguistics-class.org/homework/nn-lms/cities_test.txt\n",
            "Resolving computational-linguistics-class.org (computational-linguistics-class.org)... 185.199.110.153\n",
            "Connecting to computational-linguistics-class.org (computational-linguistics-class.org)|185.199.110.153|:80... connected.\n",
            "HTTP request sent, awaiting response... 200 OK\n",
            "Length: 10973 (11K) [text/plain]\n",
            "Saving to: ‘cities_test.txt’\n",
            "\n",
            "\rcities_test.txt       0%[                    ]       0  --.-KB/s               \rcities_test.txt     100%[===================>]  10.72K  --.-KB/s    in 0s      \n",
            "\n",
            "2023-06-28 20:11:28 (110 MB/s) - ‘cities_test.txt’ saved [10973/10973]\n",
            "\n",
            "--2023-06-28 20:11:28--  http://computational-linguistics-class.org/homework/nn-lms/cities_val.zip\n",
            "Resolving computational-linguistics-class.org (computational-linguistics-class.org)... 185.199.110.153\n",
            "Connecting to computational-linguistics-class.org (computational-linguistics-class.org)|185.199.110.153|:80... connected.\n",
            "HTTP request sent, awaiting response... 200 OK\n",
            "Length: 7558 (7.4K) [application/zip]\n",
            "Saving to: ‘cities_val.zip’\n",
            "\n",
            "cities_val.zip      100%[===================>]   7.38K  --.-KB/s    in 0s      \n",
            "\n",
            "2023-06-28 20:11:28 (474 MB/s) - ‘cities_val.zip’ saved [7558/7558]\n",
            "\n",
            "--2023-06-28 20:11:28--  http://computational-linguistics-class.org/homework/nn-lms/cities_train.zip\n",
            "Resolving computational-linguistics-class.org (computational-linguistics-class.org)... 185.199.110.153\n",
            "Connecting to computational-linguistics-class.org (computational-linguistics-class.org)|185.199.110.153|:80... connected.\n",
            "HTTP request sent, awaiting response... 200 OK\n",
            "Length: 159676 (156K) [application/zip]\n",
            "Saving to: ‘cities_train.zip’\n",
            "\n",
            "cities_train.zip    100%[===================>] 155.93K  --.-KB/s    in 0.003s  \n",
            "\n",
            "2023-06-28 20:11:28 (48.3 MB/s) - ‘cities_train.zip’ saved [159676/159676]\n",
            "\n",
            "Reading package lists... Done\n",
            "Building dependency tree       \n",
            "Reading state information... Done\n",
            "unzip is already the newest version (6.0-25ubuntu1.1).\n",
            "0 upgraded, 0 newly installed, 0 to remove and 13 not upgraded.\n",
            "Archive:  cities_val.zip\n",
            "   creating: val/\n",
            "  inflating: val/af.txt              \n",
            "  inflating: val/cn.txt              \n",
            "  inflating: val/de.txt              \n",
            "  inflating: val/fi.txt              \n",
            "  inflating: val/fr.txt              \n",
            "  inflating: val/ir.txt              \n",
            "  inflating: val/za.txt              \n",
            "  inflating: val/pk.txt              \n",
            "  inflating: val/in.txt              \n",
            "Archive:  cities_train.zip\n",
            "   creating: train/\n",
            "  inflating: train/af.txt            \n",
            "  inflating: train/de.txt            \n",
            "  inflating: train/fi.txt            \n",
            "  inflating: train/fr.txt            \n",
            "  inflating: train/in.txt            \n",
            "  inflating: train/ir.txt            \n",
            "  inflating: train/cn.txt            \n",
            "  inflating: train/za.txt            \n",
            "  inflating: train/pk.txt            \n"
          ]
        }
      ],
      "source": [
        "\n",
        "#Download and unzip files\n",
        "!wget http://computational-linguistics-class.org/homework/nn-lms/cities_test.txt\n",
        "!wget http://computational-linguistics-class.org/homework/nn-lms/cities_val.zip\n",
        "!wget http://computational-linguistics-class.org/homework/nn-lms/cities_train.zip\n",
        "!sudo apt-get install unzip\n",
        "!unzip cities_val.zip\n",
        "!unzip cities_train.zip"
      ]
    },
    {
      "cell_type": "markdown",
      "metadata": {
        "id": "nNl3MkHqcIQD"
      },
      "source": [
        "##**About PyTorch**\n",
        "\n",
        "\n",
        "PyTorch is one of the most popular deep learning frameworks in both industry and academia, and learning its use will be invaluable should you choose a career in deep learning. You will be using PyTorch for this assignment, we ask you to build off a couple PyTorch tutorials.\n",
        "\n",
        "PyTorch abstracts the back-propogation process from us, allowing us to define neural network structures and use a generic `.backward()` function to compute the gradients that are later used in gradient descent (PyTorch also implements such optimization algorithms for us).\n",
        "\n",
        "<img src='https://drive.google.com/uc?id=15pO4cDL_F_AKaJhTTAexAny--faAFp5q'>\n",
        "\n",
        "PyTorch does all of this for us by maintaining a computational graph, which allows differentiation to happen automatically! Don’t worry if you don’t remember your chain rules from MATH 114. Another nice thing about PyTorch is that it makes strong use of both object-oriented and functional programming paradigms, which makes reading and writing PyTorch code very accessible to previous programmers.\n",
        "\n",
        "Before you start, make sure you have run the previous cells to set up the environment. Remember to set hardware accelerator to **GPU** under **Change Runtime Type** in the **Runtime** menu.\n"
      ]
    },
    {
      "cell_type": "code",
      "execution_count": 8,
      "metadata": {
        "id": "F03YB_R0fk0H",
        "colab": {
          "base_uri": "https://localhost:8080/"
        },
        "outputId": "4d329501-f762-4399-c3c8-53accef16418"
      },
      "outputs": [
        {
          "output_type": "stream",
          "name": "stdout",
          "text": [
            "garavshakh\n",
            "kalishli\n",
            "sarban kelay\n",
            "dahan-e surunah\n",
            "jahannum\n",
            "morafeno\n",
            "iskatel\n",
            "zeri-chinar\n",
            "taftebole\n",
            "dzhafarabat\n",
            "\n",
            "sikhtopa\n",
            "laferronay\n",
            "cham ghafur\n",
            "souk tafetecht\n",
            "panqash\n",
            "siah sar bala\n",
            "barah khan kili\n",
            "vetob\n",
            "kacari\n",
            "kolga'i-i-bala\n",
            "\n",
            "imam bakhsh amar\n",
            "firoz laghari\n",
            "glufishevo\n",
            "qal`eh-ye ghazanfarkhani\n",
            "nikolinalevada\n",
            "kolkko\n",
            "mbrostar i fierit\n",
            "kharabanan-e sofla\n",
            "stein bei nurnberg\n",
            "jahangir bara\n",
            "\n"
          ]
        }
      ],
      "source": [
        "#Verfiy file download\n",
        "!head train/af.txt\n",
        "!printf \"\\n\"\n",
        "!head val/af.txt\n",
        "!printf \"\\n\"\n",
        "!head cities_test.txt\n",
        "!printf \"\\n\""
      ]
    },
    {
      "cell_type": "code",
      "execution_count": 9,
      "metadata": {
        "id": "JFbSo2hZehCJ",
        "colab": {
          "base_uri": "https://localhost:8080/"
        },
        "outputId": "734b1f51-40f9-4258-b442-bdabc747f6ae"
      },
      "outputs": [
        {
          "output_type": "stream",
          "name": "stdout",
          "text": [
            "cpu\n"
          ]
        }
      ],
      "source": [
        "#Verify CUDA acceleration, should print cuda:0\n",
        "device =  torch.device(\"cuda:0\" if torch.cuda.is_available() else \"cpu\")\n",
        "print(device)"
      ]
    },
    {
      "cell_type": "markdown",
      "metadata": {
        "id": "_W1LsPuKorQt"
      },
      "source": [
        "# Section 1: Character-Level Recurrent Neural Networks"
      ]
    },
    {
      "cell_type": "markdown",
      "metadata": {
        "id": "rUfCWQGIgamS"
      },
      "source": [
        "\n",
        "\n",
        "##**Follow the tutorial code**\n",
        "\n",
        "Read through the tutorial [here](http://pytorch.org/tutorials/intermediate/char_rnn_classification_tutorial.html) that builds a char-rnn that is used to classify baby names by their country of origin. It is recommended that you can reproduce the tutorial’s results on the provided name dataset before moving on, since the neural network architectures remain largely the same. Make sure you try your best to understand the dimensions of each layer (e.g. which ones can stay the same, and which are hyperparameters for us to tweak).\n",
        "\n",
        "\n"
      ]
    },
    {
      "cell_type": "markdown",
      "metadata": {
        "id": "XP3ZqF3fotWB"
      },
      "source": [
        "##**Switch to city names dataset**\n",
        "\n",
        "Modify the tutorial code and implement the functions below to instead read from the city names dataset that we used in the previous assignment. The tutorial code problematically used the same text file for both training and evaluation. We learned in class about how this is not a great idea. For the city names dataset we provide you separate train and validation sets, as well as a test file for the leaderboard.\n",
        "\n",
        "All training should be done on the train set and all evaluation (including confusion matrices and accuracy reports) on the validation set. You will need to change the data processing code to get this working. In addition, to handle unicode, you might need to replace calls to `open` with calls to `codecs.open(filename, \"r\",encoding='utf-8', errors='ignore')`.\n",
        "\n",
        "**Warning**: you’ll want to lower the learning rating to 0.002 or less or you might get NaNs when training."
      ]
    },
    {
      "cell_type": "code",
      "execution_count": 10,
      "metadata": {
        "id": "jCq9uZoX640q",
        "colab": {
          "base_uri": "https://localhost:8080/"
        },
        "outputId": "2660cf08-ced6-4163-9896-69d59be84f12"
      },
      "outputs": [
        {
          "output_type": "stream",
          "name": "stdout",
          "text": [
            "57\n"
          ]
        }
      ],
      "source": [
        "'''\n",
        "Don't change these constants for the classification task.\n",
        "You may use different copies for the sentence generation model.\n",
        "'''\n",
        "languages = [\"af\", \"cn\", \"de\", \"fi\", \"fr\", \"in\", \"ir\", \"pk\", \"za\"]\n",
        "all_letters = string.ascii_letters + \" .,;'\"\n",
        "n_letters = len(all_letters)\n",
        "\n",
        "print(n_letters)"
      ]
    },
    {
      "cell_type": "markdown",
      "source": [
        "### **Task 1.1**: Implement the functions below to read data"
      ],
      "metadata": {
        "id": "upRfN-MWI5kI"
      }
    },
    {
      "cell_type": "code",
      "execution_count": 11,
      "metadata": {
        "id": "cE-GvplP67re"
      },
      "outputs": [],
      "source": [
        "# Build the category_lines dictionary, a list of city names per language\n",
        "category_lines_train = {}\n",
        "category_lines_val = {}\n",
        "all_categories = []\n",
        "\n",
        "def findFiles(path): return glob.glob(path)\n",
        "\n",
        "# Turn a Unicode string to plain ASCII, thanks to http://stackoverflow.com/a/518232/2809427\n",
        "def unicodeToAscii(s):\n",
        "    return ''.join(\n",
        "        c for c in unicodedata.normalize('NFD', s)\n",
        "        if unicodedata.category(c) != 'Mn'\n",
        "        and c in all_letters)\n",
        "\n",
        "# Read a file and split into lines\n",
        "def readLines(filename):\n",
        "  fd = codecs.open(filename, \"r\", encoding='utf-8', errors='ignore')\n",
        "  lines = fd.read().strip().split('\\n')\n",
        "  return [line for line in lines]\n",
        "\n",
        "# record the number of training lines\n",
        "num_tot_train = 0\n",
        "for filename in findFiles('train/*.txt'):\n",
        "    category = filename.split('/')[-1].split('.')[0]\n",
        "    all_categories.append(category)\n",
        "    lines = readLines(filename)\n",
        "    num_tot_train += len(lines)\n",
        "    category_lines_train[category] = lines\n",
        "n_categories = len(all_categories)\n",
        "all_categories = sorted(all_categories)\n",
        "\n",
        "\n",
        "global num_tot_val\n",
        "num_tot_val = 0\n",
        "for filename in findFiles('val/*.txt'):\n",
        "    category = filename.split('/')[-1].split('.')[0]\n",
        "    lines = readLines(filename)\n",
        "    category_lines_val[category] = lines\n",
        "    num_tot_val += len(lines)\n"
      ]
    },
    {
      "cell_type": "code",
      "source": [
        "'''\n",
        "Returns the words of the language specified by reading it from the data folder\n",
        "Returns the validation data if train is false and the train data otherwise.\n",
        "Return: A n*1 numpy array containing the words of the specified language\n",
        "'''\n",
        "def getWords(lang, train = True):\n",
        "    # TODO\n",
        "    if train:\n",
        "      words = category_lines_train[lang]\n",
        "      lang_words = np.empty(len(words), dtype = object)\n",
        "      for i in range(len(words)):\n",
        "        lang_words[i] = words[i]\n",
        "    else:\n",
        "      words = category_lines_val[lang]\n",
        "      lang_words = np.empty(len(words), dtype = object)\n",
        "      for i in range(len(words)):\n",
        "        lang_words[i] = words[i]\n",
        "    return lang_words"
      ],
      "metadata": {
        "id": "6gEStSpay-Wr"
      },
      "execution_count": 12,
      "outputs": []
    },
    {
      "cell_type": "code",
      "source": [
        "all_categories"
      ],
      "metadata": {
        "id": "1y8ay82UuWjw",
        "colab": {
          "base_uri": "https://localhost:8080/"
        },
        "outputId": "73b52110-eb5c-49a6-9636-bc3d7c228419"
      },
      "execution_count": 13,
      "outputs": [
        {
          "output_type": "execute_result",
          "data": {
            "text/plain": [
              "['af', 'cn', 'de', 'fi', 'fr', 'in', 'ir', 'pk', 'za']"
            ]
          },
          "metadata": {},
          "execution_count": 13
        }
      ]
    },
    {
      "cell_type": "code",
      "execution_count": 14,
      "metadata": {
        "id": "Hf3-0sn069H-"
      },
      "outputs": [],
      "source": [
        "'''\n",
        "Returns a label corresponding to the language\n",
        "For example: it returns an array of 0s for af\n",
        "Return: A n*1 numpy array as integers containing index of the specified language in the \"languages\" array\n",
        "'''\n",
        "def getLabels(lang, length):\n",
        "  srt_cat = sorted(all_categories)\n",
        "  idx = srt_cat.index(lang)\n",
        "  arr = np.full(length, idx)\n",
        "  return arr"
      ]
    },
    {
      "cell_type": "code",
      "execution_count": 15,
      "metadata": {
        "id": "LxKh2cwK6_D4"
      },
      "outputs": [],
      "source": [
        "'''\n",
        "Returns all the laguages and labels after reading it from the file\n",
        "Returns the validation data if train is false and the train data otherwise.\n",
        "You may assume that the files exist in baseDir and have the same names.\n",
        "Return: X, y where X is a n*1 numpy array with data and y is a n*1 numpy array with labels\n",
        "'''\n",
        "def readData(train=True):\n",
        "  X = getWords(all_categories[0], train = train)\n",
        "  y = getLabels(all_categories[0], X.shape[0])\n",
        "  for i in range(1, n_categories):\n",
        "    x = getWords(all_categories[i], train = train)\n",
        "    X = np.concatenate((X, x))\n",
        "    y = np.concatenate((y, getLabels(all_categories[i], x.shape[0])))\n",
        "  return X, y\n"
      ]
    },
    {
      "cell_type": "code",
      "execution_count": 16,
      "metadata": {
        "id": "Gm40LvzGI0r0"
      },
      "outputs": [],
      "source": [
        "# TODO: Read train dataset here\n",
        "trainData = readData(train=True)"
      ]
    },
    {
      "cell_type": "code",
      "source": [
        "trainData[0].shape"
      ],
      "metadata": {
        "id": "F5cBXx-eqeAf",
        "colab": {
          "base_uri": "https://localhost:8080/"
        },
        "outputId": "adef642d-fd96-4e64-d0f3-68c50c075715"
      },
      "execution_count": 17,
      "outputs": [
        {
          "output_type": "execute_result",
          "data": {
            "text/plain": [
              "(27000,)"
            ]
          },
          "metadata": {},
          "execution_count": 17
        }
      ]
    },
    {
      "cell_type": "code",
      "execution_count": 18,
      "metadata": {
        "id": "hG0e6-xjGwqh",
        "colab": {
          "base_uri": "https://localhost:8080/"
        },
        "outputId": "4b248010-2dd3-4759-cf72-4ecc8fb1334d"
      },
      "outputs": [
        {
          "output_type": "stream",
          "name": "stdout",
          "text": [
            "Correct! You earned 4/4 points. You are a star!\n",
            "\n",
            "Your submission has been successfully recorded in the gradebook.\n"
          ]
        }
      ],
      "source": [
        "# PennGrader - DO NOT CHANGE\n",
        "grader.grade(test_case_id = 'testReadData', answer = (trainData[0][:50], trainData[1]))"
      ]
    },
    {
      "cell_type": "markdown",
      "source": [
        "### **Task 1.2**: Implement the functions for data pre-processing"
      ],
      "metadata": {
        "id": "MPmoE-bPKXvn"
      }
    },
    {
      "cell_type": "code",
      "execution_count": 19,
      "metadata": {
        "id": "aSwbbM9K7Bhm"
      },
      "outputs": [],
      "source": [
        "# Find letter index from all_letters, e.g. \"a\" = 0\n",
        "def letterToIndex(letter):\n",
        "    return all_letters.find(letter)\n",
        "\n",
        "'''\n",
        "Convert a line/word to a pytorch tensor of numbers\n",
        "Refer the tutorial in the spec\n",
        "Return: A tensor corresponding to the given line\n",
        "'''\n",
        "def line_to_tensor(line):\n",
        "    tensor = torch.zeros(len(line), 1, n_letters)\n",
        "    for li, letter in enumerate(line):\n",
        "        tensor[li][0][letterToIndex(letter)] = 1\n",
        "    return tensor"
      ]
    },
    {
      "cell_type": "code",
      "execution_count": 20,
      "metadata": {
        "id": "jseWbLXA1vmb",
        "colab": {
          "base_uri": "https://localhost:8080/"
        },
        "outputId": "33a932b5-ef5f-4042-9228-5f17513cb1e5"
      },
      "outputs": [
        {
          "output_type": "stream",
          "name": "stdout",
          "text": [
            "Correct! You earned 4/4 points. You are a star!\n",
            "\n",
            "Your submission has been successfully recorded in the gradebook.\n"
          ]
        }
      ],
      "source": [
        "# PennGrader - DO NOT CHANGE\n",
        "test_tensor = line_to_tensor(\"test_word\").numpy()\n",
        "grader.grade(test_case_id = 'testLineToTensor', answer = test_tensor)"
      ]
    },
    {
      "cell_type": "code",
      "execution_count": 21,
      "metadata": {
        "id": "SignvDOe7Jjj"
      },
      "outputs": [],
      "source": [
        "'''\n",
        "Returns the category/class of the output from the neural network\n",
        "Input: Output of the neural networks (class probabilities) as a tensor\n",
        "Return: A tuple (language, language_index)\n",
        "        language: \"af\", \"cn\", etc.\n",
        "        language_index: 0, 1, etc.\n",
        "'''\n",
        "def category_from_output(output):\n",
        "    top_n, top_i = output.topk(1)\n",
        "    category_i = top_i[0].item()\n",
        "    return all_categories[category_i], category_i"
      ]
    },
    {
      "cell_type": "code",
      "execution_count": 22,
      "metadata": {
        "id": "wA-kpWsn7NWs"
      },
      "outputs": [],
      "source": [
        "import random\n",
        "\n",
        "'''\n",
        "Get a random input output pair to be used for training\n",
        "Refer the tutorial in the spec\n",
        "Input: training data (X, y)\n",
        "Return: A tuple of 4 items: category, line, category_tensor, line_tensor\n",
        "'''\n",
        "def random_training_pair(X, y):\n",
        "  idx = random.randint(0, len(X)-1)\n",
        "  line = X[idx]\n",
        "  line_tensor = line_to_tensor(line)\n",
        "  category = all_categories[y[idx]]\n",
        "  category_tensor = torch.tensor([all_categories.index(category)], dtype=torch.long)\n",
        "  return category, line, category_tensor, line_tensor"
      ]
    },
    {
      "cell_type": "markdown",
      "source": [
        "### **Task 1.3**: Implement functions for model training"
      ],
      "metadata": {
        "id": "13J_9E3uMsdx"
      }
    },
    {
      "cell_type": "code",
      "execution_count": 23,
      "metadata": {
        "id": "zBnI7brX7OpQ"
      },
      "outputs": [],
      "source": [
        "# Just return an output given a line\n",
        "def evaluate(model, line_tensor):\n",
        "  hidden = model.init_hidden()\n",
        "  for i in range(line_tensor.size()[0]):\n",
        "      output, hidden = model(line_tensor[i], hidden)\n",
        "  return output, hidden\n",
        "\n",
        "'''\n",
        "Input: trained model, a list of words X\n",
        "Output: a list of predicted class labels as integers\n",
        "'''\n",
        "def predict(model, X):\n",
        "  line_tensors = [line_to_tensor(line) for line in X]\n",
        "  outputs = [evaluate(model, line_tensor) for line_tensor in line_tensors]\n",
        "  tuple_lst = [category_from_output(output) for output, hidden in outputs]\n",
        "  labels = [guess_i for guess, guess_i in tuple_lst]\n",
        "  return labels\n",
        "\n",
        "'''\n",
        "Input: trained model, a list of words X, a list of class labels as integers y\n",
        "Return: average validation loss\n",
        "'''\n",
        "def val_losses(model, criterion, X, y):\n",
        "  val_losses = []\n",
        "  line_tensors = [line_to_tensor(line) for line in X]\n",
        "  for i in range(len(y)):\n",
        "    output, _ = evaluate(model, line_tensors[i])\n",
        "    category = all_categories[y[i]]\n",
        "    category_tensor = torch.tensor([all_categories.index(category)], dtype=torch.long)\n",
        "    loss = criterion(output, category_tensor)\n",
        "    val_losses.append(loss.item())\n",
        "  avg_loss = sum(val_losses)/len(val_losses)\n",
        "  return avg_loss"
      ]
    },
    {
      "cell_type": "code",
      "execution_count": 24,
      "metadata": {
        "id": "EyhCVeGq7Q6b"
      },
      "outputs": [],
      "source": [
        "'''\n",
        "Input: trained model, a list of words, a list of class labels as integers\n",
        "Output: The accuracy of the given model on the given input X and target y\n",
        "'''\n",
        "def calculateAccuracy(model, X, y):\n",
        "  y_predict = predict(model, X)\n",
        "  matches = [i for i, j in zip(y_predict, y) if i == j]\n",
        "  accuracy = len(matches)/len(y) # round into two decimal places for consistency\n",
        "  # print(f'match {len(matches)}; totoal {len(y)}; accuracy {accuracy}')\n",
        "  return accuracy"
      ]
    },
    {
      "cell_type": "code",
      "execution_count": 25,
      "metadata": {
        "id": "2wpwtSan7RgU"
      },
      "outputs": [],
      "source": [
        "'''\n",
        "Train the model for one epoch/one training word with random_training_pair().\n",
        "Ensure that it runs within 3 seconds.\n",
        "Input: X and y are lists of words as strings and classes as integers respectively\n",
        "Returns: You may return anything\n",
        "'''\n",
        "def trainOneEpoch(model, criterion, optimizer, X, y):\n",
        "    hidden = model.init_hidden()\n",
        "    optimizer.zero_grad()\n",
        "    category, line, category_tensor, line_tensor = random_training_pair(X, y)\n",
        "    for i in range(line_tensor.size()[0]):\n",
        "        output, hidden = model(line_tensor[i], hidden)\n",
        "    loss = criterion(output, category_tensor)\n",
        "    loss.backward()\n",
        "    optimizer.step()\n",
        "    return category, output, loss.item()"
      ]
    },
    {
      "cell_type": "markdown",
      "source": [
        "### **Task 1.4**: Train your model"
      ],
      "metadata": {
        "id": "SLSLO-fXQVSM"
      }
    },
    {
      "cell_type": "code",
      "execution_count": 26,
      "metadata": {
        "id": "zp4MtHQ_lNh0"
      },
      "outputs": [],
      "source": [
        "# 2 linear layers\n",
        "class CharRNNClassify(nn.Module):\n",
        "    def __init__(self, input_size, hidden_size, output_size):\n",
        "      super(CharRNNClassify, self).__init__()\n",
        "      self.hidden_size = hidden_size\n",
        "      self.i2h = nn.Linear(input_size + hidden_size, hidden_size)\n",
        "      self.h2o = nn.Linear(hidden_size, output_size)\n",
        "      self.softmax = nn.LogSoftmax(dim=1)\n",
        "\n",
        "    def forward(self, input, hidden):\n",
        "      combined = torch.cat((input, hidden), 1)\n",
        "      hidden = self.i2h(combined)\n",
        "      output = self.h2o(hidden)\n",
        "      output = self.softmax(output)\n",
        "      return output, hidden\n",
        "\n",
        "    def init_hidden(self):\n",
        "        return torch.zeros(1, self.hidden_size)"
      ]
    },
    {
      "cell_type": "code",
      "source": [
        "# RNN + linear layer\n",
        "class CharRNNClassify(nn.Module):\n",
        "    def __init__(self, input_size, hidden_size, output_size):\n",
        "        super(CharRNNClassify, self).__init__()\n",
        "        self.hidden_size = hidden_size\n",
        "        self.num_layers = 1\n",
        "        self.rnn1 = nn.RNN(input_size = input_size, hidden_size = hidden_size, num_layers = self.num_layers, batch_first = True)\n",
        "        self.h2o = nn.Linear(hidden_size, output_size)\n",
        "        self.softmax = nn.LogSoftmax(dim=1)\n",
        "\n",
        "    def forward(self, input, hidden):\n",
        "      output, hidden = self.rnn1(input, hidden)\n",
        "      output = self.h2o(output.view(-1, self.hidden_size))\n",
        "      output = self.softmax(output)\n",
        "      return output, hidden\n",
        "\n",
        "    def init_hidden(self):\n",
        "        return torch.zeros(self.num_layers, self.hidden_size)"
      ],
      "metadata": {
        "id": "iC5PjfRp3Yf8"
      },
      "execution_count": 32,
      "outputs": []
    },
    {
      "cell_type": "code",
      "source": [
        "# LSTM + linear layer\n",
        "class CharRNNClassify(nn.Module):\n",
        "    def __init__(self, input_size, hidden_size, output_size):\n",
        "        super(CharRNNClassify, self).__init__()\n",
        "        self.hidden_size = hidden_size\n",
        "        self.num_layers = 1\n",
        "        self.lstm = nn.LSTM(input_size=input_size, hidden_size=hidden_size, num_layers = self.num_layers, batch_first = True) #lstm\n",
        "        self.h2o = nn.Linear(hidden_size, output_size)\n",
        "        self.softmax = nn.LogSoftmax(dim=1)\n",
        "\n",
        "    def forward(self, input, hidden):\n",
        "        output, hidden = self.lstm(input, hidden)\n",
        "        output = self.h2o(output.view(-1, self.hidden_size))\n",
        "        output = self.softmax(output)\n",
        "        return output, hidden\n",
        "\n",
        "    def init_hidden(self):\n",
        "        h_0 = Variable(torch.zeros(1, self.hidden_size)) #hidden state\n",
        "        c_0 = Variable(torch.zeros(1, self.hidden_size)) #internal state\n",
        "        return h_0, c_0"
      ],
      "metadata": {
        "id": "RXXt_Thm_n_r"
      },
      "execution_count": 85,
      "outputs": []
    },
    {
      "cell_type": "code",
      "source": [
        "# LSTM + multiple linear layer + dropout\n",
        "class CharRNNClassify(nn.Module):\n",
        "    def __init__(self, input_size, hidden_size, output_size):\n",
        "        super(CharRNNClassify, self).__init__()\n",
        "        self.hidden_size = hidden_size\n",
        "        self.num_layers = 1\n",
        "        self.lstm = nn.LSTM(input_size=input_size, hidden_size=hidden_size, num_layers = self.num_layers, batch_first = True) #lstm\n",
        "        # self.lstm2 = nn.LSTM(input_size=hidden_size, hidden_size=hidden_size, num_layers = self.num_layers, batch_first = True)\n",
        "        self.dropout = nn.Dropout(0.1)\n",
        "        self.h2h = nn.Linear(hidden_size, 128)\n",
        "        self.relu = nn.ReLU()\n",
        "        self.h2o = nn.Linear(128, output_size)\n",
        "        self.softmax = nn.LogSoftmax(dim=1)\n",
        "\n",
        "    def forward(self, input, hidden):\n",
        "        output, hidden = self.lstm(input, hidden)\n",
        "        drop = self.dropout(output)\n",
        "        output = self.h2h(drop.view(-1, self.hidden_size)) # first linear\n",
        "        output = self.relu(output) # for the model to better learn non-linear functions\n",
        "        output = self.h2o(output) # second linear\n",
        "        output = self.softmax(output)\n",
        "        return output, hidden\n",
        "\n",
        "    def init_hidden(self):\n",
        "        h_0 = Variable(torch.zeros(1, self.hidden_size)) #hidden state\n",
        "        c_0 = Variable(torch.zeros(1, self.hidden_size)) #internal state\n",
        "        return h_0, c_0"
      ],
      "metadata": {
        "id": "8mzgIWIDQVU8"
      },
      "execution_count": 75,
      "outputs": []
    },
    {
      "cell_type": "code",
      "source": [
        "# bidrectional lstm + linear layer + dropout\n",
        "class CharRNNClassify(nn.Module):\n",
        "    def __init__(self, input_size, hidden_size, output_size):\n",
        "        super(CharRNNClassify, self).__init__()\n",
        "        self.hidden_size = hidden_size\n",
        "        self.num_layers = 1\n",
        "        self.lstm = nn.LSTM(input_size=input_size, hidden_size=hidden_size, num_layers = self.num_layers, batch_first = True, bidirectional=True) #lstm\n",
        "        # self.lstm2 = nn.LSTM(input_size=hidden_size, hidden_size=hidden_size, num_layers = self.num_layers, batch_first = True)\n",
        "        # self.dropout = nn.Dropout(0.1)\n",
        "        self.h2o = nn.Linear(hidden_size*2, output_size)\n",
        "        self.softmax = nn.LogSoftmax(dim=1)\n",
        "\n",
        "    def forward(self, input, hidden):\n",
        "        output, hidden = self.lstm(input, hidden)\n",
        "        # drop = self.dropout(output)\n",
        "        output = self.h2o(output.view(-1, self.hidden_size*2))\n",
        "        output = self.softmax(output)\n",
        "        return output, hidden\n",
        "\n",
        "    def init_hidden(self):\n",
        "        h_0 = Variable(torch.zeros(2, self.hidden_size)) #hidden state\n",
        "        c_0 = Variable(torch.zeros(2, self.hidden_size)) #internal state\n",
        "        return h_0, c_0"
      ],
      "metadata": {
        "id": "AmjW7B14loGX"
      },
      "execution_count": 27,
      "outputs": []
    },
    {
      "cell_type": "code",
      "source": [
        "# GRU + linear layer\n",
        "class CharRNNClassify(nn.Module):\n",
        "    def __init__(self, input_size, hidden_size, output_size):\n",
        "        super(CharRNNClassify, self).__init__()\n",
        "        self.hidden_size = hidden_size\n",
        "        self.num_layers = 1\n",
        "        self.gru= nn.GRU(input_size=input_size, hidden_size=hidden_size, num_layers = self.num_layers, batch_first = True) #lstm\n",
        "        self.h2o = nn.Linear(hidden_size, output_size)\n",
        "        self.softmax = nn.LogSoftmax(dim=1)\n",
        "\n",
        "    def forward(self, input, hidden):\n",
        "        output, hidden = self.gru(input, hidden)\n",
        "        output = self.h2o(output.view(-1, self.hidden_size))\n",
        "        output = self.softmax(output)\n",
        "        return output, hidden\n",
        "\n",
        "    def init_hidden(self):\n",
        "        h_0 = Variable(torch.zeros(1, self.hidden_size)) #hidden state\n",
        "        return h_0"
      ],
      "metadata": {
        "id": "fnPzBTwpsJMv"
      },
      "execution_count": 66,
      "outputs": []
    },
    {
      "cell_type": "code",
      "source": [
        "device = torch.device(\"cuda\")"
      ],
      "metadata": {
        "id": "ICC93rJcwZ6l"
      },
      "execution_count": null,
      "outputs": []
    },
    {
      "cell_type": "code",
      "source": [
        "n_hidden = 128\n",
        "output_size = n_categories\n",
        "input_size = n_letters\n",
        "test_model = CharRNNClassify(input_size, n_hidden, output_size)\n",
        "\n",
        "category, output, loss = trainOneEpoch(test_model,nn.NLLLoss(),\n",
        "                torch.optim.SGD(test_model.parameters(), lr=0.005),\n",
        "                trainData[0], trainData[1])\n",
        "guess, guess_i = category_from_output(output)\n",
        "print(guess)\n",
        "print(category)\n"
      ],
      "metadata": {
        "colab": {
          "base_uri": "https://localhost:8080/"
        },
        "id": "pCFKOlJTcU_M",
        "outputId": "a41648df-dabc-4b41-c7a6-f65fe521d456"
      },
      "execution_count": 26,
      "outputs": [
        {
          "output_type": "stream",
          "name": "stdout",
          "text": [
            "ir\n",
            "af\n"
          ]
        }
      ]
    },
    {
      "cell_type": "code",
      "execution_count": 45,
      "metadata": {
        "id": "eeo4GkrrlMz6"
      },
      "outputs": [],
      "source": [
        "import time\n",
        "import math\n",
        "import matplotlib.pyplot as plt\n",
        "\n",
        "trainData = readData(train=True)\n",
        "valData = readData(train=False)\n",
        "output_size = n_categories\n",
        "input_size = n_letters\n",
        "\n",
        "print_every = 5000\n",
        "plot_every = 1000\n",
        "\n",
        "def timeSince(since):\n",
        "    now = time.time()\n",
        "    s = now - since\n",
        "    m = math.floor(s / 60)\n",
        "    s -= m * 60\n",
        "    return '%dm %ds' % (m, s)\n",
        "\n",
        "'''\n",
        "Use this to train and save your classification model.\n",
        "Save your model with the filename \"model_classify\"\n",
        "Consider printing out some stats to track training progress\n",
        "Record training loss and validation loss for analysis\n",
        "You may return anything\n",
        "'''\n",
        "def run(n_hidden=128, lr=0.005, n_iters=100000, train=trainData, val=valData):\n",
        "  model = CharRNNClassify(input_size, n_hidden, output_size)\n",
        "  start = time.time()\n",
        "\n",
        "  # Keep track of losses for plotting\n",
        "  cur_train_loss = 0\n",
        "  all_train_losses = []\n",
        "\n",
        "  all_val_losses = []\n",
        "\n",
        "  acc_ct = 0\n",
        "  all_acc = []\n",
        "\n",
        "  for iter in range(1, n_iters + 1):\n",
        "      category, output, train_loss = trainOneEpoch(model, nn.NLLLoss(),\n",
        "                torch.optim.SGD(model.parameters(), lr=lr),\n",
        "                trainData[0], trainData[1])\n",
        "      cur_train_loss += train_loss\n",
        "      guess, guess_i = category_from_output(output)\n",
        "      if guess == category:\n",
        "          correct = '✓'\n",
        "          acc_ct += 1\n",
        "      else:\n",
        "          correct = '✗ (%s)' % category\n",
        "\n",
        "      # Add current loss avg to list of losses and accuracy scores\n",
        "      if iter % plot_every == 0:\n",
        "          all_train_losses.append(cur_train_loss / plot_every)\n",
        "          cur_train_loss = 0\n",
        "          all_acc.append(acc_ct / plot_every)\n",
        "          acc_ct = 0\n",
        "      '''\n",
        "      if iter % val_every == 0:\n",
        "          val_loss = val_losses(model, nn.NLLLoss(), valData[0], valData[1])\n",
        "          all_val_losses.append(val_loss)\n",
        "      '''\n",
        "\n",
        "\n",
        "      # Print ``iter`` number, loss, accuracy, guess and correct category\n",
        "      if iter % print_every == 0:\n",
        "        print('%d %d%% (%s) t_loss: %.4f t_acc: %.4f %s %s' % (iter, iter / n_iters * 100, timeSince(start), train_loss, all_acc[-1], guess, correct))\n",
        "\n",
        "  model_name = 'bLSTM_model_classify_' + str(n_hidden) + '_' + str(lr) + '_' + str(n_iters)\n",
        "  torch.save(model.state_dict(), model_name)\n",
        "\n",
        "  return all_train_losses"
      ]
    },
    {
      "cell_type": "code",
      "source": [
        "# LSTM + linear\n",
        "all_train_losses = run(n_hidden=128, lr=0.1, n_iters=300000)"
      ],
      "metadata": {
        "colab": {
          "base_uri": "https://localhost:8080/"
        },
        "id": "tP4xQEQQ3eLv",
        "outputId": "85c88181-25b2-4696-d8d3-a387fc1594d1"
      },
      "execution_count": 46,
      "outputs": [
        {
          "output_type": "stream",
          "name": "stdout",
          "text": [
            "5000 1% (1m 27s) t_loss: 1.2707 t_acc: 0.2840 de ✗ (fr)\n",
            "10000 3% (3m 0s) t_loss: 0.6622 t_acc: 0.3840 in ✓\n",
            "15000 5% (4m 32s) t_loss: 4.7457 t_acc: 0.4560 af ✗ (fi)\n",
            "20000 6% (5m 57s) t_loss: 4.6470 t_acc: 0.5610 in ✗ (af)\n",
            "25000 8% (7m 22s) t_loss: 1.1384 t_acc: 0.6090 ir ✗ (za)\n",
            "30000 10% (8m 48s) t_loss: 0.4907 t_acc: 0.6140 af ✓\n",
            "35000 11% (10m 13s) t_loss: 0.0331 t_acc: 0.6550 cn ✓\n",
            "40000 13% (11m 36s) t_loss: 0.0539 t_acc: 0.6900 fi ✓\n",
            "45000 15% (13m 2s) t_loss: 0.5406 t_acc: 0.6810 fi ✓\n",
            "50000 16% (14m 28s) t_loss: 0.1301 t_acc: 0.6700 de ✓\n",
            "55000 18% (15m 56s) t_loss: 0.9089 t_acc: 0.6780 af ✓\n",
            "60000 20% (17m 20s) t_loss: 1.6497 t_acc: 0.6990 af ✗ (ir)\n",
            "65000 21% (18m 45s) t_loss: 0.4091 t_acc: 0.7080 za ✓\n",
            "70000 23% (20m 9s) t_loss: 2.9893 t_acc: 0.7350 af ✗ (za)\n",
            "75000 25% (21m 35s) t_loss: 0.0384 t_acc: 0.7230 ir ✓\n",
            "80000 26% (23m 0s) t_loss: 2.1858 t_acc: 0.7290 cn ✗ (pk)\n",
            "85000 28% (24m 25s) t_loss: 0.3025 t_acc: 0.7170 fr ✓\n",
            "90000 30% (25m 48s) t_loss: 0.9353 t_acc: 0.7350 fr ✗ (za)\n",
            "95000 31% (27m 14s) t_loss: 0.0512 t_acc: 0.7290 fi ✓\n",
            "100000 33% (28m 41s) t_loss: 0.2673 t_acc: 0.7410 fi ✓\n",
            "105000 35% (30m 8s) t_loss: 1.7331 t_acc: 0.7480 de ✗ (fr)\n",
            "110000 36% (31m 35s) t_loss: 0.1350 t_acc: 0.7110 fi ✓\n",
            "115000 38% (33m 7s) t_loss: 0.0388 t_acc: 0.7470 de ✓\n",
            "120000 40% (34m 37s) t_loss: 0.4703 t_acc: 0.7170 af ✓\n",
            "125000 41% (36m 7s) t_loss: 0.2000 t_acc: 0.7430 in ✓\n",
            "130000 43% (37m 39s) t_loss: 0.4269 t_acc: 0.7480 in ✓\n",
            "135000 45% (39m 8s) t_loss: 0.9222 t_acc: 0.7520 za ✗ (pk)\n",
            "140000 46% (40m 38s) t_loss: 0.4374 t_acc: 0.7650 de ✓\n",
            "145000 48% (42m 9s) t_loss: 0.1289 t_acc: 0.7560 fi ✓\n",
            "150000 50% (43m 37s) t_loss: 0.1384 t_acc: 0.7630 fr ✓\n",
            "155000 51% (45m 7s) t_loss: 0.0811 t_acc: 0.7790 af ✓\n",
            "160000 53% (46m 37s) t_loss: 0.6525 t_acc: 0.7660 pk ✓\n",
            "165000 55% (48m 3s) t_loss: 2.4278 t_acc: 0.7320 de ✗ (za)\n",
            "170000 56% (49m 31s) t_loss: 0.9520 t_acc: 0.7470 ir ✗ (af)\n",
            "175000 58% (50m 58s) t_loss: 0.8069 t_acc: 0.7390 de ✓\n",
            "180000 60% (52m 26s) t_loss: 0.2610 t_acc: 0.7630 ir ✓\n",
            "185000 61% (53m 54s) t_loss: 0.2058 t_acc: 0.7700 pk ✓\n",
            "190000 63% (55m 21s) t_loss: 0.0027 t_acc: 0.7590 ir ✓\n",
            "195000 65% (56m 51s) t_loss: 0.1431 t_acc: 0.7750 fi ✓\n",
            "200000 66% (58m 18s) t_loss: 0.0282 t_acc: 0.7410 fr ✓\n",
            "205000 68% (59m 47s) t_loss: 0.2287 t_acc: 0.7710 de ✓\n",
            "210000 70% (61m 12s) t_loss: 0.1387 t_acc: 0.7720 af ✓\n",
            "215000 71% (62m 41s) t_loss: 1.9952 t_acc: 0.7910 in ✗ (fi)\n",
            "220000 73% (64m 8s) t_loss: 0.3154 t_acc: 0.7820 ir ✓\n",
            "225000 75% (65m 35s) t_loss: 0.0675 t_acc: 0.7890 cn ✓\n",
            "230000 76% (67m 2s) t_loss: 0.9195 t_acc: 0.7690 pk ✓\n",
            "235000 78% (68m 28s) t_loss: 0.0414 t_acc: 0.7910 pk ✓\n",
            "240000 80% (69m 57s) t_loss: 1.1934 t_acc: 0.7910 ir ✓\n",
            "245000 81% (71m 23s) t_loss: 0.0034 t_acc: 0.7960 fr ✓\n",
            "250000 83% (72m 50s) t_loss: 0.0712 t_acc: 0.7930 fr ✓\n",
            "255000 85% (74m 16s) t_loss: 0.0022 t_acc: 0.7770 za ✓\n",
            "260000 86% (75m 45s) t_loss: 1.1348 t_acc: 0.7900 af ✗ (ir)\n",
            "265000 88% (77m 11s) t_loss: 0.7919 t_acc: 0.7880 af ✓\n",
            "270000 90% (78m 37s) t_loss: 0.2413 t_acc: 0.7980 af ✓\n",
            "275000 91% (80m 5s) t_loss: 0.0049 t_acc: 0.7900 fi ✓\n",
            "280000 93% (81m 31s) t_loss: 0.0016 t_acc: 0.7680 za ✓\n",
            "285000 95% (82m 58s) t_loss: 0.0116 t_acc: 0.7800 af ✓\n",
            "290000 96% (84m 24s) t_loss: 6.4729 t_acc: 0.8050 de ✗ (fi)\n",
            "295000 98% (85m 51s) t_loss: 0.2744 t_acc: 0.7910 af ✓\n",
            "300000 100% (87m 18s) t_loss: 3.5033 t_acc: 0.7930 za ✗ (pk)\n"
          ]
        }
      ]
    },
    {
      "cell_type": "code",
      "source": [
        "lrs = [0.003, 0.005, 0.01, 0.05, 0.1, 0.2]\n",
        "all_losses = []\n",
        "for lr in lrs:\n",
        "  t_loss = run(n_hidden=128, lr=lr, n_iters=100000)\n",
        "  avg = round(sum(t_loss)/len(t_loss), 2)\n",
        "  all_losses.append(avg)"
      ],
      "metadata": {
        "id": "iw3CNEqLS5I1"
      },
      "execution_count": 37,
      "outputs": []
    },
    {
      "cell_type": "code",
      "source": [
        "all_losses"
      ],
      "metadata": {
        "colab": {
          "base_uri": "https://localhost:8080/"
        },
        "id": "7ISUHC6YNDxq",
        "outputId": "d66f1d79-1108-4240-a064-c0b38a5b7d95"
      },
      "execution_count": 40,
      "outputs": [
        {
          "output_type": "execute_result",
          "data": {
            "text/plain": [
              "[1.69, 1.55, 1.34, 0.98, 0.95, 2.08]"
            ]
          },
          "metadata": {},
          "execution_count": 40
        }
      ]
    },
    {
      "cell_type": "code",
      "source": [
        "plt.figure()\n",
        "plt.ylabel('training loss')\n",
        "plt.xlabel('learning rate')\n",
        "plt.plot(lrs, all_losses)\n",
        "plt.legend()\n",
        "plt.suptitle('avg_train_loss at different learning rates')\n",
        "plt.show()"
      ],
      "metadata": {
        "colab": {
          "base_uri": "https://localhost:8080/",
          "height": 535
        },
        "id": "PjF2K9U6UH46",
        "outputId": "6b1b1591-ad2c-48a5-9f9b-1373fe9a2156"
      },
      "execution_count": 44,
      "outputs": [
        {
          "output_type": "stream",
          "name": "stderr",
          "text": [
            "WARNING:matplotlib.legend:No artists with labels found to put in legend.  Note that artists whose label start with an underscore are ignored when legend() is called with no argument.\n"
          ]
        },
        {
          "output_type": "display_data",
          "data": {
            "text/plain": [
              "<Figure size 640x480 with 1 Axes>"
            ],
            "image/png": "[encoded data removed]"
          },
          "metadata": {}
        }
      ]
    },
    {
      "cell_type": "code",
      "source": [
        "all_val_losses"
      ],
      "metadata": {
        "colab": {
          "base_uri": "https://localhost:8080/"
        },
        "id": "S0ZjKbaBIH5A",
        "outputId": "e09108f0-082e-4824-e0cc-a8be3b3b9196"
      },
      "execution_count": 49,
      "outputs": [
        {
          "output_type": "execute_result",
          "data": {
            "text/plain": [
              "[1.1597808442790605,\n",
              " 1.0205468240900275,\n",
              " 0.982734974024675,\n",
              " 0.9497345459853306,\n",
              " 0.9531865119805055,\n",
              " 0.9671581272290779,\n",
              " 0.9418463949504399,\n",
              " 0.9530757723007967,\n",
              " 0.9490781172557151,\n",
              " 0.9989810051599021]"
            ]
          },
          "metadata": {},
          "execution_count": 49
        }
      ]
    },
    {
      "cell_type": "code",
      "source": [
        "  fig, ax = plt.subplots()\n",
        "  plt.ylabel('loss')\n",
        "  plt.xlabel('150k iterations (progress%)')\n",
        "  x1 = np.linspace(0, 1, 150)\n",
        "  x2 = np.linspace(0, 1, 10)\n",
        "  ax.plot(x1, all_train_losses, label='train_loss')\n",
        "  ax.plot(x2, all_val_losses, color=\"red\", label='val_loss')\n",
        "\n",
        "  plt.legend()\n",
        "  plt.suptitle('train_loss VS val_loss')\n",
        "  fig.show()"
      ],
      "metadata": {
        "colab": {
          "base_uri": "https://localhost:8080/",
          "height": 497
        },
        "id": "fDpQtfHraT6f",
        "outputId": "1021c18f-ccd5-4966-8ac1-ac5a5c406140"
      },
      "execution_count": 68,
      "outputs": [
        {
          "output_type": "display_data",
          "data": {
            "text/plain": [
              "<Figure size 640x480 with 1 Axes>"
            ],
            "image/png": "[encoded data removed]"
          },
          "metadata": {}
        }
      ]
    },
    {
      "cell_type": "code",
      "execution_count": null,
      "metadata": {
        "id": "TLmJdDmvKg0U",
        "colab": {
          "base_uri": "https://localhost:8080/"
        },
        "outputId": "cc034c73-78c7-4f9d-961f-8dbc3fc0b596"
      },
      "outputs": [
        {
          "output_type": "execute_result",
          "data": {
            "text/plain": [
              "<All keys matched successfully>"
            ]
          },
          "metadata": {},
          "execution_count": 52
        }
      ],
      "source": [
        "# Todo: Load saved model for testing\n",
        "n_hidden = 128\n",
        "output_size = n_categories\n",
        "input_size = n_letters\n",
        "\n",
        "test_model = CharRNNClassify(input_size, n_hidden, output_size)\n",
        "test_model.load_state_dict(torch.load('model_classify_128_0.005_200000'))\n"
      ]
    },
    {
      "cell_type": "code",
      "source": [
        "# Todo: Load saved model for testing\n",
        "n_hidden = 128\n",
        "output_size = n_categories\n",
        "input_size = n_letters\n",
        "\n",
        "test_model = CharRNNClassify(input_size, n_hidden, output_size)\n",
        "test_model.load_state_dict(torch.load('model_classify_128_0.005_200000'))"
      ],
      "metadata": {
        "colab": {
          "base_uri": "https://localhost:8080/"
        },
        "id": "u-HgPttND2C3",
        "outputId": "a7ef3189-dd2d-44d2-973c-e33cb7c627ea"
      },
      "execution_count": null,
      "outputs": [
        {
          "output_type": "execute_result",
          "data": {
            "text/plain": [
              "<All keys matched successfully>"
            ]
          },
          "metadata": {},
          "execution_count": 28
        }
      ]
    },
    {
      "cell_type": "code",
      "execution_count": null,
      "metadata": {
        "id": "m8A4uYU4XYbv",
        "colab": {
          "base_uri": "https://localhost:8080/"
        },
        "outputId": "ae3049e2-0d13-4d0d-990d-79adad09033c"
      },
      "outputs": [
        {
          "output_type": "stream",
          "name": "stdout",
          "text": [
            "Correct! You earned 4/4 points. You are a star!\n",
            "\n",
            "Your submission has been successfully recorded in the gradebook.\n"
          ]
        }
      ],
      "source": [
        "# PennGrader - DO NOT CHANGE\n",
        "before = list(test_model.parameters())[-1].clone()\n",
        "trainOneEpoch(test_model, nn.NLLLoss(),\n",
        "              torch.optim.SGD(test_model.parameters(), lr=0.2),\n",
        "              trainData[0], trainData[1])\n",
        "after = list(test_model.parameters())[-1].clone()\n",
        "\n",
        "grader.grade(test_case_id = 'testModelTrain', answer = (before.data.numpy(), after.data.numpy()))"
      ]
    },
    {
      "cell_type": "code",
      "source": [
        "import matplotlib.pyplot as plt\n",
        "import matplotlib.ticker as ticker\n",
        "\n",
        "'''\n",
        "Use this to plot confusion matrix for each model and save the plot.\n",
        "'''\n",
        "def confusion_matrix(model_name, data, n_hidden):\n",
        "\n",
        "  test_model = CharRNNClassify(input_size, n_hidden, output_size)\n",
        "  test_model.load_state_dict(torch.load(model_name))\n",
        "\n",
        "  # Keep track of correct guesses in a confusion matrix\n",
        "  confusion = torch.zeros(n_categories, n_categories)\n",
        "  n_confusion = 10000\n",
        "\n",
        "  # Go through a bunch of examples and record which are correctly guessed\n",
        "  for i in range(n_confusion):\n",
        "      category, line, category_tensor, line_tensor = random_training_pair(data[0], data[1])\n",
        "      output, hidden = evaluate(test_model, line_tensor)\n",
        "      guess, guess_i = category_from_output(output)\n",
        "      category_i = all_categories.index(category)\n",
        "      confusion[category_i][guess_i] += 1\n",
        "\n",
        "  # Normalize by dividing every row by its sum\n",
        "  for i in range(n_categories):\n",
        "      confusion[i] = confusion[i] / confusion[i].sum()\n",
        "\n",
        "  # Set up plot\n",
        "  fig = plt.figure()\n",
        "  ax = fig.add_subplot(111)\n",
        "  cax = ax.matshow(confusion.numpy())\n",
        "  fig.colorbar(cax)\n",
        "\n",
        "  # Set up axes\n",
        "  ax.set_xticklabels([''] + all_categories, rotation=90)\n",
        "  ax.set_yticklabels([''] + all_categories)\n",
        "\n",
        "  # Force label at every tick\n",
        "  ax.xaxis.set_major_locator(ticker.MultipleLocator(1))\n",
        "  ax.yaxis.set_major_locator(ticker.MultipleLocator(1))\n",
        "\n",
        "  # sphinx_gallery_thumbnail_number = 2\n",
        "  # lst = model_name.split('_')\n",
        "  # fig_name = 'cm_' + lst[0] + '_' + lst[1] + '_' + lst[4] + '_'+ lst[5][-1:] + '_' + lst[6] + '.jpg'\n",
        "  # plt.savefig(fig_name)\n",
        "  plt.show()"
      ],
      "metadata": {
        "id": "QSL39Pt2rrTt"
      },
      "execution_count": 31,
      "outputs": []
    },
    {
      "cell_type": "code",
      "source": [
        "# Todo: Load saved model for testing\n",
        "n_hidden = 128\n",
        "output_size = n_categories\n",
        "input_size = n_letters\n",
        "confusion_matrix('bLSTM_model_classify_128_0.1_300000', trainData, n_hidden)"
      ],
      "metadata": {
        "colab": {
          "base_uri": "https://localhost:8080/",
          "height": 509
        },
        "id": "CXjznW2238of",
        "outputId": "11d3ce26-156c-4484-b139-f7ffcfc4496b"
      },
      "execution_count": 47,
      "outputs": [
        {
          "output_type": "stream",
          "name": "stderr",
          "text": [
            "<ipython-input-31-d5013c548b1f>:35: UserWarning: FixedFormatter should only be used together with FixedLocator\n",
            "  ax.set_xticklabels([''] + all_categories, rotation=90)\n",
            "<ipython-input-31-d5013c548b1f>:36: UserWarning: FixedFormatter should only be used together with FixedLocator\n",
            "  ax.set_yticklabels([''] + all_categories)\n"
          ]
        },
        {
          "output_type": "display_data",
          "data": {
            "text/plain": [
              "<Figure size 640x480 with 2 Axes>"
            ],
            "image/png": "[encoded data removed]"
          },
          "metadata": {}
        }
      ]
    },
    {
      "cell_type": "markdown",
      "metadata": {
        "id": "doj-gwmhlhSy"
      },
      "source": [
        "\n",
        "##**Experimentation and Analysis**\n",
        "\n",
        "Complete the following analysis on the city names dataset, and include your finding in the report."
      ]
    },
    {
      "cell_type": "markdown",
      "metadata": {
        "id": "d9wCZHzCiMJO"
      },
      "source": [
        "### **Task 1.5**\n",
        "Write code to output accuracy on the validation set. Include your best accuracy in the report. (For a benchmark, the TAs were able to get accuracy above 50% without any hyperparameter optimization) Discuss where your model is making mistakes. Use a confusion matrix plot to support your answer."
      ]
    },
    {
      "cell_type": "code",
      "execution_count": 48,
      "metadata": {
        "id": "UQJtTv0LLnXl",
        "colab": {
          "base_uri": "https://localhost:8080/"
        },
        "outputId": "e269a7e9-5d40-45f5-ca30-8ac2bf1c05dd"
      },
      "outputs": [
        {
          "output_type": "execute_result",
          "data": {
            "text/plain": [
              "<All keys matched successfully>"
            ]
          },
          "metadata": {},
          "execution_count": 48
        }
      ],
      "source": [
        "# Todo: Load saved model\n",
        "model_name = 'bLSTM_model_classify_128_0.1_300000'\n",
        "test_model = CharRNNClassify(input_size, 128, output_size)\n",
        "test_model.load_state_dict(torch.load(model_name))"
      ]
    },
    {
      "cell_type": "code",
      "source": [
        "# TODO: Read validation dataset\n",
        "X_val, y_val = readData(train=False)\n",
        "X_val_lst = X_val.tolist()\n",
        "y_val_lst = y_val.tolist()"
      ],
      "metadata": {
        "id": "mSMmpJoWmXO5"
      },
      "execution_count": 36,
      "outputs": []
    },
    {
      "cell_type": "code",
      "execution_count": 49,
      "metadata": {
        "id": "WZbmyaX2J2RV",
        "colab": {
          "base_uri": "https://localhost:8080/"
        },
        "outputId": "e1a74e56-f0ad-4b91-8eb1-698117b43b09"
      },
      "outputs": [
        {
          "output_type": "execute_result",
          "data": {
            "text/plain": [
              "0.6844444444444444"
            ]
          },
          "metadata": {},
          "execution_count": 49
        }
      ],
      "source": [
        "# Todo: Compute Validation accuracy\n",
        "val_acc = calculateAccuracy(test_model, X_val_lst, y_val_lst)\n",
        "val_acc"
      ]
    },
    {
      "cell_type": "code",
      "execution_count": null,
      "metadata": {
        "id": "AFUzYByoofi8",
        "colab": {
          "base_uri": "https://localhost:8080/"
        },
        "outputId": "f05179aa-8da1-41c9-9524-a06a167538e8"
      },
      "outputs": [
        {
          "output_type": "stream",
          "name": "stdout",
          "text": [
            "Correct! You earned 4/4 points. You are a star!\n",
            "\n",
            "Your submission has been successfully recorded in the gradebook.\n"
          ]
        }
      ],
      "source": [
        "# PennGrader - DO NOT CHANGE\n",
        "grader.grade(test_case_id = 'testValidation', answer = val_acc)"
      ]
    },
    {
      "cell_type": "markdown",
      "metadata": {
        "id": "fRQLluApliRj"
      },
      "source": [
        "### **Task 1.6**\n",
        "Periodically compute the loss on the validation set, and create a plot with the training and validation loss as training progresses. Is your model overfitting? Include the plot in your report."
      ]
    },
    {
      "cell_type": "code",
      "execution_count": null,
      "metadata": {
        "id": "ZyR3dVrcliXs"
      },
      "outputs": [],
      "source": [
        "# TODO: plot training and validation loss\n"
      ]
    },
    {
      "cell_type": "markdown",
      "metadata": {
        "id": "fKeoARpclidS"
      },
      "source": [
        "### **Task 1.7**\n",
        "Experiment with the learning rate. You can try a few different learning rates and observe how this affects the loss. Another common practice is to drop the learning rate when the loss has plateaued. Use plots to explain your experiments and their effects on the loss."
      ]
    },
    {
      "cell_type": "code",
      "execution_count": null,
      "metadata": {
        "id": "HqrwGe02lijs"
      },
      "outputs": [],
      "source": [
        "# TODO: Use plots to explain your experiments and their effects on the loss.\n"
      ]
    },
    {
      "cell_type": "markdown",
      "metadata": {
        "id": "FUatpv1Sliqf"
      },
      "source": [
        "###  **Task 1.8**\n",
        "Experiment with the size of the hidden layer or the model architecture How does this affect validation accuracy?"
      ]
    },
    {
      "cell_type": "code",
      "execution_count": null,
      "metadata": {
        "id": "oT1_h96blivR"
      },
      "outputs": [],
      "source": []
    },
    {
      "cell_type": "markdown",
      "metadata": {
        "id": "A0pL4vvAl9h1"
      },
      "source": [
        "## **Leaderboard**\n",
        "\n",
        "Write code to make predictions on the provided test set. The test set has one unlabeled city name per line. Your code should output a file `labels.txt` with one two-letter country code per line. Make sure your test accuracy can pass the auto-grader and then experiment to achieve higher values. Extra credit will be given to the top 5 leaderboard submissions. Here are some ideas for improving your leaderboard performance:\n",
        "\n",
        " - Try dropout if your model is overfitting\n",
        " - Experiment with different loss functions, optimizers\n",
        " - Test out label smoothing\n",
        " - Compare the different types of RNNs - RNN, LSTM, GRU units.\n",
        " - Use a different initalization for the weights, for example, small random values instead of 0s\n",
        "\n",
        "In your report, describe your final model and training parameters.\n",
        "\n",
        "## **Bookkeeping**\n",
        "\n",
        "Another tip for experimenting with neural network hyperparameters is to maintain notes (e.g. a spreadsheet or text-file) with different parameters and their resulting accuray. As you can imagine, there is a combinatorial explosion of the possible hyperparameter space so navigating it efficiently is best done by remembering your past experiments. Feel free to include this in your report as well."
      ]
    },
    {
      "cell_type": "markdown",
      "source": [
        "### **Task 1.9**: Make predictions on the test set"
      ],
      "metadata": {
        "id": "W3p676LmUl_6"
      }
    },
    {
      "cell_type": "code",
      "execution_count": 38,
      "metadata": {
        "id": "0-lD1f2DZv1B"
      },
      "outputs": [],
      "source": [
        "# Helper function to load test set\n",
        "def loadTest(filePath, label=False):\n",
        "  arr = []\n",
        "  with codecs.open(filePath, \"r\",encoding='utf-8', errors='ignore') as fp:\n",
        "    if not label:\n",
        "      for line in fp:\n",
        "          arr.append(line.rstrip(\"\\n\"))\n",
        "    else:\n",
        "      for line in fp:\n",
        "        arr.append(int(languages.index(line.rstrip(\"\\n\"))))\n",
        "  return np.array(arr)\n",
        "\n",
        "# Test set\n",
        "cities_test = loadTest(\"./cities_test.txt\")"
      ]
    },
    {
      "cell_type": "code",
      "source": [
        "len(cities_test)"
      ],
      "metadata": {
        "colab": {
          "base_uri": "https://localhost:8080/"
        },
        "id": "cpKtqY26RX44",
        "outputId": "7d4f8163-89fb-491e-9215-4b7a7fc7c421"
      },
      "execution_count": 39,
      "outputs": [
        {
          "output_type": "execute_result",
          "data": {
            "text/plain": [
              "900"
            ]
          },
          "metadata": {},
          "execution_count": 39
        }
      ]
    },
    {
      "cell_type": "code",
      "execution_count": 50,
      "metadata": {
        "id": "W05wolkXZdeY"
      },
      "outputs": [],
      "source": [
        "# TODO: Load your model here and make predictions\n",
        "model_name = 'bLSTM_model_classify_128_0.1_300000'\n",
        "test_model = CharRNNClassify(input_size, 128, output_size)\n",
        "test_model.load_state_dict(torch.load(model_name))\n",
        "\n",
        "preds = predict(test_model, cities_test)"
      ]
    },
    {
      "cell_type": "code",
      "source": [
        "all_categories[preds[0]]"
      ],
      "metadata": {
        "colab": {
          "base_uri": "https://localhost:8080/",
          "height": 35
        },
        "id": "DJOw97KvR5EM",
        "outputId": "07e9b466-a69a-458c-f325-97ef7859ec94"
      },
      "execution_count": 80,
      "outputs": [
        {
          "output_type": "execute_result",
          "data": {
            "text/plain": [
              "'pk'"
            ],
            "application/vnd.google.colaboratory.intrinsic+json": {
              "type": "string"
            }
          },
          "metadata": {},
          "execution_count": 80
        }
      ]
    },
    {
      "cell_type": "code",
      "source": [
        "# TODO: Save predictions as \"labels.txt\" with one two-letter country code per line.\n",
        "with open('labels.txt', 'w') as f:\n",
        "    for pred in preds:\n",
        "        f.write(f\"{all_categories[pred]}\\n\")"
      ],
      "metadata": {
        "id": "JFel9jgurfe7"
      },
      "execution_count": 51,
      "outputs": []
    },
    {
      "cell_type": "code",
      "execution_count": 82,
      "metadata": {
        "id": "-RVPxk-Hdhpz",
        "colab": {
          "base_uri": "https://localhost:8080/"
        },
        "outputId": "95768caf-bace-47c5-fd6c-947cc225fdef"
      },
      "outputs": [
        {
          "output_type": "stream",
          "name": "stdout",
          "text": [
            "Correct! You earned 4/4 points. You are a star!\n",
            "\n",
            "Your submission has been successfully recorded in the gradebook.\n"
          ]
        }
      ],
      "source": [
        "# PennGrader - DO NOT CHANGE\n",
        "labels = loadTest(\"./labels.txt\", True)\n",
        "grader.grade(test_case_id = 'testTestSet', answer = labels)"
      ]
    },
    {
      "cell_type": "markdown",
      "metadata": {
        "id": "oQWRcGrTo3Ib"
      },
      "source": [
        "# Section 2: Text Generation"
      ]
    },
    {
      "cell_type": "markdown",
      "metadata": {
        "id": "n2S7hSDfo8Pd"
      },
      "source": [
        "In this section, you will be following more PyTorch tutorial code in order to reproduce Karpathy’s text generation results. Read through the tutorial [here](http://pytorch.org/tutorials/intermediate/char_rnn_generation_tutorial.html) to get an understanding for the neural architecture, and then download [this iPython notebook](https://github.com/spro/practical-pytorch/tree/master/char-rnn-generation) to base your own code on (it’s a bit easier to follow than the former).\n",
        "\n",
        "You will notice that the code is quite similar to that of the classification problem. The biggest difference is in the loss function. For classification, we run the entire sequence through the RNN and then impose a loss only on the final class prediction. For the text generation task, we impose a loss at each step of the RNN on the predicted character. The classes in this second task are the possible characters to predict."
      ]
    },
    {
      "cell_type": "markdown",
      "metadata": {
        "id": "bh8fQ-PlpGol"
      },
      "source": [
        "## **Experimenting with your own dataset**\n",
        "\n",
        "Be creative! Pick some dataset that interests you. Here are some ideas:\n",
        "\n",
        " - [ABC music format](https://raw.githubusercontent.com/rdeese/tunearch-corpus/master/all-abcs.txt)\n",
        " - [Donald Trump speeches](https://github.com/ryanmcdermott/trump-speeches)\n",
        " - [Webster dictionary](http://www.gutenberg.org/cache/epub/29765/pg29765.txt)\n",
        " - [Jane Austen novels](http://www.gutenberg.org/files/31100/31100.txt)\n",
        "\n",
        "Potential extra credit will be given for creative and impressive methods of curating a text dataset for generation!"
      ]
    },
    {
      "cell_type": "markdown",
      "source": [
        "### **Task 2.1**: Follow Karpathy's text generation and Experiment with your own dataset"
      ],
      "metadata": {
        "id": "YciZWKmuil2I"
      }
    },
    {
      "cell_type": "code",
      "source": [],
      "metadata": {
        "id": "r1F7tLZ4nZdB"
      },
      "execution_count": null,
      "outputs": []
    },
    {
      "cell_type": "markdown",
      "metadata": {
        "id": "jpzV2xanpcBj"
      },
      "source": [
        "### **Task 2.2**\n",
        "\n",
        "In your report, include a sample of the text generated by your model, and give a qualitative discussion of the results. Where does it do well? Where does it seem to fail? Report perplexity on a couple validation texts that are similar and different to the training data. Compare your model’s results to that of an n-gram language model."
      ]
    },
    {
      "cell_type": "code",
      "source": [],
      "metadata": {
        "id": "jCcPciPukDva"
      },
      "execution_count": null,
      "outputs": []
    },
    {
      "cell_type": "markdown",
      "metadata": {
        "id": "z0yHNsBJpobw"
      },
      "source": [
        "# Submission\n",
        "### Congratulation on finishing your homework! Here are the deliverables you need to submit to GradeScope:\n",
        "\n",
        "  - writeup.pdf: including Task 1.5, 1.6, 1.7, 1.8, 1.9, 2.2\n",
        "  - This .ipynb notebook\n",
        "  - `labels.txt` - predictions for leaderboard."
      ]
    }
  ],
  "metadata": {
    "colab": {
      "provenance": [],
      "gpuType": "T4",
      "include_colab_link": true
    },
    "kernelspec": {
      "display_name": "Python 3",
      "name": "python3"
    },
    "language_info": {
      "name": "python"
    }
  },
  "nbformat": 4,
  "nbformat_minor": 0
}